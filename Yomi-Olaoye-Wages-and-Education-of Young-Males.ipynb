{
 "cells": [
  {
   "cell_type": "markdown",
   "id": "140456b8",
   "metadata": {},
   "source": [
    "### Wages and Education of Young Males\t"
   ]
  },
  {
   "cell_type": "code",
   "execution_count": 426,
   "id": "2a5f5e72",
   "metadata": {
    "ExecuteTime": {
     "end_time": "2023-07-19T00:44:49.053237Z",
     "start_time": "2023-07-19T00:44:49.025142Z"
    }
   },
   "outputs": [],
   "source": [
    "# Dataset: https://vincentarelbundock.github.io/Rdatasets/csv/plm/Males.csv\n",
    "\n",
    "# Dataset info: https://vincentarelbundock.github.io/Rdatasets/doc/plm/Males.html"
   ]
  },
  {
   "cell_type": "code",
   "execution_count": null,
   "id": "f20f684c",
   "metadata": {
    "ExecuteTime": {
     "end_time": "2023-07-18T22:48:43.158757Z",
     "start_time": "2023-07-18T22:48:43.130659Z"
    }
   },
   "outputs": [
    {
     "ename": "",
     "evalue": "",
     "output_type": "error",
     "traceback": [
      "\u001b[1;31mRunning cells with '/usr/bin/python3' requires the ipykernel package.\n",
      "\u001b[1;31mRun the following command to install 'ipykernel' into the Python environment. \n",
      "\u001b[1;31mCommand: '/usr/bin/python3 -m pip install ipykernel -U --user --force-reinstall'"
     ]
    }
   ],
   "source": [
    "import pandas as pd\n",
    "\n",
    "males_data = pd.read_csv('datasets/males_data.csv')"
   ]
  },
  {
   "cell_type": "code",
   "execution_count": 23,
   "id": "141763a5",
   "metadata": {
    "ExecuteTime": {
     "end_time": "2023-07-16T00:01:21.242373Z",
     "start_time": "2023-07-16T00:01:21.234514Z"
    }
   },
   "outputs": [
    {
     "data": {
      "text/plain": [
       "Index(['Unnamed: 0', 'nr', 'year', 'school', 'exper', 'union', 'ethn',\n",
       "       'married', 'health', 'wage', 'industry', 'occupation', 'residence'],\n",
       "      dtype='object')"
      ]
     },
     "execution_count": 23,
     "metadata": {},
     "output_type": "execute_result"
    }
   ],
   "source": [
    "males_data.columns"
   ]
  },
  {
   "cell_type": "code",
   "execution_count": 24,
   "id": "4d4e25ba",
   "metadata": {
    "ExecuteTime": {
     "end_time": "2023-07-16T00:01:23.115728Z",
     "start_time": "2023-07-16T00:01:23.111309Z"
    }
   },
   "outputs": [
    {
     "data": {
      "text/plain": [
       "(4360, 13)"
      ]
     },
     "execution_count": 24,
     "metadata": {},
     "output_type": "execute_result"
    }
   ],
   "source": [
    "males_data.shape"
   ]
  },
  {
   "cell_type": "code",
   "execution_count": 9,
   "id": "23a7ee90",
   "metadata": {
    "ExecuteTime": {
     "end_time": "2023-07-15T23:58:57.629707Z",
     "start_time": "2023-07-15T23:58:57.620545Z"
    }
   },
   "outputs": [],
   "source": [
    "#Question\n",
    "# 1. Relationship between Occupations and wage - what kind of occupations have more wages\n",
    "# 2. Does belonging to a Union mean an higher wage\n",
    "# 3. Does years of experience have an effect on the wages\n",
    "# 4. How many of the males are married and does it have an impact at all"
   ]
  },
  {
   "cell_type": "code",
   "execution_count": 25,
   "id": "d8a6b9e2",
   "metadata": {
    "ExecuteTime": {
     "end_time": "2023-07-16T00:01:41.501921Z",
     "start_time": "2023-07-16T00:01:41.483744Z"
    }
   },
   "outputs": [
    {
     "data": {
      "text/html": [
       "<div>\n",
       "<style scoped>\n",
       "    .dataframe tbody tr th:only-of-type {\n",
       "        vertical-align: middle;\n",
       "    }\n",
       "\n",
       "    .dataframe tbody tr th {\n",
       "        vertical-align: top;\n",
       "    }\n",
       "\n",
       "    .dataframe thead th {\n",
       "        text-align: right;\n",
       "    }\n",
       "</style>\n",
       "<table border=\"1\" class=\"dataframe\">\n",
       "  <thead>\n",
       "    <tr style=\"text-align: right;\">\n",
       "      <th></th>\n",
       "      <th>Unnamed: 0</th>\n",
       "      <th>nr</th>\n",
       "      <th>year</th>\n",
       "      <th>school</th>\n",
       "      <th>exper</th>\n",
       "      <th>union</th>\n",
       "      <th>ethn</th>\n",
       "      <th>married</th>\n",
       "      <th>health</th>\n",
       "      <th>wage</th>\n",
       "      <th>industry</th>\n",
       "      <th>occupation</th>\n",
       "      <th>residence</th>\n",
       "    </tr>\n",
       "  </thead>\n",
       "  <tbody>\n",
       "    <tr>\n",
       "      <th>0</th>\n",
       "      <td>1</td>\n",
       "      <td>13</td>\n",
       "      <td>1980</td>\n",
       "      <td>14</td>\n",
       "      <td>1</td>\n",
       "      <td>no</td>\n",
       "      <td>other</td>\n",
       "      <td>no</td>\n",
       "      <td>no</td>\n",
       "      <td>1.197540</td>\n",
       "      <td>Business_and_Repair_Service</td>\n",
       "      <td>Service_Workers</td>\n",
       "      <td>north_east</td>\n",
       "    </tr>\n",
       "    <tr>\n",
       "      <th>1</th>\n",
       "      <td>2</td>\n",
       "      <td>13</td>\n",
       "      <td>1981</td>\n",
       "      <td>14</td>\n",
       "      <td>2</td>\n",
       "      <td>yes</td>\n",
       "      <td>other</td>\n",
       "      <td>no</td>\n",
       "      <td>no</td>\n",
       "      <td>1.853060</td>\n",
       "      <td>Personal_Service</td>\n",
       "      <td>Service_Workers</td>\n",
       "      <td>north_east</td>\n",
       "    </tr>\n",
       "    <tr>\n",
       "      <th>2</th>\n",
       "      <td>3</td>\n",
       "      <td>13</td>\n",
       "      <td>1982</td>\n",
       "      <td>14</td>\n",
       "      <td>3</td>\n",
       "      <td>no</td>\n",
       "      <td>other</td>\n",
       "      <td>no</td>\n",
       "      <td>no</td>\n",
       "      <td>1.344462</td>\n",
       "      <td>Business_and_Repair_Service</td>\n",
       "      <td>Service_Workers</td>\n",
       "      <td>north_east</td>\n",
       "    </tr>\n",
       "    <tr>\n",
       "      <th>3</th>\n",
       "      <td>4</td>\n",
       "      <td>13</td>\n",
       "      <td>1983</td>\n",
       "      <td>14</td>\n",
       "      <td>4</td>\n",
       "      <td>no</td>\n",
       "      <td>other</td>\n",
       "      <td>no</td>\n",
       "      <td>no</td>\n",
       "      <td>1.433213</td>\n",
       "      <td>Business_and_Repair_Service</td>\n",
       "      <td>Service_Workers</td>\n",
       "      <td>north_east</td>\n",
       "    </tr>\n",
       "    <tr>\n",
       "      <th>4</th>\n",
       "      <td>5</td>\n",
       "      <td>13</td>\n",
       "      <td>1984</td>\n",
       "      <td>14</td>\n",
       "      <td>5</td>\n",
       "      <td>no</td>\n",
       "      <td>other</td>\n",
       "      <td>no</td>\n",
       "      <td>no</td>\n",
       "      <td>1.568125</td>\n",
       "      <td>Personal_Service</td>\n",
       "      <td>Craftsmen, Foremen_and_kindred</td>\n",
       "      <td>north_east</td>\n",
       "    </tr>\n",
       "  </tbody>\n",
       "</table>\n",
       "</div>"
      ],
      "text/plain": [
       "   Unnamed: 0  nr  year  school  exper union   ethn married health      wage  \\\n",
       "0           1  13  1980      14      1    no  other      no     no  1.197540   \n",
       "1           2  13  1981      14      2   yes  other      no     no  1.853060   \n",
       "2           3  13  1982      14      3    no  other      no     no  1.344462   \n",
       "3           4  13  1983      14      4    no  other      no     no  1.433213   \n",
       "4           5  13  1984      14      5    no  other      no     no  1.568125   \n",
       "\n",
       "                      industry                      occupation   residence  \n",
       "0  Business_and_Repair_Service                 Service_Workers  north_east  \n",
       "1             Personal_Service                 Service_Workers  north_east  \n",
       "2  Business_and_Repair_Service                 Service_Workers  north_east  \n",
       "3  Business_and_Repair_Service                 Service_Workers  north_east  \n",
       "4             Personal_Service  Craftsmen, Foremen_and_kindred  north_east  "
      ]
     },
     "execution_count": 25,
     "metadata": {},
     "output_type": "execute_result"
    }
   ],
   "source": [
    "males_data.head()"
   ]
  },
  {
   "cell_type": "code",
   "execution_count": 33,
   "id": "21065493",
   "metadata": {
    "ExecuteTime": {
     "end_time": "2023-07-16T00:04:27.539136Z",
     "start_time": "2023-07-16T00:04:27.532239Z"
    }
   },
   "outputs": [],
   "source": [
    "#Renaming columns\n",
    "males_data.rename(\n",
    "    columns={\n",
    "        \"Unnamed: 0\": \"S/N\",\n",
    "    }, inplace=True)"
   ]
  },
  {
   "cell_type": "code",
   "execution_count": 34,
   "id": "bb6f9144",
   "metadata": {
    "ExecuteTime": {
     "end_time": "2023-07-16T00:04:29.413245Z",
     "start_time": "2023-07-16T00:04:29.405750Z"
    }
   },
   "outputs": [
    {
     "data": {
      "text/plain": [
       "Index(['S/N', 'nr', 'year', 'school', 'exper', 'union', 'ethn', 'married',\n",
       "       'health', 'wage', 'industry', 'occupation', 'residence'],\n",
       "      dtype='object')"
      ]
     },
     "execution_count": 34,
     "metadata": {},
     "output_type": "execute_result"
    }
   ],
   "source": [
    "males_data.columns"
   ]
  },
  {
   "cell_type": "code",
   "execution_count": 35,
   "id": "7867857b",
   "metadata": {
    "ExecuteTime": {
     "end_time": "2023-07-16T00:04:47.009543Z",
     "start_time": "2023-07-16T00:04:46.988663Z"
    }
   },
   "outputs": [
    {
     "data": {
      "text/html": [
       "<div>\n",
       "<style scoped>\n",
       "    .dataframe tbody tr th:only-of-type {\n",
       "        vertical-align: middle;\n",
       "    }\n",
       "\n",
       "    .dataframe tbody tr th {\n",
       "        vertical-align: top;\n",
       "    }\n",
       "\n",
       "    .dataframe thead th {\n",
       "        text-align: right;\n",
       "    }\n",
       "</style>\n",
       "<table border=\"1\" class=\"dataframe\">\n",
       "  <thead>\n",
       "    <tr style=\"text-align: right;\">\n",
       "      <th></th>\n",
       "      <th>S/N</th>\n",
       "      <th>nr</th>\n",
       "      <th>year</th>\n",
       "      <th>school</th>\n",
       "      <th>exper</th>\n",
       "      <th>union</th>\n",
       "      <th>ethn</th>\n",
       "      <th>married</th>\n",
       "      <th>health</th>\n",
       "      <th>wage</th>\n",
       "      <th>industry</th>\n",
       "      <th>occupation</th>\n",
       "      <th>residence</th>\n",
       "    </tr>\n",
       "  </thead>\n",
       "  <tbody>\n",
       "    <tr>\n",
       "      <th>0</th>\n",
       "      <td>1</td>\n",
       "      <td>13</td>\n",
       "      <td>1980</td>\n",
       "      <td>14</td>\n",
       "      <td>1</td>\n",
       "      <td>no</td>\n",
       "      <td>other</td>\n",
       "      <td>no</td>\n",
       "      <td>no</td>\n",
       "      <td>1.197540</td>\n",
       "      <td>Business_and_Repair_Service</td>\n",
       "      <td>Service_Workers</td>\n",
       "      <td>north_east</td>\n",
       "    </tr>\n",
       "    <tr>\n",
       "      <th>1</th>\n",
       "      <td>2</td>\n",
       "      <td>13</td>\n",
       "      <td>1981</td>\n",
       "      <td>14</td>\n",
       "      <td>2</td>\n",
       "      <td>yes</td>\n",
       "      <td>other</td>\n",
       "      <td>no</td>\n",
       "      <td>no</td>\n",
       "      <td>1.853060</td>\n",
       "      <td>Personal_Service</td>\n",
       "      <td>Service_Workers</td>\n",
       "      <td>north_east</td>\n",
       "    </tr>\n",
       "    <tr>\n",
       "      <th>2</th>\n",
       "      <td>3</td>\n",
       "      <td>13</td>\n",
       "      <td>1982</td>\n",
       "      <td>14</td>\n",
       "      <td>3</td>\n",
       "      <td>no</td>\n",
       "      <td>other</td>\n",
       "      <td>no</td>\n",
       "      <td>no</td>\n",
       "      <td>1.344462</td>\n",
       "      <td>Business_and_Repair_Service</td>\n",
       "      <td>Service_Workers</td>\n",
       "      <td>north_east</td>\n",
       "    </tr>\n",
       "  </tbody>\n",
       "</table>\n",
       "</div>"
      ],
      "text/plain": [
       "   S/N  nr  year  school  exper union   ethn married health      wage  \\\n",
       "0    1  13  1980      14      1    no  other      no     no  1.197540   \n",
       "1    2  13  1981      14      2   yes  other      no     no  1.853060   \n",
       "2    3  13  1982      14      3    no  other      no     no  1.344462   \n",
       "\n",
       "                      industry       occupation   residence  \n",
       "0  Business_and_Repair_Service  Service_Workers  north_east  \n",
       "1             Personal_Service  Service_Workers  north_east  \n",
       "2  Business_and_Repair_Service  Service_Workers  north_east  "
      ]
     },
     "execution_count": 35,
     "metadata": {},
     "output_type": "execute_result"
    }
   ],
   "source": [
    "males_data.head(3)"
   ]
  },
  {
   "cell_type": "code",
   "execution_count": 36,
   "id": "3571daa2",
   "metadata": {
    "ExecuteTime": {
     "end_time": "2023-07-16T00:05:07.687758Z",
     "start_time": "2023-07-16T00:05:07.679982Z"
    }
   },
   "outputs": [
    {
     "data": {
      "text/plain": [
       "(4360, 13)"
      ]
     },
     "execution_count": 36,
     "metadata": {},
     "output_type": "execute_result"
    }
   ],
   "source": [
    "males_data.shape"
   ]
  },
  {
   "cell_type": "code",
   "execution_count": 37,
   "id": "a23827e1",
   "metadata": {
    "ExecuteTime": {
     "end_time": "2023-07-16T00:05:44.936537Z",
     "start_time": "2023-07-16T00:05:44.898345Z"
    }
   },
   "outputs": [
    {
     "name": "stdout",
     "output_type": "stream",
     "text": [
      "<class 'pandas.core.frame.DataFrame'>\n",
      "RangeIndex: 4360 entries, 0 to 4359\n",
      "Data columns (total 13 columns):\n",
      " #   Column      Non-Null Count  Dtype  \n",
      "---  ------      --------------  -----  \n",
      " 0   S/N         4360 non-null   int64  \n",
      " 1   nr          4360 non-null   int64  \n",
      " 2   year        4360 non-null   int64  \n",
      " 3   school      4360 non-null   int64  \n",
      " 4   exper       4360 non-null   int64  \n",
      " 5   union       4360 non-null   object \n",
      " 6   ethn        4360 non-null   object \n",
      " 7   married     4360 non-null   object \n",
      " 8   health      4360 non-null   object \n",
      " 9   wage        4360 non-null   float64\n",
      " 10  industry    4360 non-null   object \n",
      " 11  occupation  4360 non-null   object \n",
      " 12  residence   3115 non-null   object \n",
      "dtypes: float64(1), int64(5), object(7)\n",
      "memory usage: 442.9+ KB\n"
     ]
    }
   ],
   "source": [
    "males_data.info()"
   ]
  },
  {
   "cell_type": "code",
   "execution_count": 38,
   "id": "2dd2cf0c",
   "metadata": {
    "ExecuteTime": {
     "end_time": "2023-07-16T00:08:41.829214Z",
     "start_time": "2023-07-16T00:08:41.811358Z"
    }
   },
   "outputs": [
    {
     "data": {
      "text/plain": [
       "industry\n",
       "Manufacturing                       1231\n",
       "Trade                               1169\n",
       "Professional_and_Related Service     333\n",
       "Business_and_Repair_Service          331\n",
       "Construction                         327\n",
       "Transportation                       286\n",
       "Public_Administration                175\n",
       "Finance                              161\n",
       "Agricultural                         140\n",
       "Personal_Service                      73\n",
       "Mining                                68\n",
       "Entertainment                         66\n",
       "Name: count, dtype: int64"
      ]
     },
     "execution_count": 38,
     "metadata": {},
     "output_type": "execute_result"
    }
   ],
   "source": [
    "#Grouping and Aggregating Data\n",
    "males_data['industry'].value_counts()"
   ]
  },
  {
   "cell_type": "code",
   "execution_count": 39,
   "id": "9646f3d7",
   "metadata": {
    "ExecuteTime": {
     "end_time": "2023-07-16T00:09:08.980210Z",
     "start_time": "2023-07-16T00:09:08.958060Z"
    }
   },
   "outputs": [
    {
     "data": {
      "text/plain": [
       "occupation\n",
       "Craftsmen, Foremen_and_kindred         934\n",
       "Operatives_and_kindred                 881\n",
       "Service_Workers                        509\n",
       "Clerical_and_kindred                   486\n",
       "Professional, Technical_and_kindred    453\n",
       "Laborers_and_farmers                   401\n",
       "Managers, Officials_and_Proprietors    399\n",
       "Sales_Workers                          233\n",
       "Farm_Laborers_and_Foreman               64\n",
       "Name: count, dtype: int64"
      ]
     },
     "execution_count": 39,
     "metadata": {},
     "output_type": "execute_result"
    }
   ],
   "source": [
    "#Grouping and Aggregating Data\n",
    "males_data['occupation'].value_counts()"
   ]
  },
  {
   "cell_type": "code",
   "execution_count": 40,
   "id": "3c61d27e",
   "metadata": {
    "ExecuteTime": {
     "end_time": "2023-07-16T00:09:46.506458Z",
     "start_time": "2023-07-16T00:09:46.485931Z"
    }
   },
   "outputs": [
    {
     "data": {
      "text/plain": [
       "residence\n",
       "south              1333\n",
       "nothern_central     964\n",
       "north_east          733\n",
       "rural_area           85\n",
       "Name: count, dtype: int64"
      ]
     },
     "execution_count": 40,
     "metadata": {},
     "output_type": "execute_result"
    }
   ],
   "source": [
    "#Grouping and Aggregating Data\n",
    "males_data['residence'].value_counts()"
   ]
  },
  {
   "cell_type": "code",
   "execution_count": 41,
   "id": "2386a809",
   "metadata": {
    "ExecuteTime": {
     "end_time": "2023-07-16T00:10:20.022720Z",
     "start_time": "2023-07-16T00:10:19.962994Z"
    }
   },
   "outputs": [
    {
     "data": {
      "text/plain": [
       "married\n",
       "no     2446\n",
       "yes    1914\n",
       "Name: count, dtype: int64"
      ]
     },
     "execution_count": 41,
     "metadata": {},
     "output_type": "execute_result"
    }
   ],
   "source": [
    "#Grouping and Aggregating Data\n",
    "males_data['married'].value_counts()"
   ]
  },
  {
   "cell_type": "code",
   "execution_count": 42,
   "id": "3619a87f",
   "metadata": {
    "ExecuteTime": {
     "end_time": "2023-07-16T00:12:55.838812Z",
     "start_time": "2023-07-16T00:12:55.772541Z"
    }
   },
   "outputs": [
    {
     "data": {
      "text/html": [
       "<div>\n",
       "<style scoped>\n",
       "    .dataframe tbody tr th:only-of-type {\n",
       "        vertical-align: middle;\n",
       "    }\n",
       "\n",
       "    .dataframe tbody tr th {\n",
       "        vertical-align: top;\n",
       "    }\n",
       "\n",
       "    .dataframe thead th {\n",
       "        text-align: right;\n",
       "    }\n",
       "</style>\n",
       "<table border=\"1\" class=\"dataframe\">\n",
       "  <thead>\n",
       "    <tr style=\"text-align: right;\">\n",
       "      <th></th>\n",
       "      <th>S/N</th>\n",
       "      <th>nr</th>\n",
       "      <th>year</th>\n",
       "      <th>school</th>\n",
       "      <th>exper</th>\n",
       "      <th>union</th>\n",
       "      <th>ethn</th>\n",
       "      <th>married</th>\n",
       "      <th>health</th>\n",
       "      <th>wage</th>\n",
       "      <th>industry</th>\n",
       "      <th>occupation</th>\n",
       "      <th>residence</th>\n",
       "    </tr>\n",
       "  </thead>\n",
       "  <tbody>\n",
       "    <tr>\n",
       "      <th>0</th>\n",
       "      <td>False</td>\n",
       "      <td>False</td>\n",
       "      <td>False</td>\n",
       "      <td>False</td>\n",
       "      <td>False</td>\n",
       "      <td>False</td>\n",
       "      <td>False</td>\n",
       "      <td>False</td>\n",
       "      <td>False</td>\n",
       "      <td>False</td>\n",
       "      <td>False</td>\n",
       "      <td>False</td>\n",
       "      <td>False</td>\n",
       "    </tr>\n",
       "    <tr>\n",
       "      <th>1</th>\n",
       "      <td>False</td>\n",
       "      <td>False</td>\n",
       "      <td>False</td>\n",
       "      <td>False</td>\n",
       "      <td>False</td>\n",
       "      <td>False</td>\n",
       "      <td>False</td>\n",
       "      <td>False</td>\n",
       "      <td>False</td>\n",
       "      <td>False</td>\n",
       "      <td>False</td>\n",
       "      <td>False</td>\n",
       "      <td>False</td>\n",
       "    </tr>\n",
       "    <tr>\n",
       "      <th>2</th>\n",
       "      <td>False</td>\n",
       "      <td>False</td>\n",
       "      <td>False</td>\n",
       "      <td>False</td>\n",
       "      <td>False</td>\n",
       "      <td>False</td>\n",
       "      <td>False</td>\n",
       "      <td>False</td>\n",
       "      <td>False</td>\n",
       "      <td>False</td>\n",
       "      <td>False</td>\n",
       "      <td>False</td>\n",
       "      <td>False</td>\n",
       "    </tr>\n",
       "    <tr>\n",
       "      <th>3</th>\n",
       "      <td>False</td>\n",
       "      <td>False</td>\n",
       "      <td>False</td>\n",
       "      <td>False</td>\n",
       "      <td>False</td>\n",
       "      <td>False</td>\n",
       "      <td>False</td>\n",
       "      <td>False</td>\n",
       "      <td>False</td>\n",
       "      <td>False</td>\n",
       "      <td>False</td>\n",
       "      <td>False</td>\n",
       "      <td>False</td>\n",
       "    </tr>\n",
       "    <tr>\n",
       "      <th>4</th>\n",
       "      <td>False</td>\n",
       "      <td>False</td>\n",
       "      <td>False</td>\n",
       "      <td>False</td>\n",
       "      <td>False</td>\n",
       "      <td>False</td>\n",
       "      <td>False</td>\n",
       "      <td>False</td>\n",
       "      <td>False</td>\n",
       "      <td>False</td>\n",
       "      <td>False</td>\n",
       "      <td>False</td>\n",
       "      <td>False</td>\n",
       "    </tr>\n",
       "    <tr>\n",
       "      <th>...</th>\n",
       "      <td>...</td>\n",
       "      <td>...</td>\n",
       "      <td>...</td>\n",
       "      <td>...</td>\n",
       "      <td>...</td>\n",
       "      <td>...</td>\n",
       "      <td>...</td>\n",
       "      <td>...</td>\n",
       "      <td>...</td>\n",
       "      <td>...</td>\n",
       "      <td>...</td>\n",
       "      <td>...</td>\n",
       "      <td>...</td>\n",
       "    </tr>\n",
       "    <tr>\n",
       "      <th>4355</th>\n",
       "      <td>False</td>\n",
       "      <td>False</td>\n",
       "      <td>False</td>\n",
       "      <td>False</td>\n",
       "      <td>False</td>\n",
       "      <td>False</td>\n",
       "      <td>False</td>\n",
       "      <td>False</td>\n",
       "      <td>False</td>\n",
       "      <td>False</td>\n",
       "      <td>False</td>\n",
       "      <td>False</td>\n",
       "      <td>True</td>\n",
       "    </tr>\n",
       "    <tr>\n",
       "      <th>4356</th>\n",
       "      <td>False</td>\n",
       "      <td>False</td>\n",
       "      <td>False</td>\n",
       "      <td>False</td>\n",
       "      <td>False</td>\n",
       "      <td>False</td>\n",
       "      <td>False</td>\n",
       "      <td>False</td>\n",
       "      <td>False</td>\n",
       "      <td>False</td>\n",
       "      <td>False</td>\n",
       "      <td>False</td>\n",
       "      <td>True</td>\n",
       "    </tr>\n",
       "    <tr>\n",
       "      <th>4357</th>\n",
       "      <td>False</td>\n",
       "      <td>False</td>\n",
       "      <td>False</td>\n",
       "      <td>False</td>\n",
       "      <td>False</td>\n",
       "      <td>False</td>\n",
       "      <td>False</td>\n",
       "      <td>False</td>\n",
       "      <td>False</td>\n",
       "      <td>False</td>\n",
       "      <td>False</td>\n",
       "      <td>False</td>\n",
       "      <td>True</td>\n",
       "    </tr>\n",
       "    <tr>\n",
       "      <th>4358</th>\n",
       "      <td>False</td>\n",
       "      <td>False</td>\n",
       "      <td>False</td>\n",
       "      <td>False</td>\n",
       "      <td>False</td>\n",
       "      <td>False</td>\n",
       "      <td>False</td>\n",
       "      <td>False</td>\n",
       "      <td>False</td>\n",
       "      <td>False</td>\n",
       "      <td>False</td>\n",
       "      <td>False</td>\n",
       "      <td>True</td>\n",
       "    </tr>\n",
       "    <tr>\n",
       "      <th>4359</th>\n",
       "      <td>False</td>\n",
       "      <td>False</td>\n",
       "      <td>False</td>\n",
       "      <td>False</td>\n",
       "      <td>False</td>\n",
       "      <td>False</td>\n",
       "      <td>False</td>\n",
       "      <td>False</td>\n",
       "      <td>False</td>\n",
       "      <td>False</td>\n",
       "      <td>False</td>\n",
       "      <td>False</td>\n",
       "      <td>True</td>\n",
       "    </tr>\n",
       "  </tbody>\n",
       "</table>\n",
       "<p>4360 rows × 13 columns</p>\n",
       "</div>"
      ],
      "text/plain": [
       "        S/N     nr   year  school  exper  union   ethn  married  health  \\\n",
       "0     False  False  False   False  False  False  False    False   False   \n",
       "1     False  False  False   False  False  False  False    False   False   \n",
       "2     False  False  False   False  False  False  False    False   False   \n",
       "3     False  False  False   False  False  False  False    False   False   \n",
       "4     False  False  False   False  False  False  False    False   False   \n",
       "...     ...    ...    ...     ...    ...    ...    ...      ...     ...   \n",
       "4355  False  False  False   False  False  False  False    False   False   \n",
       "4356  False  False  False   False  False  False  False    False   False   \n",
       "4357  False  False  False   False  False  False  False    False   False   \n",
       "4358  False  False  False   False  False  False  False    False   False   \n",
       "4359  False  False  False   False  False  False  False    False   False   \n",
       "\n",
       "       wage  industry  occupation  residence  \n",
       "0     False     False       False      False  \n",
       "1     False     False       False      False  \n",
       "2     False     False       False      False  \n",
       "3     False     False       False      False  \n",
       "4     False     False       False      False  \n",
       "...     ...       ...         ...        ...  \n",
       "4355  False     False       False       True  \n",
       "4356  False     False       False       True  \n",
       "4357  False     False       False       True  \n",
       "4358  False     False       False       True  \n",
       "4359  False     False       False       True  \n",
       "\n",
       "[4360 rows x 13 columns]"
      ]
     },
     "execution_count": 42,
     "metadata": {},
     "output_type": "execute_result"
    }
   ],
   "source": [
    "#Missing Data: check for missing data\n",
    "males_data.isnull()"
   ]
  },
  {
   "cell_type": "code",
   "execution_count": 43,
   "id": "6aa62469",
   "metadata": {
    "ExecuteTime": {
     "end_time": "2023-07-16T00:13:25.745713Z",
     "start_time": "2023-07-16T00:13:25.731640Z"
    }
   },
   "outputs": [
    {
     "data": {
      "text/plain": [
       "S/N              0\n",
       "nr               0\n",
       "year             0\n",
       "school           0\n",
       "exper            0\n",
       "union            0\n",
       "ethn             0\n",
       "married          0\n",
       "health           0\n",
       "wage             0\n",
       "industry         0\n",
       "occupation       0\n",
       "residence     1245\n",
       "dtype: int64"
      ]
     },
     "execution_count": 43,
     "metadata": {},
     "output_type": "execute_result"
    }
   ],
   "source": [
    "#total number of missing values\n",
    "males_data.isnull().sum()"
   ]
  },
  {
   "cell_type": "code",
   "execution_count": 46,
   "id": "bbbc7cd1",
   "metadata": {
    "ExecuteTime": {
     "end_time": "2023-07-16T00:14:58.081225Z",
     "start_time": "2023-07-16T00:14:58.072926Z"
    }
   },
   "outputs": [
    {
     "data": {
      "text/plain": [
       "array([1.1975402 , 1.85306   , 1.34446168, ..., 1.31160347, 0.83248154,\n",
       "       1.46654289])"
      ]
     },
     "execution_count": 46,
     "metadata": {},
     "output_type": "execute_result"
    }
   ],
   "source": [
    "males_data['wage'].unique()"
   ]
  },
  {
   "cell_type": "code",
   "execution_count": 47,
   "id": "7596f5ff",
   "metadata": {
    "ExecuteTime": {
     "end_time": "2023-07-16T00:16:28.197915Z",
     "start_time": "2023-07-16T00:16:28.179992Z"
    }
   },
   "outputs": [
    {
     "data": {
      "text/plain": [
       "4.0518599506"
      ]
     },
     "execution_count": 47,
     "metadata": {},
     "output_type": "execute_result"
    }
   ],
   "source": [
    "#Filtering\n",
    "males_data['wage'].max() # max wage"
   ]
  },
  {
   "cell_type": "code",
   "execution_count": 48,
   "id": "901fe770",
   "metadata": {
    "ExecuteTime": {
     "end_time": "2023-07-16T00:16:45.103253Z",
     "start_time": "2023-07-16T00:16:45.095975Z"
    }
   },
   "outputs": [
    {
     "data": {
      "text/plain": [
       "-3.579078715"
      ]
     },
     "execution_count": 48,
     "metadata": {},
     "output_type": "execute_result"
    }
   ],
   "source": [
    "males_data['wage'].min() # min wage"
   ]
  },
  {
   "cell_type": "code",
   "execution_count": 49,
   "id": "103814cd",
   "metadata": {
    "ExecuteTime": {
     "end_time": "2023-07-16T01:33:04.848786Z",
     "start_time": "2023-07-16T01:33:04.789594Z"
    }
   },
   "outputs": [],
   "source": [
    "#Checking for outliers in the wage\n",
    "males_data_copy = males_data.copy()"
   ]
  },
  {
   "cell_type": "code",
   "execution_count": 51,
   "id": "110cfa87",
   "metadata": {
    "ExecuteTime": {
     "end_time": "2023-07-16T01:33:43.955580Z",
     "start_time": "2023-07-16T01:33:43.150991Z"
    }
   },
   "outputs": [
    {
     "data": {
      "text/plain": [
       "<Axes: xlabel='wage'>"
      ]
     },
     "execution_count": 51,
     "metadata": {},
     "output_type": "execute_result"
    },
    {
     "data": {
      "image/png": "[encoded data removed]",
      "text/plain": [
       "<Figure size 640x480 with 1 Axes>"
      ]
     },
     "metadata": {},
     "output_type": "display_data"
    }
   ],
   "source": [
    "#box plot\n",
    "import seaborn as sns\n",
    "sns.boxplot(data=males_data_copy, x='wage')"
   ]
  },
  {
   "cell_type": "code",
   "execution_count": 52,
   "id": "e70ba72a",
   "metadata": {
    "ExecuteTime": {
     "end_time": "2023-07-16T01:34:22.700594Z",
     "start_time": "2023-07-16T01:34:22.670980Z"
    }
   },
   "outputs": [
    {
     "data": {
      "text/plain": [
       "count    4360.000000\n",
       "mean        1.649147\n",
       "std         0.532609\n",
       "min        -3.579079\n",
       "25%         1.350717\n",
       "50%         1.671143\n",
       "75%         1.991086\n",
       "max         4.051860\n",
       "Name: wage, dtype: float64"
      ]
     },
     "execution_count": 52,
     "metadata": {},
     "output_type": "execute_result"
    }
   ],
   "source": [
    "males_data_copy['wage'].describe()"
   ]
  },
  {
   "cell_type": "code",
   "execution_count": 55,
   "id": "bfbe496f",
   "metadata": {
    "ExecuteTime": {
     "end_time": "2023-07-16T01:36:03.061123Z",
     "start_time": "2023-07-16T01:36:02.941101Z"
    }
   },
   "outputs": [
    {
     "data": {
      "text/plain": [
       "<Axes: xlabel='wage', ylabel='occupation'>"
      ]
     },
     "execution_count": 55,
     "metadata": {},
     "output_type": "execute_result"
    },
    {
     "data": {
      "image/png": "[encoded data removed]",
      "text/plain": [
       "<Figure size 640x480 with 1 Axes>"
      ]
     },
     "metadata": {},
     "output_type": "display_data"
    }
   ],
   "source": [
    "#scatter plot - to see a relationship between wage and occupation variables and also view outliers\n",
    "sns.scatterplot(data=males_data_copy, x='wage', y='occupation')"
   ]
  },
  {
   "cell_type": "code",
   "execution_count": 56,
   "id": "178fc525",
   "metadata": {
    "ExecuteTime": {
     "end_time": "2023-07-16T21:00:44.296422Z",
     "start_time": "2023-07-16T21:00:44.044770Z"
    }
   },
   "outputs": [
    {
     "data": {
      "text/plain": [
       "<Axes: xlabel='wage', ylabel='union'>"
      ]
     },
     "execution_count": 56,
     "metadata": {},
     "output_type": "execute_result"
    },
    {
     "data": {
      "image/png": "[encoded data removed]",
      "text/plain": [
       "<Figure size 640x480 with 1 Axes>"
      ]
     },
     "metadata": {},
     "output_type": "display_data"
    }
   ],
   "source": [
    "sns.scatterplot(data=males_data_copy, x='wage', y='union')"
   ]
  },
  {
   "cell_type": "code",
   "execution_count": 57,
   "id": "796081be",
   "metadata": {
    "ExecuteTime": {
     "end_time": "2023-07-16T21:01:22.060176Z",
     "start_time": "2023-07-16T21:01:21.941004Z"
    }
   },
   "outputs": [
    {
     "data": {
      "text/plain": [
       "<Axes: xlabel='wage', ylabel='union'>"
      ]
     },
     "execution_count": 57,
     "metadata": {},
     "output_type": "execute_result"
    },
    {
     "data": {
      "image/png": "[encoded data removed]",
      "text/plain": [
       "<Figure size 640x480 with 1 Axes>"
      ]
     },
     "metadata": {},
     "output_type": "display_data"
    }
   ],
   "source": [
    "sns.boxplot(data=males_data_copy, x='wage', y='union')"
   ]
  },
  {
   "cell_type": "code",
   "execution_count": 58,
   "id": "ec2154e6",
   "metadata": {
    "ExecuteTime": {
     "end_time": "2023-07-16T21:16:25.937481Z",
     "start_time": "2023-07-16T21:16:25.658017Z"
    }
   },
   "outputs": [
    {
     "data": {
      "text/plain": [
       "<seaborn.axisgrid.FacetGrid at 0x13739d180>"
      ]
     },
     "execution_count": 58,
     "metadata": {},
     "output_type": "execute_result"
    },
    {
     "data": {
      "image/png": "[encoded data removed]",
      "text/plain": [
       "<Figure size 500x500 with 1 Axes>"
      ]
     },
     "metadata": {},
     "output_type": "display_data"
    }
   ],
   "source": [
    "sns.displot(data=males_data_copy, x='wage', bins=10, kde=False) # kde: kernel density estimate"
   ]
  },
  {
   "cell_type": "markdown",
   "id": "c6787ef8",
   "metadata": {},
   "source": [
    "### Outliers"
   ]
  },
  {
   "cell_type": "code",
   "execution_count": 59,
   "id": "98fe3e6e",
   "metadata": {
    "ExecuteTime": {
     "end_time": "2023-07-16T21:26:36.992939Z",
     "start_time": "2023-07-16T21:26:36.898575Z"
    }
   },
   "outputs": [],
   "source": [
    "males_data_N = males_data.copy()"
   ]
  },
  {
   "cell_type": "code",
   "execution_count": 60,
   "id": "4a85dc30",
   "metadata": {
    "ExecuteTime": {
     "end_time": "2023-07-16T21:28:11.366223Z",
     "start_time": "2023-07-16T21:28:11.330915Z"
    }
   },
   "outputs": [],
   "source": [
    "Q1= males_data_N['wage'].quantile(.25)\n",
    "Q3= males_data_N['wage'].quantile(.75)\n",
    "\n",
    "IQR= Q3 - Q1 #IQR(Inter Quantile Range)same as median"
   ]
  },
  {
   "cell_type": "code",
   "execution_count": 223,
   "id": "7252d8f0",
   "metadata": {
    "ExecuteTime": {
     "end_time": "2023-07-17T01:46:57.383981Z",
     "start_time": "2023-07-17T01:46:57.373089Z"
    }
   },
   "outputs": [
    {
     "name": "stdout",
     "output_type": "stream",
     "text": [
      "IQR(50% percential): 0.6403696160499999, Q1(25% percentile): 1.3507166392, Q3(75% percentile): 1.99108625525, \n"
     ]
    }
   ],
   "source": [
    " print(\n",
    "        f\"IQR(50% percential): {IQR}, Q1(25% percentile): {Q1}, Q3(75% percentile): {Q3}, \",\n",
    "    )"
   ]
  },
  {
   "cell_type": "code",
   "execution_count": 220,
   "id": "85869c26",
   "metadata": {
    "ExecuteTime": {
     "end_time": "2023-07-17T01:43:30.092215Z",
     "start_time": "2023-07-17T01:43:30.087002Z"
    }
   },
   "outputs": [],
   "source": [
    "lower_limit = Q1 - 1.5 * IQR\n",
    "upper_limit = Q3 + 1.5 * IQR"
   ]
  },
  {
   "cell_type": "code",
   "execution_count": 219,
   "id": "151ba5f2",
   "metadata": {
    "ExecuteTime": {
     "end_time": "2023-07-17T01:43:23.223885Z",
     "start_time": "2023-07-17T01:43:23.210139Z"
    }
   },
   "outputs": [
    {
     "data": {
      "text/plain": [
       "(0.39016221512500027, 2.9516406793249996)"
      ]
     },
     "execution_count": 219,
     "metadata": {},
     "output_type": "execute_result"
    }
   ],
   "source": [
    "lower_limit, upper_limit"
   ]
  },
  {
   "cell_type": "code",
   "execution_count": 108,
   "id": "c5d3070e",
   "metadata": {
    "ExecuteTime": {
     "end_time": "2023-07-16T22:56:13.217837Z",
     "start_time": "2023-07-16T22:56:13.205457Z"
    }
   },
   "outputs": [],
   "source": [
    "outlier_upper = males_data_N['wage'] > upper_limit"
   ]
  },
  {
   "cell_type": "code",
   "execution_count": 109,
   "id": "67f72c67",
   "metadata": {
    "ExecuteTime": {
     "end_time": "2023-07-16T22:56:15.764164Z",
     "start_time": "2023-07-16T22:56:15.746734Z"
    }
   },
   "outputs": [
    {
     "data": {
      "text/plain": [
       "0       False\n",
       "1       False\n",
       "2       False\n",
       "3       False\n",
       "4       False\n",
       "        ...  \n",
       "4355    False\n",
       "4356    False\n",
       "4357    False\n",
       "4358    False\n",
       "4359    False\n",
       "Name: wage, Length: 4360, dtype: bool"
      ]
     },
     "execution_count": 109,
     "metadata": {},
     "output_type": "execute_result"
    }
   ],
   "source": [
    "outlier_upper"
   ]
  },
  {
   "cell_type": "code",
   "execution_count": 110,
   "id": "18bd3ea9",
   "metadata": {
    "ExecuteTime": {
     "end_time": "2023-07-16T22:56:19.150339Z",
     "start_time": "2023-07-16T22:56:19.139850Z"
    }
   },
   "outputs": [
    {
     "data": {
      "text/plain": [
       "4332"
      ]
     },
     "execution_count": 110,
     "metadata": {},
     "output_type": "execute_result"
    }
   ],
   "source": [
    "len(males_data_N['wage']) - len(males_data_N['wage'][outlier_upper])"
   ]
  },
  {
   "cell_type": "code",
   "execution_count": 111,
   "id": "903d436f",
   "metadata": {
    "ExecuteTime": {
     "end_time": "2023-07-16T22:56:21.264868Z",
     "start_time": "2023-07-16T22:56:21.257469Z"
    }
   },
   "outputs": [
    {
     "data": {
      "text/plain": [
       "(4360, 13)"
      ]
     },
     "execution_count": 111,
     "metadata": {},
     "output_type": "execute_result"
    }
   ],
   "source": [
    "males_data.shape"
   ]
  },
  {
   "cell_type": "code",
   "execution_count": 114,
   "id": "308b56ad",
   "metadata": {
    "ExecuteTime": {
     "end_time": "2023-07-16T22:58:27.031706Z",
     "start_time": "2023-07-16T22:58:27.016092Z"
    }
   },
   "outputs": [],
   "source": [
    "#data without outliers(upper)\n",
    "males_data_wo_outliers_upper = males_data_N[(~outlier_upper)]"
   ]
  },
  {
   "cell_type": "code",
   "execution_count": 115,
   "id": "ba64b937",
   "metadata": {
    "ExecuteTime": {
     "end_time": "2023-07-16T22:58:36.230687Z",
     "start_time": "2023-07-16T22:58:36.207429Z"
    }
   },
   "outputs": [
    {
     "data": {
      "text/plain": [
       "(4332, 13)"
      ]
     },
     "execution_count": 115,
     "metadata": {},
     "output_type": "execute_result"
    }
   ],
   "source": [
    "males_data_wo_outliers_upper.shape"
   ]
  },
  {
   "cell_type": "code",
   "execution_count": 116,
   "id": "e03c9874",
   "metadata": {
    "ExecuteTime": {
     "end_time": "2023-07-16T22:59:14.953998Z",
     "start_time": "2023-07-16T22:59:14.937452Z"
    }
   },
   "outputs": [],
   "source": [
    "outlier_lower = males_data_wo_outliers_upper['wage'] < lower_limit"
   ]
  },
  {
   "cell_type": "code",
   "execution_count": 133,
   "id": "153f9adf",
   "metadata": {
    "ExecuteTime": {
     "end_time": "2023-07-16T23:09:26.476497Z",
     "start_time": "2023-07-16T23:09:26.454168Z"
    }
   },
   "outputs": [
    {
     "data": {
      "text/plain": [
       "6      -0.720263\n",
       "40      0.258555\n",
       "230     0.114716\n",
       "231     0.312852\n",
       "269    -0.714126\n",
       "          ...   \n",
       "4174   -0.228187\n",
       "4216   -0.369078\n",
       "4265   -0.032790\n",
       "4296   -0.815365\n",
       "4304    0.004076\n",
       "Name: wage, Length: 80, dtype: float64"
      ]
     },
     "execution_count": 133,
     "metadata": {},
     "output_type": "execute_result"
    }
   ],
   "source": [
    "#view outliers\n",
    "males_data_wo_outliers_upper['wage'][outlier_lower]"
   ]
  },
  {
   "cell_type": "code",
   "execution_count": 117,
   "id": "52df905c",
   "metadata": {
    "ExecuteTime": {
     "end_time": "2023-07-16T22:59:47.586045Z",
     "start_time": "2023-07-16T22:59:47.564652Z"
    }
   },
   "outputs": [
    {
     "data": {
      "text/plain": [
       "4252"
      ]
     },
     "execution_count": 117,
     "metadata": {},
     "output_type": "execute_result"
    }
   ],
   "source": [
    "len(males_data_wo_outliers_upper['wage']) - len(males_data_wo_outliers_upper['wage'][outlier_lower])"
   ]
  },
  {
   "cell_type": "code",
   "execution_count": 118,
   "id": "663ea331",
   "metadata": {
    "ExecuteTime": {
     "end_time": "2023-07-16T23:00:32.618603Z",
     "start_time": "2023-07-16T23:00:32.596952Z"
    }
   },
   "outputs": [],
   "source": [
    "#data without outliers(lower)\n",
    "males_data_wo_outliers_lower = males_data_wo_outliers_upper[(~outlier_lower)]"
   ]
  },
  {
   "cell_type": "code",
   "execution_count": 165,
   "id": "f7b7ca1a",
   "metadata": {
    "ExecuteTime": {
     "end_time": "2023-07-16T23:40:09.159831Z",
     "start_time": "2023-07-16T23:40:09.152341Z"
    }
   },
   "outputs": [
    {
     "data": {
      "text/plain": [
       "(4252, 13)"
      ]
     },
     "execution_count": 165,
     "metadata": {},
     "output_type": "execute_result"
    }
   ],
   "source": [
    "males_data_wo_outliers_lower.shape"
   ]
  },
  {
   "cell_type": "code",
   "execution_count": 166,
   "id": "7e533534",
   "metadata": {
    "ExecuteTime": {
     "end_time": "2023-07-16T23:40:11.283602Z",
     "start_time": "2023-07-16T23:40:11.274463Z"
    }
   },
   "outputs": [],
   "source": [
    "maled_data_wo_outliers = males_data_wo_outliers_lower.copy()"
   ]
  },
  {
   "cell_type": "code",
   "execution_count": 170,
   "id": "e36ca8e5",
   "metadata": {
    "ExecuteTime": {
     "end_time": "2023-07-16T23:40:54.068712Z",
     "start_time": "2023-07-16T23:40:54.027752Z"
    }
   },
   "outputs": [
    {
     "data": {
      "text/html": [
       "<div>\n",
       "<style scoped>\n",
       "    .dataframe tbody tr th:only-of-type {\n",
       "        vertical-align: middle;\n",
       "    }\n",
       "\n",
       "    .dataframe tbody tr th {\n",
       "        vertical-align: top;\n",
       "    }\n",
       "\n",
       "    .dataframe thead th {\n",
       "        text-align: right;\n",
       "    }\n",
       "</style>\n",
       "<table border=\"1\" class=\"dataframe\">\n",
       "  <thead>\n",
       "    <tr style=\"text-align: right;\">\n",
       "      <th></th>\n",
       "      <th>S/N</th>\n",
       "      <th>nr</th>\n",
       "      <th>year</th>\n",
       "      <th>school</th>\n",
       "      <th>exper</th>\n",
       "      <th>union</th>\n",
       "      <th>ethn</th>\n",
       "      <th>married</th>\n",
       "      <th>health</th>\n",
       "      <th>wage</th>\n",
       "      <th>industry</th>\n",
       "      <th>occupation</th>\n",
       "      <th>residence</th>\n",
       "    </tr>\n",
       "  </thead>\n",
       "  <tbody>\n",
       "    <tr>\n",
       "      <th>0</th>\n",
       "      <td>1</td>\n",
       "      <td>13</td>\n",
       "      <td>1980</td>\n",
       "      <td>14</td>\n",
       "      <td>1</td>\n",
       "      <td>no</td>\n",
       "      <td>other</td>\n",
       "      <td>no</td>\n",
       "      <td>no</td>\n",
       "      <td>1.197540</td>\n",
       "      <td>Business_and_Repair_Service</td>\n",
       "      <td>Service_Workers</td>\n",
       "      <td>north_east</td>\n",
       "    </tr>\n",
       "    <tr>\n",
       "      <th>1</th>\n",
       "      <td>2</td>\n",
       "      <td>13</td>\n",
       "      <td>1981</td>\n",
       "      <td>14</td>\n",
       "      <td>2</td>\n",
       "      <td>yes</td>\n",
       "      <td>other</td>\n",
       "      <td>no</td>\n",
       "      <td>no</td>\n",
       "      <td>1.853060</td>\n",
       "      <td>Personal_Service</td>\n",
       "      <td>Service_Workers</td>\n",
       "      <td>north_east</td>\n",
       "    </tr>\n",
       "    <tr>\n",
       "      <th>2</th>\n",
       "      <td>3</td>\n",
       "      <td>13</td>\n",
       "      <td>1982</td>\n",
       "      <td>14</td>\n",
       "      <td>3</td>\n",
       "      <td>no</td>\n",
       "      <td>other</td>\n",
       "      <td>no</td>\n",
       "      <td>no</td>\n",
       "      <td>1.344462</td>\n",
       "      <td>Business_and_Repair_Service</td>\n",
       "      <td>Service_Workers</td>\n",
       "      <td>north_east</td>\n",
       "    </tr>\n",
       "  </tbody>\n",
       "</table>\n",
       "</div>"
      ],
      "text/plain": [
       "   S/N  nr  year  school  exper union   ethn married health      wage  \\\n",
       "0    1  13  1980      14      1    no  other      no     no  1.197540   \n",
       "1    2  13  1981      14      2   yes  other      no     no  1.853060   \n",
       "2    3  13  1982      14      3    no  other      no     no  1.344462   \n",
       "\n",
       "                      industry       occupation   residence  \n",
       "0  Business_and_Repair_Service  Service_Workers  north_east  \n",
       "1             Personal_Service  Service_Workers  north_east  \n",
       "2  Business_and_Repair_Service  Service_Workers  north_east  "
      ]
     },
     "execution_count": 170,
     "metadata": {},
     "output_type": "execute_result"
    }
   ],
   "source": [
    "maled_data_wo_outliers.head(3)"
   ]
  },
  {
   "cell_type": "code",
   "execution_count": 167,
   "id": "fd2c6743",
   "metadata": {
    "ExecuteTime": {
     "end_time": "2023-07-16T23:40:17.451733Z",
     "start_time": "2023-07-16T23:40:17.363286Z"
    }
   },
   "outputs": [
    {
     "data": {
      "text/plain": [
       "<Axes: xlabel='wage'>"
      ]
     },
     "execution_count": 167,
     "metadata": {},
     "output_type": "execute_result"
    },
    {
     "data": {
      "image/png": "[encoded data removed]",
      "text/plain": [
       "<Figure size 640x480 with 1 Axes>"
      ]
     },
     "metadata": {},
     "output_type": "display_data"
    }
   ],
   "source": [
    "#visiualize without outliers\n",
    "\n",
    "#box plot\n",
    "sns.boxplot(data=maled_data_wo_outliers, x='wage')"
   ]
  },
  {
   "cell_type": "code",
   "execution_count": 171,
   "id": "feeaa9b6",
   "metadata": {
    "ExecuteTime": {
     "end_time": "2023-07-16T23:41:01.572652Z",
     "start_time": "2023-07-16T23:41:01.417366Z"
    },
    "scrolled": true
   },
   "outputs": [
    {
     "data": {
      "text/plain": [
       "<seaborn.axisgrid.FacetGrid at 0x1641e4ee0>"
      ]
     },
     "execution_count": 171,
     "metadata": {},
     "output_type": "execute_result"
    },
    {
     "data": {
      "image/png": "[encoded data removed]",
      "text/plain": [
       "<Figure size 500x500 with 1 Axes>"
      ]
     },
     "metadata": {},
     "output_type": "display_data"
    }
   ],
   "source": [
    "#distribution plot with outliers\n",
    "sns.displot(data=maled_data_wo_outliers, x='wage', bins=10, kde=False) # kde: kernel density estimate"
   ]
  },
  {
   "cell_type": "code",
   "execution_count": 172,
   "id": "138d856e",
   "metadata": {
    "ExecuteTime": {
     "end_time": "2023-07-16T23:41:05.800895Z",
     "start_time": "2023-07-16T23:41:05.789602Z"
    },
    "scrolled": true
   },
   "outputs": [
    {
     "data": {
      "text/plain": [
       "count    4252.000000\n",
       "mean        1.674625\n",
       "std         0.446291\n",
       "min         0.397348\n",
       "25%         1.372266\n",
       "50%         1.680068\n",
       "75%         1.991017\n",
       "max         2.937463\n",
       "Name: wage, dtype: float64"
      ]
     },
     "execution_count": 172,
     "metadata": {},
     "output_type": "execute_result"
    }
   ],
   "source": [
    "maled_data_wo_outliers['wage'].describe()"
   ]
  },
  {
   "cell_type": "code",
   "execution_count": 173,
   "id": "45b874ee",
   "metadata": {
    "ExecuteTime": {
     "end_time": "2023-07-16T23:41:11.053267Z",
     "start_time": "2023-07-16T23:41:10.952639Z"
    }
   },
   "outputs": [
    {
     "data": {
      "text/plain": [
       "<Axes: xlabel='wage', ylabel='union'>"
      ]
     },
     "execution_count": 173,
     "metadata": {},
     "output_type": "execute_result"
    },
    {
     "data": {
      "image/png": "[encoded data removed]",
      "text/plain": [
       "<Figure size 640x480 with 1 Axes>"
      ]
     },
     "metadata": {},
     "output_type": "display_data"
    }
   ],
   "source": [
    "sns.boxplot(data=maled_data_wo_outliers, x='wage', y='union')"
   ]
  },
  {
   "cell_type": "code",
   "execution_count": 174,
   "id": "a4bd34d3",
   "metadata": {
    "ExecuteTime": {
     "end_time": "2023-07-16T23:41:16.289915Z",
     "start_time": "2023-07-16T23:41:16.126068Z"
    }
   },
   "outputs": [
    {
     "data": {
      "text/plain": [
       "<Axes: xlabel='wage', ylabel='occupation'>"
      ]
     },
     "execution_count": 174,
     "metadata": {},
     "output_type": "execute_result"
    },
    {
     "data": {
      "image/png": "[encoded data removed]",
      "text/plain": [
       "<Figure size 640x480 with 1 Axes>"
      ]
     },
     "metadata": {},
     "output_type": "display_data"
    }
   ],
   "source": [
    "sns.boxplot(data=maled_data_wo_outliers, x='wage', y='occupation')"
   ]
  },
  {
   "cell_type": "code",
   "execution_count": 175,
   "id": "ad1305ac",
   "metadata": {
    "ExecuteTime": {
     "end_time": "2023-07-16T23:41:33.404886Z",
     "start_time": "2023-07-16T23:41:33.235006Z"
    }
   },
   "outputs": [
    {
     "data": {
      "text/plain": [
       "<Axes: xlabel='wage', ylabel='occupation'>"
      ]
     },
     "execution_count": 175,
     "metadata": {},
     "output_type": "execute_result"
    },
    {
     "data": {
      "image/png": "[encoded data removed]",
      "text/plain": [
       "<Figure size 640x480 with 1 Axes>"
      ]
     },
     "metadata": {},
     "output_type": "display_data"
    }
   ],
   "source": [
    "# average_wage_wo_outliers =\n",
    "# sns.displot(data=maled_data_wo_outliers,\n",
    "#             x='wage',\n",
    "#             y='occupation',\n",
    "#             bins=10,\n",
    "#             kde=False)  # kde: kernel density estimate\n",
    "\n",
    "sns.scatterplot(data=maled_data_wo_outliers, x='wage', y='occupation')"
   ]
  },
  {
   "cell_type": "code",
   "execution_count": 177,
   "id": "9d2b1733",
   "metadata": {
    "ExecuteTime": {
     "end_time": "2023-07-16T23:42:22.916598Z",
     "start_time": "2023-07-16T23:42:22.894594Z"
    }
   },
   "outputs": [
    {
     "data": {
      "text/plain": [
       "occupation\n",
       "Craftsmen, Foremen_and_kindred         922\n",
       "Operatives_and_kindred                 865\n",
       "Service_Workers                        494\n",
       "Clerical_and_kindred                   480\n",
       "Professional, Technical_and_kindred    441\n",
       "Laborers_and_farmers                   387\n",
       "Managers, Officials_and_Proprietors    384\n",
       "Sales_Workers                          216\n",
       "Farm_Laborers_and_Foreman               63\n",
       "Name: count, dtype: int64"
      ]
     },
     "execution_count": 177,
     "metadata": {},
     "output_type": "execute_result"
    }
   ],
   "source": [
    "maled_data_wo_outliers['occupation'].value_counts()"
   ]
  },
  {
   "cell_type": "code",
   "execution_count": 178,
   "id": "b3465594",
   "metadata": {
    "ExecuteTime": {
     "end_time": "2023-07-16T23:46:45.606221Z",
     "start_time": "2023-07-16T23:46:45.409017Z"
    }
   },
   "outputs": [
    {
     "data": {
      "text/plain": [
       "<Axes: xlabel='occupation'>"
      ]
     },
     "execution_count": 178,
     "metadata": {},
     "output_type": "execute_result"
    },
    {
     "data": {
      "image/png": "[encoded data removed]",
      "text/plain": [
       "<Figure size 640x480 with 1 Axes>"
      ]
     },
     "metadata": {},
     "output_type": "display_data"
    }
   ],
   "source": [
    "maled_data_wo_outliers.groupby('occupation')['wage'].count().plot(kind='bar')"
   ]
  },
  {
   "cell_type": "code",
   "execution_count": 182,
   "id": "85fea5cb",
   "metadata": {
    "ExecuteTime": {
     "end_time": "2023-07-16T23:51:05.120657Z",
     "start_time": "2023-07-16T23:51:05.104669Z"
    }
   },
   "outputs": [
    {
     "data": {
      "text/plain": [
       "Index([   4,   15,   77,   79,  104,  120,  128,  129,  130,  131,\n",
       "       ...\n",
       "       4349, 4350, 4351, 4353, 4354, 4355, 4356, 4357, 4358, 4359],\n",
       "      dtype='int64', length=922)"
      ]
     },
     "execution_count": 182,
     "metadata": {},
     "output_type": "execute_result"
    }
   ],
   "source": [
    "#group by occupation\n",
    "by_occupation = maled_data_wo_outliers.groupby('occupation')\n",
    "by_occupation.groups['Craftsmen, Foremen_and_kindred']"
   ]
  },
  {
   "cell_type": "code",
   "execution_count": 193,
   "id": "87a43c26",
   "metadata": {
    "ExecuteTime": {
     "end_time": "2023-07-16T23:53:35.893812Z",
     "start_time": "2023-07-16T23:53:35.885283Z"
    }
   },
   "outputs": [
    {
     "data": {
      "text/plain": [
       "1.7371060979939261"
      ]
     },
     "execution_count": 193,
     "metadata": {},
     "output_type": "execute_result"
    }
   ],
   "source": [
    "\n",
    "by_occupation.get_group('Craftsmen, Foremen_and_kindred')['wage'].mean()"
   ]
  },
  {
   "cell_type": "code",
   "execution_count": 198,
   "id": "cd3754fc",
   "metadata": {
    "ExecuteTime": {
     "end_time": "2023-07-17T00:04:59.213213Z",
     "start_time": "2023-07-17T00:04:59.186445Z"
    }
   },
   "outputs": [
    {
     "name": "stdout",
     "output_type": "stream",
     "text": [
      "Craftsmen, Foremen_and_kindred: 1.7371060979939261\n",
      "Operatives_and_kindred: 1.6532486183242776\n",
      "Service_Workers: 1.4779133891651821\n",
      "Clerical_and_kindred: 1.6356162095129165\n",
      "Professional, Technical_and_kindred: 1.878207521249433\n",
      "Laborers_and_farmers: 1.5878998508651163\n",
      "Managers, Officials_and_Proprietors: 1.7679860405083332\n",
      "Sales_Workers: 1.716786087563426\n",
      "Farm_Laborers_and_Foreman: 1.2874761387587301\n"
     ]
    }
   ],
   "source": [
    "#mean wage for each occupation\n",
    "occupations = [\n",
    "    'Craftsmen, Foremen_and_kindred', 'Operatives_and_kindred',\n",
    "    'Service_Workers', 'Clerical_and_kindred',\n",
    "    'Professional, Technical_and_kindred', 'Laborers_and_farmers',\n",
    "    'Managers, Officials_and_Proprietors', 'Sales_Workers',\n",
    "    'Farm_Laborers_and_Foreman'\n",
    "]\n",
    "for single_occupation in occupations:\n",
    "    print(f\"{single_occupation}: {by_occupation.get_group(single_occupation)['wage'].mean()}\")"
   ]
  },
  {
   "cell_type": "code",
   "execution_count": 200,
   "id": "13194cab",
   "metadata": {
    "ExecuteTime": {
     "end_time": "2023-07-17T00:11:13.268261Z",
     "start_time": "2023-07-17T00:11:13.233530Z"
    }
   },
   "outputs": [
    {
     "name": "stdout",
     "output_type": "stream",
     "text": [
      "Craftsmen, Foremen_and_kindred: 1.71186305188576\n",
      "Operatives_and_kindred: 1.615994770191714\n",
      "Service_Workers: 1.4404320572821219\n",
      "Clerical_and_kindred: 1.6200286082514403\n",
      "Professional, Technical_and_kindred: 1.8482016106997794\n",
      "Laborers_and_farmers: 1.5258113933730675\n",
      "Managers, Officials_and_Proprietors: 1.794463246322807\n",
      "Sales_Workers: 1.721383989713734\n",
      "Farm_Laborers_and_Foreman: 1.2662100668875\n"
     ]
    }
   ],
   "source": [
    "#group by occupation - with outliers\n",
    "by_occupation_w_outliers = males_data.groupby('occupation')\n",
    "#mean wage for each occupation\n",
    "occupations = [\n",
    "    'Craftsmen, Foremen_and_kindred', 'Operatives_and_kindred',\n",
    "    'Service_Workers', 'Clerical_and_kindred',\n",
    "    'Professional, Technical_and_kindred', 'Laborers_and_farmers',\n",
    "    'Managers, Officials_and_Proprietors', 'Sales_Workers',\n",
    "    'Farm_Laborers_and_Foreman'\n",
    "]\n",
    "for single_occupation in occupations:\n",
    "    print(f\"{single_occupation}: {by_occupation_w_outliers.get_group(single_occupation)['wage'].mean()}\")"
   ]
  },
  {
   "cell_type": "code",
   "execution_count": 201,
   "id": "23badd3f",
   "metadata": {
    "ExecuteTime": {
     "end_time": "2023-07-17T00:32:12.366883Z",
     "start_time": "2023-07-17T00:32:12.292074Z"
    }
   },
   "outputs": [
    {
     "name": "stdout",
     "output_type": "stream",
     "text": [
      "Craftsmen, Foremen_and_kindred: 1.7563193307499998\n",
      "Operatives_and_kindred: 1.6577514402\n",
      "Service_Workers: 1.4595418079\n",
      "Clerical_and_kindred: 1.65863357875\n",
      "Professional, Technical_and_kindred: 1.9180031958\n",
      "Laborers_and_farmers: 1.5723854135\n",
      "Managers, Officials_and_Proprietors: 1.76249121175\n",
      "Sales_Workers: 1.67436159605\n",
      "Farm_Laborers_and_Foreman: 1.2780807765\n"
     ]
    }
   ],
   "source": [
    "#median wage for each occupation with outliers\n",
    "by_occupation_w_outliers = males_data.groupby('occupation')\n",
    "occupations = [\n",
    "    'Craftsmen, Foremen_and_kindred', 'Operatives_and_kindred',\n",
    "    'Service_Workers', 'Clerical_and_kindred',\n",
    "    'Professional, Technical_and_kindred', 'Laborers_and_farmers',\n",
    "    'Managers, Officials_and_Proprietors', 'Sales_Workers',\n",
    "    'Farm_Laborers_and_Foreman'\n",
    "]\n",
    "for single_occupation in occupations:\n",
    "    print(f\"{single_occupation}: {by_occupation.get_group(single_occupation)['wage'].median()}\")"
   ]
  },
  {
   "cell_type": "code",
   "execution_count": 203,
   "id": "b2110510",
   "metadata": {
    "ExecuteTime": {
     "end_time": "2023-07-17T00:42:06.696653Z",
     "start_time": "2023-07-17T00:42:06.670466Z"
    }
   },
   "outputs": [
    {
     "name": "stdout",
     "output_type": "stream",
     "text": [
      "Craftsmen, Foremen_and_kindred: 1.7563193307499998\n",
      "Operatives_and_kindred: 1.6577514402\n",
      "Service_Workers: 1.4595418079\n",
      "Clerical_and_kindred: 1.65863357875\n",
      "Professional, Technical_and_kindred: 1.9180031958\n",
      "Laborers_and_farmers: 1.5723854135\n",
      "Managers, Officials_and_Proprietors: 1.76249121175\n",
      "Sales_Workers: 1.67436159605\n",
      "Farm_Laborers_and_Foreman: 1.2780807765\n"
     ]
    }
   ],
   "source": [
    "#median wage for each occupation without outliers\n",
    "by_occupation_wo_outliers = maled_data_wo_outliers.groupby('occupation')\n",
    "occupations = [\n",
    "    'Craftsmen, Foremen_and_kindred', 'Operatives_and_kindred',\n",
    "    'Service_Workers', 'Clerical_and_kindred',\n",
    "    'Professional, Technical_and_kindred', 'Laborers_and_farmers',\n",
    "    'Managers, Officials_and_Proprietors', 'Sales_Workers',\n",
    "    'Farm_Laborers_and_Foreman'\n",
    "]\n",
    "for single_occupation in occupations:\n",
    "    print(f\"{single_occupation}: {by_occupation_wo_outliers.get_group(single_occupation)['wage'].median()}\")"
   ]
  },
  {
   "cell_type": "code",
   "execution_count": 204,
   "id": "648c2122",
   "metadata": {
    "ExecuteTime": {
     "end_time": "2023-07-17T00:49:31.567355Z",
     "start_time": "2023-07-17T00:49:31.537840Z"
    }
   },
   "outputs": [
    {
     "data": {
      "text/plain": [
       "year\n",
       "1980    545\n",
       "1981    545\n",
       "1982    545\n",
       "1983    545\n",
       "1984    545\n",
       "1985    545\n",
       "1986    545\n",
       "1987    545\n",
       "Name: count, dtype: int64"
      ]
     },
     "execution_count": 204,
     "metadata": {},
     "output_type": "execute_result"
    }
   ],
   "source": [
    "males_data['year'].value_counts()"
   ]
  },
  {
   "cell_type": "code",
   "execution_count": 205,
   "id": "c88f348a",
   "metadata": {
    "ExecuteTime": {
     "end_time": "2023-07-17T00:50:30.316428Z",
     "start_time": "2023-07-17T00:50:30.304921Z"
    }
   },
   "outputs": [],
   "source": [
    "by_year = males_data.groupby('year')"
   ]
  },
  {
   "cell_type": "code",
   "execution_count": 212,
   "id": "02123c1e",
   "metadata": {
    "ExecuteTime": {
     "end_time": "2023-07-17T00:56:36.964215Z",
     "start_time": "2023-07-17T00:56:36.952711Z"
    }
   },
   "outputs": [
    {
     "name": "stdout",
     "output_type": "stream",
     "text": [
      "1980: 1.3934769048888074\n",
      "1981: 1.512867114071376\n",
      "1982: 1.571666996406055\n",
      "1983: 1.6192633651831192\n",
      "1984: 1.6902949979779818\n",
      "1985: 1.73941023632789\n",
      "1986: 1.7997186804352294\n",
      "1987: 1.8664792300737614\n"
     ]
    }
   ],
   "source": [
    "#mean wage for each year bracket with outliers\n",
    "by_year = males_data.groupby('year')\n",
    "oberservation_year = [1980, 1981, 1982, 1983, 1984, 1985, 1986, 1987]\n",
    "for single_year in oberservation_year:\n",
    "    print(\n",
    "        f\"{single_year}: {oberservation_year.get_group(single_year)['wage'].mean()}\"\n",
    "    )"
   ]
  },
  {
   "cell_type": "code",
   "execution_count": 213,
   "id": "236d113a",
   "metadata": {
    "ExecuteTime": {
     "end_time": "2023-07-17T01:05:47.169274Z",
     "start_time": "2023-07-17T01:05:47.146235Z"
    }
   },
   "outputs": [],
   "source": [
    "by_birth_year_wo_outliers = maled_data_wo_outliers.groupby('year')"
   ]
  },
  {
   "cell_type": "code",
   "execution_count": 214,
   "id": "2f2fdd0a",
   "metadata": {
    "ExecuteTime": {
     "end_time": "2023-07-17T01:06:28.062070Z",
     "start_time": "2023-07-17T01:06:28.011751Z"
    }
   },
   "outputs": [
    {
     "name": "stdout",
     "output_type": "stream",
     "text": [
      "1980: 1.4720381107080769\n",
      "1981: 1.5718353387728135\n",
      "1982: 1.595242405280075\n",
      "1983: 1.6318734525069158\n",
      "1984: 1.7032625267191095\n",
      "1985: 1.7514375143582397\n",
      "1986: 1.8128305001968044\n",
      "1987: 1.8516641184357678\n"
     ]
    }
   ],
   "source": [
    "#mean wage for each year bracket without wage outliers\n",
    "by_year_wo_outliers = maled_data_wo_outliers.groupby('year')\n",
    "\n",
    "oberservation_year = [1980, 1981, 1982, 1983, 1984, 1985, 1986, 1987]\n",
    "for single_year in oberservation_year:\n",
    "    print(\n",
    "        f\"{single_year}: {by_year_wo_outliers.get_group(single_year)['wage'].mean()}\"\n",
    "    )"
   ]
  },
  {
   "cell_type": "code",
   "execution_count": 215,
   "id": "0f50f281",
   "metadata": {
    "ExecuteTime": {
     "end_time": "2023-07-17T01:21:21.028517Z",
     "start_time": "2023-07-17T01:21:20.954399Z"
    }
   },
   "outputs": [
    {
     "name": "stdout",
     "output_type": "stream",
     "text": [
      "1980: 1.4479995666\n",
      "1981: 1.5570018945\n",
      "1982: 1.5792738085\n",
      "1983: 1.6371174815\n",
      "1984: 1.7036465563\n",
      "1985: 1.7659617764\n",
      "1986: 1.8301627046\n",
      "1987: 1.8923314682\n"
     ]
    }
   ],
   "source": [
    "#median wage for each year bracket with outliers\n",
    "by_year = males_data.groupby('year')\n",
    "oberservation_year = [1980, 1981, 1982, 1983, 1984, 1985, 1986, 1987]\n",
    "for single_year in oberservation_year:\n",
    "    print(\n",
    "        f\"{single_year}: {by_year.get_group(single_year)['wage'].median()}\"\n",
    "    )"
   ]
  },
  {
   "cell_type": "code",
   "execution_count": 217,
   "id": "6409d5a8",
   "metadata": {
    "ExecuteTime": {
     "end_time": "2023-07-17T01:28:57.057807Z",
     "start_time": "2023-07-17T01:28:57.041162Z"
    }
   },
   "outputs": [
    {
     "name": "stdout",
     "output_type": "stream",
     "text": [
      "1980: 1.4627079231\n",
      "1981: 1.57265730865\n",
      "1982: 1.5855308934\n",
      "1983: 1.6383987117\n",
      "1984: 1.7099791417\n",
      "1985: 1.7659617764\n",
      "1986: 1.8302096434\n",
      "1987: 1.8822295307\n"
     ]
    }
   ],
   "source": [
    "#median wage for each year bracket without outliers\n",
    "by_year_wo_outlier = maled_data_wo_outliers.groupby('year')\n",
    "year = [1980, 1981, 1982, 1983, 1984, 1985, 1986, 1987]\n",
    "for single_year in by_year_wo_outlier:\n",
    "    print(\n",
    "        f\"{single_year}: {by_year_wo_outlier.get_group(single_year)['wage'].median()}\"\n",
    "    )"
   ]
  },
  {
   "cell_type": "code",
   "execution_count": null,
   "id": "1b0c776f",
   "metadata": {},
   "outputs": [],
   "source": [
    "by_birth_year_wo_outlier"
   ]
  },
  {
   "cell_type": "code",
   "execution_count": 218,
   "id": "5affe6e9",
   "metadata": {
    "ExecuteTime": {
     "end_time": "2023-07-17T01:41:04.730207Z",
     "start_time": "2023-07-17T01:41:04.695752Z"
    }
   },
   "outputs": [
    {
     "data": {
      "text/html": [
       "<div>\n",
       "<style scoped>\n",
       "    .dataframe tbody tr th:only-of-type {\n",
       "        vertical-align: middle;\n",
       "    }\n",
       "\n",
       "    .dataframe tbody tr th {\n",
       "        vertical-align: top;\n",
       "    }\n",
       "\n",
       "    .dataframe thead th {\n",
       "        text-align: right;\n",
       "    }\n",
       "</style>\n",
       "<table border=\"1\" class=\"dataframe\">\n",
       "  <thead>\n",
       "    <tr style=\"text-align: right;\">\n",
       "      <th></th>\n",
       "      <th>S/N</th>\n",
       "      <th>nr</th>\n",
       "      <th>year</th>\n",
       "      <th>school</th>\n",
       "      <th>exper</th>\n",
       "      <th>union</th>\n",
       "      <th>ethn</th>\n",
       "      <th>married</th>\n",
       "      <th>health</th>\n",
       "      <th>wage</th>\n",
       "      <th>industry</th>\n",
       "      <th>occupation</th>\n",
       "      <th>residence</th>\n",
       "    </tr>\n",
       "  </thead>\n",
       "  <tbody>\n",
       "    <tr>\n",
       "      <th>0</th>\n",
       "      <td>1</td>\n",
       "      <td>13</td>\n",
       "      <td>1980</td>\n",
       "      <td>14</td>\n",
       "      <td>1</td>\n",
       "      <td>no</td>\n",
       "      <td>other</td>\n",
       "      <td>no</td>\n",
       "      <td>no</td>\n",
       "      <td>1.197540</td>\n",
       "      <td>Business_and_Repair_Service</td>\n",
       "      <td>Service_Workers</td>\n",
       "      <td>north_east</td>\n",
       "    </tr>\n",
       "    <tr>\n",
       "      <th>1</th>\n",
       "      <td>2</td>\n",
       "      <td>13</td>\n",
       "      <td>1981</td>\n",
       "      <td>14</td>\n",
       "      <td>2</td>\n",
       "      <td>yes</td>\n",
       "      <td>other</td>\n",
       "      <td>no</td>\n",
       "      <td>no</td>\n",
       "      <td>1.853060</td>\n",
       "      <td>Personal_Service</td>\n",
       "      <td>Service_Workers</td>\n",
       "      <td>north_east</td>\n",
       "    </tr>\n",
       "    <tr>\n",
       "      <th>2</th>\n",
       "      <td>3</td>\n",
       "      <td>13</td>\n",
       "      <td>1982</td>\n",
       "      <td>14</td>\n",
       "      <td>3</td>\n",
       "      <td>no</td>\n",
       "      <td>other</td>\n",
       "      <td>no</td>\n",
       "      <td>no</td>\n",
       "      <td>1.344462</td>\n",
       "      <td>Business_and_Repair_Service</td>\n",
       "      <td>Service_Workers</td>\n",
       "      <td>north_east</td>\n",
       "    </tr>\n",
       "  </tbody>\n",
       "</table>\n",
       "</div>"
      ],
      "text/plain": [
       "   S/N  nr  year  school  exper union   ethn married health      wage  \\\n",
       "0    1  13  1980      14      1    no  other      no     no  1.197540   \n",
       "1    2  13  1981      14      2   yes  other      no     no  1.853060   \n",
       "2    3  13  1982      14      3    no  other      no     no  1.344462   \n",
       "\n",
       "                      industry       occupation   residence  \n",
       "0  Business_and_Repair_Service  Service_Workers  north_east  \n",
       "1             Personal_Service  Service_Workers  north_east  \n",
       "2  Business_and_Repair_Service  Service_Workers  north_east  "
      ]
     },
     "execution_count": 218,
     "metadata": {},
     "output_type": "execute_result"
    }
   ],
   "source": [
    "males_data.head(3)"
   ]
  },
  {
   "cell_type": "code",
   "execution_count": 241,
   "id": "67fb0a90",
   "metadata": {
    "ExecuteTime": {
     "end_time": "2023-07-17T02:23:23.344855Z",
     "start_time": "2023-07-17T02:23:23.149299Z"
    }
   },
   "outputs": [
    {
     "data": {
      "text/plain": [
       "<Axes: xlabel='wage', ylabel='union'>"
      ]
     },
     "execution_count": 241,
     "metadata": {},
     "output_type": "execute_result"
    },
    {
     "data": {
      "image/png": "[encoded data removed]",
      "text/plain": [
       "<Figure size 640x480 with 1 Axes>"
      ]
     },
     "metadata": {},
     "output_type": "display_data"
    }
   ],
   "source": [
    "sns.boxplot(data=maled_data_wo_outliers, x='wage', y='union')"
   ]
  },
  {
   "cell_type": "code",
   "execution_count": 228,
   "id": "2e9b9a38",
   "metadata": {
    "ExecuteTime": {
     "end_time": "2023-07-17T01:52:43.020446Z",
     "start_time": "2023-07-17T01:52:42.998168Z"
    }
   },
   "outputs": [
    {
     "data": {
      "text/plain": [
       "union\n",
       "no     3296\n",
       "yes    1064\n",
       "Name: count, dtype: int64"
      ]
     },
     "execution_count": 228,
     "metadata": {},
     "output_type": "execute_result"
    }
   ],
   "source": [
    "#with outliers\n",
    "males_data['union'].value_counts()"
   ]
  },
  {
   "cell_type": "code",
   "execution_count": 229,
   "id": "59f4943f",
   "metadata": {
    "ExecuteTime": {
     "end_time": "2023-07-17T01:52:44.935501Z",
     "start_time": "2023-07-17T01:52:44.924794Z"
    }
   },
   "outputs": [
    {
     "data": {
      "text/plain": [
       "union\n",
       "no     3202\n",
       "yes    1050\n",
       "Name: count, dtype: int64"
      ]
     },
     "execution_count": 229,
     "metadata": {},
     "output_type": "execute_result"
    }
   ],
   "source": [
    "#without outliers\n",
    "maled_data_wo_outliers['union'].value_counts()"
   ]
  },
  {
   "cell_type": "code",
   "execution_count": 232,
   "id": "97d14732",
   "metadata": {
    "ExecuteTime": {
     "end_time": "2023-07-17T01:56:43.961781Z",
     "start_time": "2023-07-17T01:56:43.932915Z"
    }
   },
   "outputs": [
    {
     "data": {
      "text/plain": [
       "union\n",
       "no     75.6%\n",
       "yes    24.4%\n",
       "Name: proportion, dtype: object"
      ]
     },
     "execution_count": 232,
     "metadata": {},
     "output_type": "execute_result"
    }
   ],
   "source": [
    "#with outliers(%)\n",
    "males_data['union'].value_counts(normalize=True).mul(100).round(1).astype(str) + '%'"
   ]
  },
  {
   "cell_type": "code",
   "execution_count": 231,
   "id": "ee46d4e5",
   "metadata": {
    "ExecuteTime": {
     "end_time": "2023-07-17T01:56:32.317116Z",
     "start_time": "2023-07-17T01:56:32.295201Z"
    }
   },
   "outputs": [
    {
     "data": {
      "text/plain": [
       "union\n",
       "no     75.3%\n",
       "yes    24.7%\n",
       "Name: proportion, dtype: object"
      ]
     },
     "execution_count": 231,
     "metadata": {},
     "output_type": "execute_result"
    }
   ],
   "source": [
    "#without outliers(%)\n",
    "maled_data_wo_outliers['union'].value_counts(normalize=True).mul(100).round(1).astype(str) + '%'"
   ]
  },
  {
   "cell_type": "code",
   "execution_count": 235,
   "id": "7c6f26b7",
   "metadata": {
    "ExecuteTime": {
     "end_time": "2023-07-17T02:01:49.039244Z",
     "start_time": "2023-07-17T02:01:49.004881Z"
    }
   },
   "outputs": [
    {
     "name": "stdout",
     "output_type": "stream",
     "text": [
      "yes: 1.7846643413484962\n",
      "no: 1.605400149310892\n"
     ]
    }
   ],
   "source": [
    "#mean wage for each union assocaition with outliers\n",
    "by_union = males_data.groupby('union')\n",
    "union_list = ['yes', 'no']\n",
    "for single_union in union_list:\n",
    "    print(\n",
    "        f\"{single_union}: {by_union.get_group(single_union)['wage'].mean()}\"\n",
    "    )"
   ]
  },
  {
   "cell_type": "code",
   "execution_count": 236,
   "id": "bcd36d0e",
   "metadata": {
    "ExecuteTime": {
     "end_time": "2023-07-17T02:02:36.290461Z",
     "start_time": "2023-07-17T02:02:36.268574Z"
    }
   },
   "outputs": [
    {
     "name": "stdout",
     "output_type": "stream",
     "text": [
      "yes: 1.8051039083334286\n",
      "no: 1.6318388377985946\n"
     ]
    }
   ],
   "source": [
    "#mean wage for each union assocaition without outliers\n",
    "by_union = maled_data_wo_outliers.groupby('union')\n",
    "union_list = ['yes', 'no']\n",
    "for single_union in union_list:\n",
    "    print(\n",
    "        f\"{single_union}: {by_union.get_group(single_union)['wage'].mean()}\"\n",
    "    )"
   ]
  },
  {
   "cell_type": "code",
   "execution_count": 239,
   "id": "6a10ebd1",
   "metadata": {
    "ExecuteTime": {
     "end_time": "2023-07-17T02:14:39.264870Z",
     "start_time": "2023-07-17T02:14:39.241310Z"
    }
   },
   "outputs": [
    {
     "name": "stdout",
     "output_type": "stream",
     "text": [
      "yes: 1.8309309800000002\n",
      "no: 1.6180078631\n"
     ]
    }
   ],
   "source": [
    "#median wage for each union assocaition with outliers\n",
    "by_union = males_data.groupby('union')\n",
    "union_list = ['yes', 'no']\n",
    "for single_union in union_list:\n",
    "    print(\n",
    "        f\"{single_union}: {by_union.get_group(single_union)['wage'].median()}\"\n",
    "    )"
   ]
  },
  {
   "cell_type": "code",
   "execution_count": 246,
   "id": "96c92ca8",
   "metadata": {
    "ExecuteTime": {
     "end_time": "2023-07-17T02:28:51.922515Z",
     "start_time": "2023-07-17T02:28:51.892749Z"
    }
   },
   "outputs": [
    {
     "name": "stdout",
     "output_type": "stream",
     "text": [
      "yes: 1.8421522481500001\n",
      "no: 1.6242060925000001\n"
     ]
    }
   ],
   "source": [
    "#median wage for each union assocaition without outliers\n",
    "by_union = maled_data_wo_outliers.groupby('union')\n",
    "union_list = ['yes', 'no']\n",
    "for single_union in union_list:\n",
    "    print(\n",
    "        f\"{single_union}: {by_union.get_group(single_union)['wage'].median()}\"\n",
    "    )"
   ]
  },
  {
   "cell_type": "code",
   "execution_count": 242,
   "id": "962a9de7",
   "metadata": {
    "ExecuteTime": {
     "end_time": "2023-07-17T02:23:52.611460Z",
     "start_time": "2023-07-17T02:23:52.433491Z"
    }
   },
   "outputs": [
    {
     "data": {
      "text/plain": [
       "<Axes: xlabel='wage', ylabel='union'>"
      ]
     },
     "execution_count": 242,
     "metadata": {},
     "output_type": "execute_result"
    },
    {
     "data": {
      "image/png": "[encoded data removed]",
      "text/plain": [
       "<Figure size 640x480 with 1 Axes>"
      ]
     },
     "metadata": {},
     "output_type": "display_data"
    }
   ],
   "source": [
    "sns.boxplot(data=males_data, x='wage', y='union')"
   ]
  },
  {
   "cell_type": "code",
   "execution_count": 278,
   "id": "0a24d33e",
   "metadata": {
    "ExecuteTime": {
     "end_time": "2023-07-17T02:50:52.132339Z",
     "start_time": "2023-07-17T02:50:52.115302Z"
    }
   },
   "outputs": [],
   "source": [
    "#wage insight for workers inside a union - with outliers\n",
    "males_data_union = males_data.copy()\n",
    "grouped_males_data_union = males_data_union[males_data_union['union'] == 'yes'].groupby('occupation')"
   ]
  },
  {
   "cell_type": "code",
   "execution_count": 330,
   "id": "27c95fd0",
   "metadata": {
    "ExecuteTime": {
     "end_time": "2023-07-17T03:35:12.506955Z",
     "start_time": "2023-07-17T03:35:12.446966Z"
    }
   },
   "outputs": [
    {
     "data": {
      "text/html": [
       "<div>\n",
       "<style scoped>\n",
       "    .dataframe tbody tr th:only-of-type {\n",
       "        vertical-align: middle;\n",
       "    }\n",
       "\n",
       "    .dataframe tbody tr th {\n",
       "        vertical-align: top;\n",
       "    }\n",
       "\n",
       "    .dataframe thead th {\n",
       "        text-align: right;\n",
       "    }\n",
       "</style>\n",
       "<table border=\"1\" class=\"dataframe\">\n",
       "  <thead>\n",
       "    <tr style=\"text-align: right;\">\n",
       "      <th></th>\n",
       "      <th>count</th>\n",
       "      <th>mean</th>\n",
       "      <th>std</th>\n",
       "      <th>min</th>\n",
       "      <th>25%</th>\n",
       "      <th>50%</th>\n",
       "      <th>75%</th>\n",
       "      <th>max</th>\n",
       "    </tr>\n",
       "    <tr>\n",
       "      <th>occupation</th>\n",
       "      <th></th>\n",
       "      <th></th>\n",
       "      <th></th>\n",
       "      <th></th>\n",
       "      <th></th>\n",
       "      <th></th>\n",
       "      <th></th>\n",
       "      <th></th>\n",
       "    </tr>\n",
       "  </thead>\n",
       "  <tbody>\n",
       "    <tr>\n",
       "      <th>Clerical_and_kindred</th>\n",
       "      <td>127.0</td>\n",
       "      <td>1.877420</td>\n",
       "      <td>0.437399</td>\n",
       "      <td>-0.384582</td>\n",
       "      <td>1.646610</td>\n",
       "      <td>1.935892</td>\n",
       "      <td>2.162233</td>\n",
       "      <td>2.933697</td>\n",
       "    </tr>\n",
       "    <tr>\n",
       "      <th>Craftsmen, Foremen_and_kindred</th>\n",
       "      <td>221.0</td>\n",
       "      <td>1.896458</td>\n",
       "      <td>0.474067</td>\n",
       "      <td>-0.699792</td>\n",
       "      <td>1.682546</td>\n",
       "      <td>1.967356</td>\n",
       "      <td>2.191990</td>\n",
       "      <td>2.786848</td>\n",
       "    </tr>\n",
       "    <tr>\n",
       "      <th>Farm_Laborers_and_Foreman</th>\n",
       "      <td>6.0</td>\n",
       "      <td>1.351832</td>\n",
       "      <td>0.277232</td>\n",
       "      <td>0.890584</td>\n",
       "      <td>1.297340</td>\n",
       "      <td>1.331547</td>\n",
       "      <td>1.511156</td>\n",
       "      <td>1.700352</td>\n",
       "    </tr>\n",
       "    <tr>\n",
       "      <th>Laborers_and_farmers</th>\n",
       "      <td>145.0</td>\n",
       "      <td>1.707704</td>\n",
       "      <td>0.455636</td>\n",
       "      <td>-0.790987</td>\n",
       "      <td>1.448000</td>\n",
       "      <td>1.745894</td>\n",
       "      <td>1.997862</td>\n",
       "      <td>2.733778</td>\n",
       "    </tr>\n",
       "    <tr>\n",
       "      <th>Managers, Officials_and_Proprietors</th>\n",
       "      <td>30.0</td>\n",
       "      <td>1.778801</td>\n",
       "      <td>0.490570</td>\n",
       "      <td>0.560979</td>\n",
       "      <td>1.377356</td>\n",
       "      <td>1.860275</td>\n",
       "      <td>2.039024</td>\n",
       "      <td>3.096216</td>\n",
       "    </tr>\n",
       "    <tr>\n",
       "      <th>Operatives_and_kindred</th>\n",
       "      <td>300.0</td>\n",
       "      <td>1.796132</td>\n",
       "      <td>0.470329</td>\n",
       "      <td>-0.815365</td>\n",
       "      <td>1.546806</td>\n",
       "      <td>1.818705</td>\n",
       "      <td>2.089926</td>\n",
       "      <td>2.921900</td>\n",
       "    </tr>\n",
       "    <tr>\n",
       "      <th>Professional, Technical_and_kindred</th>\n",
       "      <td>61.0</td>\n",
       "      <td>1.858141</td>\n",
       "      <td>0.319224</td>\n",
       "      <td>1.050024</td>\n",
       "      <td>1.649681</td>\n",
       "      <td>1.882872</td>\n",
       "      <td>2.074398</td>\n",
       "      <td>2.471034</td>\n",
       "    </tr>\n",
       "    <tr>\n",
       "      <th>Sales_Workers</th>\n",
       "      <td>13.0</td>\n",
       "      <td>1.848837</td>\n",
       "      <td>0.727523</td>\n",
       "      <td>0.439784</td>\n",
       "      <td>1.421491</td>\n",
       "      <td>2.021731</td>\n",
       "      <td>2.052928</td>\n",
       "      <td>3.312527</td>\n",
       "    </tr>\n",
       "    <tr>\n",
       "      <th>Service_Workers</th>\n",
       "      <td>161.0</td>\n",
       "      <td>1.590187</td>\n",
       "      <td>0.479741</td>\n",
       "      <td>0.230987</td>\n",
       "      <td>1.297177</td>\n",
       "      <td>1.596362</td>\n",
       "      <td>1.926892</td>\n",
       "      <td>2.602089</td>\n",
       "    </tr>\n",
       "  </tbody>\n",
       "</table>\n",
       "</div>"
      ],
      "text/plain": [
       "                                     count      mean       std       min  \\\n",
       "occupation                                                                 \n",
       "Clerical_and_kindred                 127.0  1.877420  0.437399 -0.384582   \n",
       "Craftsmen, Foremen_and_kindred       221.0  1.896458  0.474067 -0.699792   \n",
       "Farm_Laborers_and_Foreman              6.0  1.351832  0.277232  0.890584   \n",
       "Laborers_and_farmers                 145.0  1.707704  0.455636 -0.790987   \n",
       "Managers, Officials_and_Proprietors   30.0  1.778801  0.490570  0.560979   \n",
       "Operatives_and_kindred               300.0  1.796132  0.470329 -0.815365   \n",
       "Professional, Technical_and_kindred   61.0  1.858141  0.319224  1.050024   \n",
       "Sales_Workers                         13.0  1.848837  0.727523  0.439784   \n",
       "Service_Workers                      161.0  1.590187  0.479741  0.230987   \n",
       "\n",
       "                                          25%       50%       75%       max  \n",
       "occupation                                                                   \n",
       "Clerical_and_kindred                 1.646610  1.935892  2.162233  2.933697  \n",
       "Craftsmen, Foremen_and_kindred       1.682546  1.967356  2.191990  2.786848  \n",
       "Farm_Laborers_and_Foreman            1.297340  1.331547  1.511156  1.700352  \n",
       "Laborers_and_farmers                 1.448000  1.745894  1.997862  2.733778  \n",
       "Managers, Officials_and_Proprietors  1.377356  1.860275  2.039024  3.096216  \n",
       "Operatives_and_kindred               1.546806  1.818705  2.089926  2.921900  \n",
       "Professional, Technical_and_kindred  1.649681  1.882872  2.074398  2.471034  \n",
       "Sales_Workers                        1.421491  2.021731  2.052928  3.312527  \n",
       "Service_Workers                      1.297177  1.596362  1.926892  2.602089  "
      ]
     },
     "execution_count": 330,
     "metadata": {},
     "output_type": "execute_result"
    }
   ],
   "source": [
    "grouped_males_data_union['wage'].describe()"
   ]
  },
  {
   "cell_type": "code",
   "execution_count": 299,
   "id": "156e242f",
   "metadata": {
    "ExecuteTime": {
     "end_time": "2023-07-17T03:09:10.199069Z",
     "start_time": "2023-07-17T03:09:10.190694Z"
    }
   },
   "outputs": [],
   "source": [
    "#wage insight for workers inside a union - without outliers\n",
    "males_data_wo_union = maled_data_wo_outliers.copy()\n",
    "grouped_males_data_wo_outlier_union = males_data_wo_union[\n",
    "    males_data_wo_union['union'] == 'yes'].groupby('occupation')"
   ]
  },
  {
   "cell_type": "code",
   "execution_count": 297,
   "id": "29fdd5f3",
   "metadata": {
    "ExecuteTime": {
     "end_time": "2023-07-17T03:07:48.503779Z",
     "start_time": "2023-07-17T03:07:48.467524Z"
    }
   },
   "outputs": [
    {
     "data": {
      "text/html": [
       "<div>\n",
       "<style scoped>\n",
       "    .dataframe tbody tr th:only-of-type {\n",
       "        vertical-align: middle;\n",
       "    }\n",
       "\n",
       "    .dataframe tbody tr th {\n",
       "        vertical-align: top;\n",
       "    }\n",
       "\n",
       "    .dataframe thead th {\n",
       "        text-align: right;\n",
       "    }\n",
       "</style>\n",
       "<table border=\"1\" class=\"dataframe\">\n",
       "  <thead>\n",
       "    <tr style=\"text-align: right;\">\n",
       "      <th></th>\n",
       "      <th>count</th>\n",
       "      <th>mean</th>\n",
       "      <th>std</th>\n",
       "      <th>min</th>\n",
       "      <th>25%</th>\n",
       "      <th>50%</th>\n",
       "      <th>75%</th>\n",
       "      <th>max</th>\n",
       "    </tr>\n",
       "    <tr>\n",
       "      <th>occupation</th>\n",
       "      <th></th>\n",
       "      <th></th>\n",
       "      <th></th>\n",
       "      <th></th>\n",
       "      <th></th>\n",
       "      <th></th>\n",
       "      <th></th>\n",
       "      <th></th>\n",
       "    </tr>\n",
       "  </thead>\n",
       "  <tbody>\n",
       "    <tr>\n",
       "      <th>Clerical_and_kindred</th>\n",
       "      <td>126.0</td>\n",
       "      <td>1.895372</td>\n",
       "      <td>0.389346</td>\n",
       "      <td>0.502470</td>\n",
       "      <td>1.656249</td>\n",
       "      <td>1.936243</td>\n",
       "      <td>2.164347</td>\n",
       "      <td>2.933697</td>\n",
       "    </tr>\n",
       "    <tr>\n",
       "      <th>Craftsmen, Foremen_and_kindred</th>\n",
       "      <td>217.0</td>\n",
       "      <td>1.936102</td>\n",
       "      <td>0.374504</td>\n",
       "      <td>0.699857</td>\n",
       "      <td>1.706928</td>\n",
       "      <td>1.971228</td>\n",
       "      <td>2.210918</td>\n",
       "      <td>2.786848</td>\n",
       "    </tr>\n",
       "    <tr>\n",
       "      <th>Farm_Laborers_and_Foreman</th>\n",
       "      <td>6.0</td>\n",
       "      <td>1.351832</td>\n",
       "      <td>0.277232</td>\n",
       "      <td>0.890584</td>\n",
       "      <td>1.297340</td>\n",
       "      <td>1.331547</td>\n",
       "      <td>1.511156</td>\n",
       "      <td>1.700352</td>\n",
       "    </tr>\n",
       "    <tr>\n",
       "      <th>Laborers_and_farmers</th>\n",
       "      <td>143.0</td>\n",
       "      <td>1.735503</td>\n",
       "      <td>0.387850</td>\n",
       "      <td>0.934898</td>\n",
       "      <td>1.460315</td>\n",
       "      <td>1.745894</td>\n",
       "      <td>2.013221</td>\n",
       "      <td>2.733778</td>\n",
       "    </tr>\n",
       "    <tr>\n",
       "      <th>Managers, Officials_and_Proprietors</th>\n",
       "      <td>29.0</td>\n",
       "      <td>1.733373</td>\n",
       "      <td>0.430269</td>\n",
       "      <td>0.560979</td>\n",
       "      <td>1.341880</td>\n",
       "      <td>1.853912</td>\n",
       "      <td>2.035432</td>\n",
       "      <td>2.445154</td>\n",
       "    </tr>\n",
       "    <tr>\n",
       "      <th>Operatives_and_kindred</th>\n",
       "      <td>297.0</td>\n",
       "      <td>1.819304</td>\n",
       "      <td>0.410996</td>\n",
       "      <td>0.424667</td>\n",
       "      <td>1.562236</td>\n",
       "      <td>1.831605</td>\n",
       "      <td>2.092672</td>\n",
       "      <td>2.921900</td>\n",
       "    </tr>\n",
       "    <tr>\n",
       "      <th>Professional, Technical_and_kindred</th>\n",
       "      <td>61.0</td>\n",
       "      <td>1.858141</td>\n",
       "      <td>0.319224</td>\n",
       "      <td>1.050024</td>\n",
       "      <td>1.649681</td>\n",
       "      <td>1.882872</td>\n",
       "      <td>2.074398</td>\n",
       "      <td>2.471034</td>\n",
       "    </tr>\n",
       "    <tr>\n",
       "      <th>Sales_Workers</th>\n",
       "      <td>12.0</td>\n",
       "      <td>1.726863</td>\n",
       "      <td>0.605322</td>\n",
       "      <td>0.439784</td>\n",
       "      <td>1.397836</td>\n",
       "      <td>1.954590</td>\n",
       "      <td>2.046130</td>\n",
       "      <td>2.806766</td>\n",
       "    </tr>\n",
       "    <tr>\n",
       "      <th>Service_Workers</th>\n",
       "      <td>159.0</td>\n",
       "      <td>1.606604</td>\n",
       "      <td>0.459560</td>\n",
       "      <td>0.432261</td>\n",
       "      <td>1.307088</td>\n",
       "      <td>1.601883</td>\n",
       "      <td>1.930399</td>\n",
       "      <td>2.602089</td>\n",
       "    </tr>\n",
       "  </tbody>\n",
       "</table>\n",
       "</div>"
      ],
      "text/plain": [
       "                                     count      mean       std       min  \\\n",
       "occupation                                                                 \n",
       "Clerical_and_kindred                 126.0  1.895372  0.389346  0.502470   \n",
       "Craftsmen, Foremen_and_kindred       217.0  1.936102  0.374504  0.699857   \n",
       "Farm_Laborers_and_Foreman              6.0  1.351832  0.277232  0.890584   \n",
       "Laborers_and_farmers                 143.0  1.735503  0.387850  0.934898   \n",
       "Managers, Officials_and_Proprietors   29.0  1.733373  0.430269  0.560979   \n",
       "Operatives_and_kindred               297.0  1.819304  0.410996  0.424667   \n",
       "Professional, Technical_and_kindred   61.0  1.858141  0.319224  1.050024   \n",
       "Sales_Workers                         12.0  1.726863  0.605322  0.439784   \n",
       "Service_Workers                      159.0  1.606604  0.459560  0.432261   \n",
       "\n",
       "                                          25%       50%       75%       max  \n",
       "occupation                                                                   \n",
       "Clerical_and_kindred                 1.656249  1.936243  2.164347  2.933697  \n",
       "Craftsmen, Foremen_and_kindred       1.706928  1.971228  2.210918  2.786848  \n",
       "Farm_Laborers_and_Foreman            1.297340  1.331547  1.511156  1.700352  \n",
       "Laborers_and_farmers                 1.460315  1.745894  2.013221  2.733778  \n",
       "Managers, Officials_and_Proprietors  1.341880  1.853912  2.035432  2.445154  \n",
       "Operatives_and_kindred               1.562236  1.831605  2.092672  2.921900  \n",
       "Professional, Technical_and_kindred  1.649681  1.882872  2.074398  2.471034  \n",
       "Sales_Workers                        1.397836  1.954590  2.046130  2.806766  \n",
       "Service_Workers                      1.307088  1.601883  1.930399  2.602089  "
      ]
     },
     "execution_count": 297,
     "metadata": {},
     "output_type": "execute_result"
    }
   ],
   "source": [
    "grouped_males_data_wo_outlier_union ['wage'].describe()"
   ]
  },
  {
   "cell_type": "code",
   "execution_count": 301,
   "id": "b30de1cd",
   "metadata": {
    "ExecuteTime": {
     "end_time": "2023-07-17T03:10:14.018244Z",
     "start_time": "2023-07-17T03:10:13.986418Z"
    }
   },
   "outputs": [],
   "source": [
    "#wage insight for workers not in a union - without outliers\n",
    "males_data_wo_not_in_union = maled_data_wo_outliers.copy()\n",
    "grouped_males_data_wo_outlier_not_in_union = males_data_wo_not_in_union[\n",
    "    males_data_wo_not_in_union['union'] == 'no'].groupby('occupation')"
   ]
  },
  {
   "cell_type": "code",
   "execution_count": 300,
   "id": "2b41e744",
   "metadata": {
    "ExecuteTime": {
     "end_time": "2023-07-17T03:09:20.883132Z",
     "start_time": "2023-07-17T03:09:20.850622Z"
    }
   },
   "outputs": [
    {
     "data": {
      "text/html": [
       "<div>\n",
       "<style scoped>\n",
       "    .dataframe tbody tr th:only-of-type {\n",
       "        vertical-align: middle;\n",
       "    }\n",
       "\n",
       "    .dataframe tbody tr th {\n",
       "        vertical-align: top;\n",
       "    }\n",
       "\n",
       "    .dataframe thead th {\n",
       "        text-align: right;\n",
       "    }\n",
       "</style>\n",
       "<table border=\"1\" class=\"dataframe\">\n",
       "  <thead>\n",
       "    <tr style=\"text-align: right;\">\n",
       "      <th></th>\n",
       "      <th>count</th>\n",
       "      <th>mean</th>\n",
       "      <th>std</th>\n",
       "      <th>min</th>\n",
       "      <th>25%</th>\n",
       "      <th>50%</th>\n",
       "      <th>75%</th>\n",
       "      <th>max</th>\n",
       "    </tr>\n",
       "    <tr>\n",
       "      <th>occupation</th>\n",
       "      <th></th>\n",
       "      <th></th>\n",
       "      <th></th>\n",
       "      <th></th>\n",
       "      <th></th>\n",
       "      <th></th>\n",
       "      <th></th>\n",
       "      <th></th>\n",
       "    </tr>\n",
       "  </thead>\n",
       "  <tbody>\n",
       "    <tr>\n",
       "      <th>Clerical_and_kindred</th>\n",
       "      <td>354.0</td>\n",
       "      <td>1.543161</td>\n",
       "      <td>0.404481</td>\n",
       "      <td>0.397348</td>\n",
       "      <td>1.286834</td>\n",
       "      <td>1.556309</td>\n",
       "      <td>1.817936</td>\n",
       "      <td>2.723037</td>\n",
       "    </tr>\n",
       "    <tr>\n",
       "      <th>Craftsmen, Foremen_and_kindred</th>\n",
       "      <td>705.0</td>\n",
       "      <td>1.675855</td>\n",
       "      <td>0.404902</td>\n",
       "      <td>0.585150</td>\n",
       "      <td>1.416282</td>\n",
       "      <td>1.671740</td>\n",
       "      <td>1.970228</td>\n",
       "      <td>2.910901</td>\n",
       "    </tr>\n",
       "    <tr>\n",
       "      <th>Farm_Laborers_and_Foreman</th>\n",
       "      <td>57.0</td>\n",
       "      <td>1.280702</td>\n",
       "      <td>0.261646</td>\n",
       "      <td>0.807070</td>\n",
       "      <td>1.076831</td>\n",
       "      <td>1.266993</td>\n",
       "      <td>1.464256</td>\n",
       "      <td>2.030118</td>\n",
       "    </tr>\n",
       "    <tr>\n",
       "      <th>Laborers_and_farmers</th>\n",
       "      <td>244.0</td>\n",
       "      <td>1.501395</td>\n",
       "      <td>0.393050</td>\n",
       "      <td>0.452966</td>\n",
       "      <td>1.242275</td>\n",
       "      <td>1.498086</td>\n",
       "      <td>1.709753</td>\n",
       "      <td>2.900422</td>\n",
       "    </tr>\n",
       "    <tr>\n",
       "      <th>Managers, Officials_and_Proprietors</th>\n",
       "      <td>355.0</td>\n",
       "      <td>1.770814</td>\n",
       "      <td>0.432403</td>\n",
       "      <td>0.492244</td>\n",
       "      <td>1.512049</td>\n",
       "      <td>1.743986</td>\n",
       "      <td>2.054603</td>\n",
       "      <td>2.937463</td>\n",
       "    </tr>\n",
       "    <tr>\n",
       "      <th>Operatives_and_kindred</th>\n",
       "      <td>568.0</td>\n",
       "      <td>1.566420</td>\n",
       "      <td>0.416585</td>\n",
       "      <td>0.411299</td>\n",
       "      <td>1.279806</td>\n",
       "      <td>1.562188</td>\n",
       "      <td>1.850578</td>\n",
       "      <td>2.821783</td>\n",
       "    </tr>\n",
       "    <tr>\n",
       "      <th>Professional, Technical_and_kindred</th>\n",
       "      <td>380.0</td>\n",
       "      <td>1.881429</td>\n",
       "      <td>0.465366</td>\n",
       "      <td>0.406413</td>\n",
       "      <td>1.640239</td>\n",
       "      <td>1.919253</td>\n",
       "      <td>2.217285</td>\n",
       "      <td>2.923384</td>\n",
       "    </tr>\n",
       "    <tr>\n",
       "      <th>Sales_Workers</th>\n",
       "      <td>204.0</td>\n",
       "      <td>1.716193</td>\n",
       "      <td>0.522383</td>\n",
       "      <td>0.420655</td>\n",
       "      <td>1.322037</td>\n",
       "      <td>1.662517</td>\n",
       "      <td>2.072644</td>\n",
       "      <td>2.873161</td>\n",
       "    </tr>\n",
       "    <tr>\n",
       "      <th>Service_Workers</th>\n",
       "      <td>335.0</td>\n",
       "      <td>1.416834</td>\n",
       "      <td>0.416883</td>\n",
       "      <td>0.414876</td>\n",
       "      <td>1.154188</td>\n",
       "      <td>1.407256</td>\n",
       "      <td>1.706225</td>\n",
       "      <td>2.657731</td>\n",
       "    </tr>\n",
       "  </tbody>\n",
       "</table>\n",
       "</div>"
      ],
      "text/plain": [
       "                                     count      mean       std       min  \\\n",
       "occupation                                                                 \n",
       "Clerical_and_kindred                 354.0  1.543161  0.404481  0.397348   \n",
       "Craftsmen, Foremen_and_kindred       705.0  1.675855  0.404902  0.585150   \n",
       "Farm_Laborers_and_Foreman             57.0  1.280702  0.261646  0.807070   \n",
       "Laborers_and_farmers                 244.0  1.501395  0.393050  0.452966   \n",
       "Managers, Officials_and_Proprietors  355.0  1.770814  0.432403  0.492244   \n",
       "Operatives_and_kindred               568.0  1.566420  0.416585  0.411299   \n",
       "Professional, Technical_and_kindred  380.0  1.881429  0.465366  0.406413   \n",
       "Sales_Workers                        204.0  1.716193  0.522383  0.420655   \n",
       "Service_Workers                      335.0  1.416834  0.416883  0.414876   \n",
       "\n",
       "                                          25%       50%       75%       max  \n",
       "occupation                                                                   \n",
       "Clerical_and_kindred                 1.286834  1.556309  1.817936  2.723037  \n",
       "Craftsmen, Foremen_and_kindred       1.416282  1.671740  1.970228  2.910901  \n",
       "Farm_Laborers_and_Foreman            1.076831  1.266993  1.464256  2.030118  \n",
       "Laborers_and_farmers                 1.242275  1.498086  1.709753  2.900422  \n",
       "Managers, Officials_and_Proprietors  1.512049  1.743986  2.054603  2.937463  \n",
       "Operatives_and_kindred               1.279806  1.562188  1.850578  2.821783  \n",
       "Professional, Technical_and_kindred  1.640239  1.919253  2.217285  2.923384  \n",
       "Sales_Workers                        1.322037  1.662517  2.072644  2.873161  \n",
       "Service_Workers                      1.154188  1.407256  1.706225  2.657731  "
      ]
     },
     "execution_count": 300,
     "metadata": {},
     "output_type": "execute_result"
    }
   ],
   "source": [
    "grouped_males_data_wo_outlier_not_in_union['wage'].describe()"
   ]
  },
  {
   "cell_type": "code",
   "execution_count": 315,
   "id": "9e5230d3",
   "metadata": {
    "ExecuteTime": {
     "end_time": "2023-07-17T03:28:13.862747Z",
     "start_time": "2023-07-17T03:28:13.854531Z"
    }
   },
   "outputs": [
    {
     "data": {
      "text/plain": [
       "pandas.core.groupby.generic.DataFrameGroupBy"
      ]
     },
     "execution_count": 315,
     "metadata": {},
     "output_type": "execute_result"
    }
   ],
   "source": [
    "type(grouped_males_data_wo_outlier_not_in_union)"
   ]
  },
  {
   "cell_type": "code",
   "execution_count": 336,
   "id": "5da7ed3f",
   "metadata": {
    "ExecuteTime": {
     "end_time": "2023-07-17T03:42:15.773547Z",
     "start_time": "2023-07-17T03:42:15.723639Z"
    }
   },
   "outputs": [
    {
     "data": {
      "text/html": [
       "<div>\n",
       "<style scoped>\n",
       "    .dataframe tbody tr th:only-of-type {\n",
       "        vertical-align: middle;\n",
       "    }\n",
       "\n",
       "    .dataframe tbody tr th {\n",
       "        vertical-align: top;\n",
       "    }\n",
       "\n",
       "    .dataframe thead th {\n",
       "        text-align: right;\n",
       "    }\n",
       "</style>\n",
       "<table border=\"1\" class=\"dataframe\">\n",
       "  <thead>\n",
       "    <tr style=\"text-align: right;\">\n",
       "      <th></th>\n",
       "      <th>count</th>\n",
       "      <th>mean</th>\n",
       "      <th>std</th>\n",
       "      <th>min</th>\n",
       "      <th>25%</th>\n",
       "      <th>50%</th>\n",
       "      <th>75%</th>\n",
       "      <th>max</th>\n",
       "    </tr>\n",
       "    <tr>\n",
       "      <th>occupation</th>\n",
       "      <th></th>\n",
       "      <th></th>\n",
       "      <th></th>\n",
       "      <th></th>\n",
       "      <th></th>\n",
       "      <th></th>\n",
       "      <th></th>\n",
       "      <th></th>\n",
       "    </tr>\n",
       "  </thead>\n",
       "  <tbody>\n",
       "    <tr>\n",
       "      <th>Clerical_and_kindred</th>\n",
       "      <td>126.0</td>\n",
       "      <td>6.190476</td>\n",
       "      <td>2.594500</td>\n",
       "      <td>2.0</td>\n",
       "      <td>4.00</td>\n",
       "      <td>6.0</td>\n",
       "      <td>8.00</td>\n",
       "      <td>14.0</td>\n",
       "    </tr>\n",
       "    <tr>\n",
       "      <th>Craftsmen, Foremen_and_kindred</th>\n",
       "      <td>217.0</td>\n",
       "      <td>7.253456</td>\n",
       "      <td>2.548656</td>\n",
       "      <td>2.0</td>\n",
       "      <td>5.00</td>\n",
       "      <td>7.0</td>\n",
       "      <td>9.00</td>\n",
       "      <td>14.0</td>\n",
       "    </tr>\n",
       "    <tr>\n",
       "      <th>Farm_Laborers_and_Foreman</th>\n",
       "      <td>6.0</td>\n",
       "      <td>6.166667</td>\n",
       "      <td>3.488075</td>\n",
       "      <td>1.0</td>\n",
       "      <td>4.50</td>\n",
       "      <td>6.0</td>\n",
       "      <td>9.00</td>\n",
       "      <td>10.0</td>\n",
       "    </tr>\n",
       "    <tr>\n",
       "      <th>Laborers_and_farmers</th>\n",
       "      <td>143.0</td>\n",
       "      <td>6.125874</td>\n",
       "      <td>2.916363</td>\n",
       "      <td>1.0</td>\n",
       "      <td>4.00</td>\n",
       "      <td>6.0</td>\n",
       "      <td>8.00</td>\n",
       "      <td>12.0</td>\n",
       "    </tr>\n",
       "    <tr>\n",
       "      <th>Managers, Officials_and_Proprietors</th>\n",
       "      <td>29.0</td>\n",
       "      <td>6.724138</td>\n",
       "      <td>2.491364</td>\n",
       "      <td>1.0</td>\n",
       "      <td>5.00</td>\n",
       "      <td>7.0</td>\n",
       "      <td>9.00</td>\n",
       "      <td>11.0</td>\n",
       "    </tr>\n",
       "    <tr>\n",
       "      <th>Operatives_and_kindred</th>\n",
       "      <td>297.0</td>\n",
       "      <td>6.606061</td>\n",
       "      <td>2.504664</td>\n",
       "      <td>2.0</td>\n",
       "      <td>5.00</td>\n",
       "      <td>6.0</td>\n",
       "      <td>9.00</td>\n",
       "      <td>15.0</td>\n",
       "    </tr>\n",
       "    <tr>\n",
       "      <th>Professional, Technical_and_kindred</th>\n",
       "      <td>61.0</td>\n",
       "      <td>6.475410</td>\n",
       "      <td>2.636959</td>\n",
       "      <td>2.0</td>\n",
       "      <td>4.00</td>\n",
       "      <td>7.0</td>\n",
       "      <td>8.00</td>\n",
       "      <td>12.0</td>\n",
       "    </tr>\n",
       "    <tr>\n",
       "      <th>Sales_Workers</th>\n",
       "      <td>12.0</td>\n",
       "      <td>6.333333</td>\n",
       "      <td>2.059715</td>\n",
       "      <td>4.0</td>\n",
       "      <td>4.75</td>\n",
       "      <td>6.0</td>\n",
       "      <td>8.25</td>\n",
       "      <td>9.0</td>\n",
       "    </tr>\n",
       "    <tr>\n",
       "      <th>Service_Workers</th>\n",
       "      <td>159.0</td>\n",
       "      <td>6.415094</td>\n",
       "      <td>2.754288</td>\n",
       "      <td>1.0</td>\n",
       "      <td>4.00</td>\n",
       "      <td>6.0</td>\n",
       "      <td>8.00</td>\n",
       "      <td>12.0</td>\n",
       "    </tr>\n",
       "  </tbody>\n",
       "</table>\n",
       "</div>"
      ],
      "text/plain": [
       "                                     count      mean       std  min   25%  \\\n",
       "occupation                                                                  \n",
       "Clerical_and_kindred                 126.0  6.190476  2.594500  2.0  4.00   \n",
       "Craftsmen, Foremen_and_kindred       217.0  7.253456  2.548656  2.0  5.00   \n",
       "Farm_Laborers_and_Foreman              6.0  6.166667  3.488075  1.0  4.50   \n",
       "Laborers_and_farmers                 143.0  6.125874  2.916363  1.0  4.00   \n",
       "Managers, Officials_and_Proprietors   29.0  6.724138  2.491364  1.0  5.00   \n",
       "Operatives_and_kindred               297.0  6.606061  2.504664  2.0  5.00   \n",
       "Professional, Technical_and_kindred   61.0  6.475410  2.636959  2.0  4.00   \n",
       "Sales_Workers                         12.0  6.333333  2.059715  4.0  4.75   \n",
       "Service_Workers                      159.0  6.415094  2.754288  1.0  4.00   \n",
       "\n",
       "                                     50%   75%   max  \n",
       "occupation                                            \n",
       "Clerical_and_kindred                 6.0  8.00  14.0  \n",
       "Craftsmen, Foremen_and_kindred       7.0  9.00  14.0  \n",
       "Farm_Laborers_and_Foreman            6.0  9.00  10.0  \n",
       "Laborers_and_farmers                 6.0  8.00  12.0  \n",
       "Managers, Officials_and_Proprietors  7.0  9.00  11.0  \n",
       "Operatives_and_kindred               6.0  9.00  15.0  \n",
       "Professional, Technical_and_kindred  7.0  8.00  12.0  \n",
       "Sales_Workers                        6.0  8.25   9.0  \n",
       "Service_Workers                      6.0  8.00  12.0  "
      ]
     },
     "execution_count": 336,
     "metadata": {},
     "output_type": "execute_result"
    }
   ],
   "source": [
    "#birth year insight for workers in a union - without outliers\n",
    "grouped_males_data_wo_outlier_union ['exper'].describe()"
   ]
  },
  {
   "cell_type": "code",
   "execution_count": 337,
   "id": "88754352",
   "metadata": {
    "ExecuteTime": {
     "end_time": "2023-07-18T20:16:15.391522Z",
     "start_time": "2023-07-18T20:16:15.087851Z"
    }
   },
   "outputs": [
    {
     "data": {
      "text/html": [
       "<div>\n",
       "<style scoped>\n",
       "    .dataframe tbody tr th:only-of-type {\n",
       "        vertical-align: middle;\n",
       "    }\n",
       "\n",
       "    .dataframe tbody tr th {\n",
       "        vertical-align: top;\n",
       "    }\n",
       "\n",
       "    .dataframe thead th {\n",
       "        text-align: right;\n",
       "    }\n",
       "</style>\n",
       "<table border=\"1\" class=\"dataframe\">\n",
       "  <thead>\n",
       "    <tr style=\"text-align: right;\">\n",
       "      <th></th>\n",
       "      <th>count</th>\n",
       "      <th>mean</th>\n",
       "      <th>std</th>\n",
       "      <th>min</th>\n",
       "      <th>25%</th>\n",
       "      <th>50%</th>\n",
       "      <th>75%</th>\n",
       "      <th>max</th>\n",
       "    </tr>\n",
       "    <tr>\n",
       "      <th>occupation</th>\n",
       "      <th></th>\n",
       "      <th></th>\n",
       "      <th></th>\n",
       "      <th></th>\n",
       "      <th></th>\n",
       "      <th></th>\n",
       "      <th></th>\n",
       "      <th></th>\n",
       "    </tr>\n",
       "  </thead>\n",
       "  <tbody>\n",
       "    <tr>\n",
       "      <th>Clerical_and_kindred</th>\n",
       "      <td>354.0</td>\n",
       "      <td>5.949153</td>\n",
       "      <td>2.631841</td>\n",
       "      <td>1.0</td>\n",
       "      <td>4.0</td>\n",
       "      <td>6.0</td>\n",
       "      <td>8.0</td>\n",
       "      <td>13.0</td>\n",
       "    </tr>\n",
       "    <tr>\n",
       "      <th>Craftsmen, Foremen_and_kindred</th>\n",
       "      <td>705.0</td>\n",
       "      <td>7.214184</td>\n",
       "      <td>2.938928</td>\n",
       "      <td>1.0</td>\n",
       "      <td>5.0</td>\n",
       "      <td>7.0</td>\n",
       "      <td>9.0</td>\n",
       "      <td>16.0</td>\n",
       "    </tr>\n",
       "    <tr>\n",
       "      <th>Farm_Laborers_and_Foreman</th>\n",
       "      <td>57.0</td>\n",
       "      <td>6.491228</td>\n",
       "      <td>3.252048</td>\n",
       "      <td>2.0</td>\n",
       "      <td>4.0</td>\n",
       "      <td>6.0</td>\n",
       "      <td>8.0</td>\n",
       "      <td>14.0</td>\n",
       "    </tr>\n",
       "    <tr>\n",
       "      <th>Laborers_and_farmers</th>\n",
       "      <td>244.0</td>\n",
       "      <td>6.704918</td>\n",
       "      <td>3.093039</td>\n",
       "      <td>1.0</td>\n",
       "      <td>4.0</td>\n",
       "      <td>7.0</td>\n",
       "      <td>9.0</td>\n",
       "      <td>16.0</td>\n",
       "    </tr>\n",
       "    <tr>\n",
       "      <th>Managers, Officials_and_Proprietors</th>\n",
       "      <td>355.0</td>\n",
       "      <td>6.735211</td>\n",
       "      <td>2.375195</td>\n",
       "      <td>1.0</td>\n",
       "      <td>5.0</td>\n",
       "      <td>7.0</td>\n",
       "      <td>8.0</td>\n",
       "      <td>17.0</td>\n",
       "    </tr>\n",
       "    <tr>\n",
       "      <th>Operatives_and_kindred</th>\n",
       "      <td>568.0</td>\n",
       "      <td>6.580986</td>\n",
       "      <td>3.069528</td>\n",
       "      <td>1.0</td>\n",
       "      <td>4.0</td>\n",
       "      <td>6.0</td>\n",
       "      <td>9.0</td>\n",
       "      <td>18.0</td>\n",
       "    </tr>\n",
       "    <tr>\n",
       "      <th>Professional, Technical_and_kindred</th>\n",
       "      <td>380.0</td>\n",
       "      <td>5.842105</td>\n",
       "      <td>2.568598</td>\n",
       "      <td>0.0</td>\n",
       "      <td>4.0</td>\n",
       "      <td>6.0</td>\n",
       "      <td>8.0</td>\n",
       "      <td>14.0</td>\n",
       "    </tr>\n",
       "    <tr>\n",
       "      <th>Sales_Workers</th>\n",
       "      <td>204.0</td>\n",
       "      <td>6.387255</td>\n",
       "      <td>2.326128</td>\n",
       "      <td>1.0</td>\n",
       "      <td>5.0</td>\n",
       "      <td>6.5</td>\n",
       "      <td>8.0</td>\n",
       "      <td>15.0</td>\n",
       "    </tr>\n",
       "    <tr>\n",
       "      <th>Service_Workers</th>\n",
       "      <td>335.0</td>\n",
       "      <td>6.164179</td>\n",
       "      <td>3.268416</td>\n",
       "      <td>1.0</td>\n",
       "      <td>4.0</td>\n",
       "      <td>6.0</td>\n",
       "      <td>8.0</td>\n",
       "      <td>18.0</td>\n",
       "    </tr>\n",
       "  </tbody>\n",
       "</table>\n",
       "</div>"
      ],
      "text/plain": [
       "                                     count      mean       std  min  25%  50%  \\\n",
       "occupation                                                                      \n",
       "Clerical_and_kindred                 354.0  5.949153  2.631841  1.0  4.0  6.0   \n",
       "Craftsmen, Foremen_and_kindred       705.0  7.214184  2.938928  1.0  5.0  7.0   \n",
       "Farm_Laborers_and_Foreman             57.0  6.491228  3.252048  2.0  4.0  6.0   \n",
       "Laborers_and_farmers                 244.0  6.704918  3.093039  1.0  4.0  7.0   \n",
       "Managers, Officials_and_Proprietors  355.0  6.735211  2.375195  1.0  5.0  7.0   \n",
       "Operatives_and_kindred               568.0  6.580986  3.069528  1.0  4.0  6.0   \n",
       "Professional, Technical_and_kindred  380.0  5.842105  2.568598  0.0  4.0  6.0   \n",
       "Sales_Workers                        204.0  6.387255  2.326128  1.0  5.0  6.5   \n",
       "Service_Workers                      335.0  6.164179  3.268416  1.0  4.0  6.0   \n",
       "\n",
       "                                     75%   max  \n",
       "occupation                                      \n",
       "Clerical_and_kindred                 8.0  13.0  \n",
       "Craftsmen, Foremen_and_kindred       9.0  16.0  \n",
       "Farm_Laborers_and_Foreman            8.0  14.0  \n",
       "Laborers_and_farmers                 9.0  16.0  \n",
       "Managers, Officials_and_Proprietors  8.0  17.0  \n",
       "Operatives_and_kindred               9.0  18.0  \n",
       "Professional, Technical_and_kindred  8.0  14.0  \n",
       "Sales_Workers                        8.0  15.0  \n",
       "Service_Workers                      8.0  18.0  "
      ]
     },
     "execution_count": 337,
     "metadata": {},
     "output_type": "execute_result"
    }
   ],
   "source": [
    "#birth year insight for workers not in a union - without outliers\n",
    "grouped_males_data_wo_outlier_not_in_union['exper'].describe()"
   ]
  },
  {
   "cell_type": "code",
   "execution_count": 368,
   "id": "4dcb374f",
   "metadata": {
    "ExecuteTime": {
     "end_time": "2023-07-18T22:48:51.578354Z",
     "start_time": "2023-07-18T22:48:51.523307Z"
    }
   },
   "outputs": [
    {
     "data": {
      "text/html": [
       "<div>\n",
       "<style scoped>\n",
       "    .dataframe tbody tr th:only-of-type {\n",
       "        vertical-align: middle;\n",
       "    }\n",
       "\n",
       "    .dataframe tbody tr th {\n",
       "        vertical-align: top;\n",
       "    }\n",
       "\n",
       "    .dataframe thead th {\n",
       "        text-align: right;\n",
       "    }\n",
       "</style>\n",
       "<table border=\"1\" class=\"dataframe\">\n",
       "  <thead>\n",
       "    <tr style=\"text-align: right;\">\n",
       "      <th></th>\n",
       "      <th>count</th>\n",
       "      <th>mean</th>\n",
       "      <th>std</th>\n",
       "      <th>min</th>\n",
       "      <th>25%</th>\n",
       "      <th>50%</th>\n",
       "      <th>75%</th>\n",
       "      <th>max</th>\n",
       "    </tr>\n",
       "    <tr>\n",
       "      <th>exper</th>\n",
       "      <th></th>\n",
       "      <th></th>\n",
       "      <th></th>\n",
       "      <th></th>\n",
       "      <th></th>\n",
       "      <th></th>\n",
       "      <th></th>\n",
       "      <th></th>\n",
       "    </tr>\n",
       "  </thead>\n",
       "  <tbody>\n",
       "    <tr>\n",
       "      <th>0</th>\n",
       "      <td>2.0</td>\n",
       "      <td>1.610015</td>\n",
       "      <td>0.236396</td>\n",
       "      <td>1.442858</td>\n",
       "      <td>1.526437</td>\n",
       "      <td>1.610015</td>\n",
       "      <td>1.693594</td>\n",
       "      <td>1.777173</td>\n",
       "    </tr>\n",
       "    <tr>\n",
       "      <th>1</th>\n",
       "      <td>57.0</td>\n",
       "      <td>1.196622</td>\n",
       "      <td>0.523762</td>\n",
       "      <td>-1.113822</td>\n",
       "      <td>0.931846</td>\n",
       "      <td>1.238076</td>\n",
       "      <td>1.551968</td>\n",
       "      <td>2.267020</td>\n",
       "    </tr>\n",
       "    <tr>\n",
       "      <th>2</th>\n",
       "      <td>268.0</td>\n",
       "      <td>1.381958</td>\n",
       "      <td>0.558667</td>\n",
       "      <td>-1.103047</td>\n",
       "      <td>1.119342</td>\n",
       "      <td>1.396596</td>\n",
       "      <td>1.738081</td>\n",
       "      <td>2.937463</td>\n",
       "    </tr>\n",
       "    <tr>\n",
       "      <th>3</th>\n",
       "      <td>376.0</td>\n",
       "      <td>1.478805</td>\n",
       "      <td>0.587011</td>\n",
       "      <td>-1.259880</td>\n",
       "      <td>1.207870</td>\n",
       "      <td>1.531630</td>\n",
       "      <td>1.842425</td>\n",
       "      <td>3.472707</td>\n",
       "    </tr>\n",
       "    <tr>\n",
       "      <th>4</th>\n",
       "      <td>464.0</td>\n",
       "      <td>1.562974</td>\n",
       "      <td>0.533137</td>\n",
       "      <td>-1.417066</td>\n",
       "      <td>1.291997</td>\n",
       "      <td>1.601933</td>\n",
       "      <td>1.896516</td>\n",
       "      <td>3.096216</td>\n",
       "    </tr>\n",
       "    <tr>\n",
       "      <th>5</th>\n",
       "      <td>511.0</td>\n",
       "      <td>1.636473</td>\n",
       "      <td>0.495604</td>\n",
       "      <td>-0.723919</td>\n",
       "      <td>1.330293</td>\n",
       "      <td>1.656602</td>\n",
       "      <td>1.964731</td>\n",
       "      <td>3.777492</td>\n",
       "    </tr>\n",
       "    <tr>\n",
       "      <th>6</th>\n",
       "      <td>523.0</td>\n",
       "      <td>1.662291</td>\n",
       "      <td>0.533854</td>\n",
       "      <td>-3.579079</td>\n",
       "      <td>1.351848</td>\n",
       "      <td>1.666177</td>\n",
       "      <td>1.979290</td>\n",
       "      <td>4.051860</td>\n",
       "    </tr>\n",
       "    <tr>\n",
       "      <th>7</th>\n",
       "      <td>531.0</td>\n",
       "      <td>1.704218</td>\n",
       "      <td>0.553942</td>\n",
       "      <td>-1.155182</td>\n",
       "      <td>1.412018</td>\n",
       "      <td>1.739929</td>\n",
       "      <td>2.065701</td>\n",
       "      <td>3.292909</td>\n",
       "    </tr>\n",
       "    <tr>\n",
       "      <th>8</th>\n",
       "      <td>533.0</td>\n",
       "      <td>1.772874</td>\n",
       "      <td>0.493630</td>\n",
       "      <td>-0.889556</td>\n",
       "      <td>1.476625</td>\n",
       "      <td>1.778595</td>\n",
       "      <td>2.095734</td>\n",
       "      <td>3.343164</td>\n",
       "    </tr>\n",
       "    <tr>\n",
       "      <th>9</th>\n",
       "      <td>485.0</td>\n",
       "      <td>1.807942</td>\n",
       "      <td>0.495873</td>\n",
       "      <td>-0.981204</td>\n",
       "      <td>1.515392</td>\n",
       "      <td>1.830257</td>\n",
       "      <td>2.133687</td>\n",
       "      <td>3.397526</td>\n",
       "    </tr>\n",
       "    <tr>\n",
       "      <th>10</th>\n",
       "      <td>275.0</td>\n",
       "      <td>1.739515</td>\n",
       "      <td>0.503049</td>\n",
       "      <td>-0.228187</td>\n",
       "      <td>1.440539</td>\n",
       "      <td>1.765962</td>\n",
       "      <td>2.074526</td>\n",
       "      <td>2.921900</td>\n",
       "    </tr>\n",
       "    <tr>\n",
       "      <th>11</th>\n",
       "      <td>169.0</td>\n",
       "      <td>1.732015</td>\n",
       "      <td>0.408031</td>\n",
       "      <td>0.902429</td>\n",
       "      <td>1.420472</td>\n",
       "      <td>1.743489</td>\n",
       "      <td>2.026608</td>\n",
       "      <td>2.873161</td>\n",
       "    </tr>\n",
       "    <tr>\n",
       "      <th>12</th>\n",
       "      <td>81.0</td>\n",
       "      <td>1.649018</td>\n",
       "      <td>0.426851</td>\n",
       "      <td>0.435453</td>\n",
       "      <td>1.394950</td>\n",
       "      <td>1.678757</td>\n",
       "      <td>1.933748</td>\n",
       "      <td>2.910901</td>\n",
       "    </tr>\n",
       "    <tr>\n",
       "      <th>13</th>\n",
       "      <td>34.0</td>\n",
       "      <td>1.477658</td>\n",
       "      <td>0.305519</td>\n",
       "      <td>0.638812</td>\n",
       "      <td>1.350698</td>\n",
       "      <td>1.466070</td>\n",
       "      <td>1.669178</td>\n",
       "      <td>1.999408</td>\n",
       "    </tr>\n",
       "    <tr>\n",
       "      <th>14</th>\n",
       "      <td>22.0</td>\n",
       "      <td>1.607726</td>\n",
       "      <td>0.351267</td>\n",
       "      <td>1.111386</td>\n",
       "      <td>1.426212</td>\n",
       "      <td>1.513799</td>\n",
       "      <td>1.695186</td>\n",
       "      <td>2.688983</td>\n",
       "    </tr>\n",
       "    <tr>\n",
       "      <th>15</th>\n",
       "      <td>14.0</td>\n",
       "      <td>1.528770</td>\n",
       "      <td>0.348496</td>\n",
       "      <td>0.585150</td>\n",
       "      <td>1.389191</td>\n",
       "      <td>1.565690</td>\n",
       "      <td>1.703605</td>\n",
       "      <td>2.074398</td>\n",
       "    </tr>\n",
       "    <tr>\n",
       "      <th>16</th>\n",
       "      <td>10.0</td>\n",
       "      <td>1.564771</td>\n",
       "      <td>0.111068</td>\n",
       "      <td>1.410776</td>\n",
       "      <td>1.507325</td>\n",
       "      <td>1.524607</td>\n",
       "      <td>1.638946</td>\n",
       "      <td>1.747110</td>\n",
       "    </tr>\n",
       "    <tr>\n",
       "      <th>17</th>\n",
       "      <td>3.0</td>\n",
       "      <td>1.417197</td>\n",
       "      <td>0.301938</td>\n",
       "      <td>1.120367</td>\n",
       "      <td>1.263797</td>\n",
       "      <td>1.407227</td>\n",
       "      <td>1.565611</td>\n",
       "      <td>1.723996</td>\n",
       "    </tr>\n",
       "    <tr>\n",
       "      <th>18</th>\n",
       "      <td>2.0</td>\n",
       "      <td>1.664744</td>\n",
       "      <td>0.060894</td>\n",
       "      <td>1.621686</td>\n",
       "      <td>1.643215</td>\n",
       "      <td>1.664744</td>\n",
       "      <td>1.686273</td>\n",
       "      <td>1.707803</td>\n",
       "    </tr>\n",
       "  </tbody>\n",
       "</table>\n",
       "</div>"
      ],
      "text/plain": [
       "       count      mean       std       min       25%       50%       75%  \\\n",
       "exper                                                                      \n",
       "0        2.0  1.610015  0.236396  1.442858  1.526437  1.610015  1.693594   \n",
       "1       57.0  1.196622  0.523762 -1.113822  0.931846  1.238076  1.551968   \n",
       "2      268.0  1.381958  0.558667 -1.103047  1.119342  1.396596  1.738081   \n",
       "3      376.0  1.478805  0.587011 -1.259880  1.207870  1.531630  1.842425   \n",
       "4      464.0  1.562974  0.533137 -1.417066  1.291997  1.601933  1.896516   \n",
       "5      511.0  1.636473  0.495604 -0.723919  1.330293  1.656602  1.964731   \n",
       "6      523.0  1.662291  0.533854 -3.579079  1.351848  1.666177  1.979290   \n",
       "7      531.0  1.704218  0.553942 -1.155182  1.412018  1.739929  2.065701   \n",
       "8      533.0  1.772874  0.493630 -0.889556  1.476625  1.778595  2.095734   \n",
       "9      485.0  1.807942  0.495873 -0.981204  1.515392  1.830257  2.133687   \n",
       "10     275.0  1.739515  0.503049 -0.228187  1.440539  1.765962  2.074526   \n",
       "11     169.0  1.732015  0.408031  0.902429  1.420472  1.743489  2.026608   \n",
       "12      81.0  1.649018  0.426851  0.435453  1.394950  1.678757  1.933748   \n",
       "13      34.0  1.477658  0.305519  0.638812  1.350698  1.466070  1.669178   \n",
       "14      22.0  1.607726  0.351267  1.111386  1.426212  1.513799  1.695186   \n",
       "15      14.0  1.528770  0.348496  0.585150  1.389191  1.565690  1.703605   \n",
       "16      10.0  1.564771  0.111068  1.410776  1.507325  1.524607  1.638946   \n",
       "17       3.0  1.417197  0.301938  1.120367  1.263797  1.407227  1.565611   \n",
       "18       2.0  1.664744  0.060894  1.621686  1.643215  1.664744  1.686273   \n",
       "\n",
       "            max  \n",
       "exper            \n",
       "0      1.777173  \n",
       "1      2.267020  \n",
       "2      2.937463  \n",
       "3      3.472707  \n",
       "4      3.096216  \n",
       "5      3.777492  \n",
       "6      4.051860  \n",
       "7      3.292909  \n",
       "8      3.343164  \n",
       "9      3.397526  \n",
       "10     2.921900  \n",
       "11     2.873161  \n",
       "12     2.910901  \n",
       "13     1.999408  \n",
       "14     2.688983  \n",
       "15     2.074398  \n",
       "16     1.747110  \n",
       "17     1.723996  \n",
       "18     1.707803  "
      ]
     },
     "execution_count": 368,
     "metadata": {},
     "output_type": "execute_result"
    }
   ],
   "source": [
    "# males_data_experience = males_data.copy()\n",
    "# grouped_males_data_experience = males_data_experience['wage'].groupby('exper')\n",
    "males_data_experience = males_data.copy()\n",
    "grouped_males_data_experience = males_data_experience.groupby('exper')['wage']\n",
    "\n",
    "# Displaying the table\n",
    "grouped_males_data_experience.describe()\n",
    "# print(grouped_males_data_experience)"
   ]
  },
  {
   "cell_type": "code",
   "execution_count": null,
   "id": "e89808dd",
   "metadata": {
    "ExecuteTime": {
     "end_time": "2023-07-18T22:48:34.078114Z",
     "start_time": "2023-07-18T22:48:34.078097Z"
    }
   },
   "outputs": [],
   "source": [
    "males_data_experience['exper']"
   ]
  },
  {
   "cell_type": "code",
   "execution_count": 378,
   "id": "99bbe57e",
   "metadata": {
    "ExecuteTime": {
     "end_time": "2023-07-18T22:53:03.098475Z",
     "start_time": "2023-07-18T22:53:02.949449Z"
    }
   },
   "outputs": [
    {
     "data": {
      "text/plain": [
       "<Axes: xlabel='exper'>"
      ]
     },
     "execution_count": 378,
     "metadata": {},
     "output_type": "execute_result"
    },
    {
     "data": {
      "image/png": "[encoded data removed]",
      "text/plain": [
       "<Figure size 640x480 with 1 Axes>"
      ]
     },
     "metadata": {},
     "output_type": "display_data"
    }
   ],
   "source": [
    "males_data_experience.groupby('exper')['occupation'].count().plot(kind='bar')"
   ]
  },
  {
   "cell_type": "code",
   "execution_count": 364,
   "id": "3fd6f8bf",
   "metadata": {
    "ExecuteTime": {
     "end_time": "2023-07-18T22:46:58.478983Z",
     "start_time": "2023-07-18T22:46:58.071146Z"
    }
   },
   "outputs": [
    {
     "data": {
      "text/plain": [
       "<Axes: xlabel='wage', ylabel='exper'>"
      ]
     },
     "execution_count": 364,
     "metadata": {},
     "output_type": "execute_result"
    },
    {
     "data": {
      "image/png": "[encoded data removed]",
      "text/plain": [
       "<Figure size 640x480 with 1 Axes>"
      ]
     },
     "metadata": {},
     "output_type": "display_data"
    }
   ],
   "source": [
    "sns.scatterplot(data=males_data_experience, x='wage', y='exper', hue='residence')"
   ]
  },
  {
   "cell_type": "code",
   "execution_count": 361,
   "id": "0eba3f72",
   "metadata": {
    "ExecuteTime": {
     "end_time": "2023-07-18T22:45:12.585415Z",
     "start_time": "2023-07-18T22:45:12.562961Z"
    }
   },
   "outputs": [
    {
     "data": {
      "text/html": [
       "<div>\n",
       "<style scoped>\n",
       "    .dataframe tbody tr th:only-of-type {\n",
       "        vertical-align: middle;\n",
       "    }\n",
       "\n",
       "    .dataframe tbody tr th {\n",
       "        vertical-align: top;\n",
       "    }\n",
       "\n",
       "    .dataframe thead th {\n",
       "        text-align: right;\n",
       "    }\n",
       "</style>\n",
       "<table border=\"1\" class=\"dataframe\">\n",
       "  <thead>\n",
       "    <tr style=\"text-align: right;\">\n",
       "      <th></th>\n",
       "      <th>S/N</th>\n",
       "      <th>nr</th>\n",
       "      <th>year</th>\n",
       "      <th>school</th>\n",
       "      <th>exper</th>\n",
       "      <th>union</th>\n",
       "      <th>ethn</th>\n",
       "      <th>married</th>\n",
       "      <th>health</th>\n",
       "      <th>wage</th>\n",
       "      <th>industry</th>\n",
       "      <th>occupation</th>\n",
       "      <th>residence</th>\n",
       "    </tr>\n",
       "  </thead>\n",
       "  <tbody>\n",
       "    <tr>\n",
       "      <th>0</th>\n",
       "      <td>1</td>\n",
       "      <td>13</td>\n",
       "      <td>1980</td>\n",
       "      <td>14</td>\n",
       "      <td>1</td>\n",
       "      <td>no</td>\n",
       "      <td>other</td>\n",
       "      <td>no</td>\n",
       "      <td>no</td>\n",
       "      <td>1.197540</td>\n",
       "      <td>Business_and_Repair_Service</td>\n",
       "      <td>Service_Workers</td>\n",
       "      <td>north_east</td>\n",
       "    </tr>\n",
       "    <tr>\n",
       "      <th>1</th>\n",
       "      <td>2</td>\n",
       "      <td>13</td>\n",
       "      <td>1981</td>\n",
       "      <td>14</td>\n",
       "      <td>2</td>\n",
       "      <td>yes</td>\n",
       "      <td>other</td>\n",
       "      <td>no</td>\n",
       "      <td>no</td>\n",
       "      <td>1.853060</td>\n",
       "      <td>Personal_Service</td>\n",
       "      <td>Service_Workers</td>\n",
       "      <td>north_east</td>\n",
       "    </tr>\n",
       "    <tr>\n",
       "      <th>2</th>\n",
       "      <td>3</td>\n",
       "      <td>13</td>\n",
       "      <td>1982</td>\n",
       "      <td>14</td>\n",
       "      <td>3</td>\n",
       "      <td>no</td>\n",
       "      <td>other</td>\n",
       "      <td>no</td>\n",
       "      <td>no</td>\n",
       "      <td>1.344462</td>\n",
       "      <td>Business_and_Repair_Service</td>\n",
       "      <td>Service_Workers</td>\n",
       "      <td>north_east</td>\n",
       "    </tr>\n",
       "    <tr>\n",
       "      <th>3</th>\n",
       "      <td>4</td>\n",
       "      <td>13</td>\n",
       "      <td>1983</td>\n",
       "      <td>14</td>\n",
       "      <td>4</td>\n",
       "      <td>no</td>\n",
       "      <td>other</td>\n",
       "      <td>no</td>\n",
       "      <td>no</td>\n",
       "      <td>1.433213</td>\n",
       "      <td>Business_and_Repair_Service</td>\n",
       "      <td>Service_Workers</td>\n",
       "      <td>north_east</td>\n",
       "    </tr>\n",
       "    <tr>\n",
       "      <th>4</th>\n",
       "      <td>5</td>\n",
       "      <td>13</td>\n",
       "      <td>1984</td>\n",
       "      <td>14</td>\n",
       "      <td>5</td>\n",
       "      <td>no</td>\n",
       "      <td>other</td>\n",
       "      <td>no</td>\n",
       "      <td>no</td>\n",
       "      <td>1.568125</td>\n",
       "      <td>Personal_Service</td>\n",
       "      <td>Craftsmen, Foremen_and_kindred</td>\n",
       "      <td>north_east</td>\n",
       "    </tr>\n",
       "    <tr>\n",
       "      <th>...</th>\n",
       "      <td>...</td>\n",
       "      <td>...</td>\n",
       "      <td>...</td>\n",
       "      <td>...</td>\n",
       "      <td>...</td>\n",
       "      <td>...</td>\n",
       "      <td>...</td>\n",
       "      <td>...</td>\n",
       "      <td>...</td>\n",
       "      <td>...</td>\n",
       "      <td>...</td>\n",
       "      <td>...</td>\n",
       "      <td>...</td>\n",
       "    </tr>\n",
       "    <tr>\n",
       "      <th>4355</th>\n",
       "      <td>4356</td>\n",
       "      <td>12548</td>\n",
       "      <td>1983</td>\n",
       "      <td>9</td>\n",
       "      <td>8</td>\n",
       "      <td>no</td>\n",
       "      <td>other</td>\n",
       "      <td>yes</td>\n",
       "      <td>no</td>\n",
       "      <td>1.591879</td>\n",
       "      <td>Construction</td>\n",
       "      <td>Craftsmen, Foremen_and_kindred</td>\n",
       "      <td>NaN</td>\n",
       "    </tr>\n",
       "    <tr>\n",
       "      <th>4356</th>\n",
       "      <td>4357</td>\n",
       "      <td>12548</td>\n",
       "      <td>1984</td>\n",
       "      <td>9</td>\n",
       "      <td>9</td>\n",
       "      <td>yes</td>\n",
       "      <td>other</td>\n",
       "      <td>yes</td>\n",
       "      <td>no</td>\n",
       "      <td>1.212543</td>\n",
       "      <td>Construction</td>\n",
       "      <td>Craftsmen, Foremen_and_kindred</td>\n",
       "      <td>NaN</td>\n",
       "    </tr>\n",
       "    <tr>\n",
       "      <th>4357</th>\n",
       "      <td>4358</td>\n",
       "      <td>12548</td>\n",
       "      <td>1985</td>\n",
       "      <td>9</td>\n",
       "      <td>10</td>\n",
       "      <td>no</td>\n",
       "      <td>other</td>\n",
       "      <td>yes</td>\n",
       "      <td>no</td>\n",
       "      <td>1.765962</td>\n",
       "      <td>Construction</td>\n",
       "      <td>Craftsmen, Foremen_and_kindred</td>\n",
       "      <td>NaN</td>\n",
       "    </tr>\n",
       "    <tr>\n",
       "      <th>4358</th>\n",
       "      <td>4359</td>\n",
       "      <td>12548</td>\n",
       "      <td>1986</td>\n",
       "      <td>9</td>\n",
       "      <td>11</td>\n",
       "      <td>yes</td>\n",
       "      <td>other</td>\n",
       "      <td>yes</td>\n",
       "      <td>no</td>\n",
       "      <td>1.745894</td>\n",
       "      <td>Professional_and_Related Service</td>\n",
       "      <td>Craftsmen, Foremen_and_kindred</td>\n",
       "      <td>NaN</td>\n",
       "    </tr>\n",
       "    <tr>\n",
       "      <th>4359</th>\n",
       "      <td>4360</td>\n",
       "      <td>12548</td>\n",
       "      <td>1987</td>\n",
       "      <td>9</td>\n",
       "      <td>12</td>\n",
       "      <td>yes</td>\n",
       "      <td>other</td>\n",
       "      <td>yes</td>\n",
       "      <td>no</td>\n",
       "      <td>1.466543</td>\n",
       "      <td>Public_Administration</td>\n",
       "      <td>Craftsmen, Foremen_and_kindred</td>\n",
       "      <td>NaN</td>\n",
       "    </tr>\n",
       "  </tbody>\n",
       "</table>\n",
       "<p>4360 rows × 13 columns</p>\n",
       "</div>"
      ],
      "text/plain": [
       "       S/N     nr  year  school  exper union   ethn married health      wage  \\\n",
       "0        1     13  1980      14      1    no  other      no     no  1.197540   \n",
       "1        2     13  1981      14      2   yes  other      no     no  1.853060   \n",
       "2        3     13  1982      14      3    no  other      no     no  1.344462   \n",
       "3        4     13  1983      14      4    no  other      no     no  1.433213   \n",
       "4        5     13  1984      14      5    no  other      no     no  1.568125   \n",
       "...    ...    ...   ...     ...    ...   ...    ...     ...    ...       ...   \n",
       "4355  4356  12548  1983       9      8    no  other     yes     no  1.591879   \n",
       "4356  4357  12548  1984       9      9   yes  other     yes     no  1.212543   \n",
       "4357  4358  12548  1985       9     10    no  other     yes     no  1.765962   \n",
       "4358  4359  12548  1986       9     11   yes  other     yes     no  1.745894   \n",
       "4359  4360  12548  1987       9     12   yes  other     yes     no  1.466543   \n",
       "\n",
       "                              industry                      occupation  \\\n",
       "0          Business_and_Repair_Service                 Service_Workers   \n",
       "1                     Personal_Service                 Service_Workers   \n",
       "2          Business_and_Repair_Service                 Service_Workers   \n",
       "3          Business_and_Repair_Service                 Service_Workers   \n",
       "4                     Personal_Service  Craftsmen, Foremen_and_kindred   \n",
       "...                                ...                             ...   \n",
       "4355                      Construction  Craftsmen, Foremen_and_kindred   \n",
       "4356                      Construction  Craftsmen, Foremen_and_kindred   \n",
       "4357                      Construction  Craftsmen, Foremen_and_kindred   \n",
       "4358  Professional_and_Related Service  Craftsmen, Foremen_and_kindred   \n",
       "4359             Public_Administration  Craftsmen, Foremen_and_kindred   \n",
       "\n",
       "       residence  \n",
       "0     north_east  \n",
       "1     north_east  \n",
       "2     north_east  \n",
       "3     north_east  \n",
       "4     north_east  \n",
       "...          ...  \n",
       "4355         NaN  \n",
       "4356         NaN  \n",
       "4357         NaN  \n",
       "4358         NaN  \n",
       "4359         NaN  \n",
       "\n",
       "[4360 rows x 13 columns]"
      ]
     },
     "execution_count": 361,
     "metadata": {},
     "output_type": "execute_result"
    }
   ],
   "source": [
    "males_data"
   ]
  },
  {
   "cell_type": "code",
   "execution_count": 386,
   "id": "3564bc1b",
   "metadata": {
    "ExecuteTime": {
     "end_time": "2023-07-18T23:05:54.575370Z",
     "start_time": "2023-07-18T23:05:54.283536Z"
    }
   },
   "outputs": [
    {
     "data": {
      "text/plain": [
       "<Axes: xlabel='exper'>"
      ]
     },
     "execution_count": 386,
     "metadata": {},
     "output_type": "execute_result"
    },
    {
     "data": {
      "image/png": "[encoded data removed]",
      "text/plain": [
       "<Figure size 640x480 with 1 Axes>"
      ]
     },
     "metadata": {},
     "output_type": "display_data"
    }
   ],
   "source": [
    "males_data_experience = males_data.copy()\n",
    "average_wage_by_experience = males_data_experience.groupby('exper')['wage'].mean()\n",
    "\n",
    "# Displaying the average wage for each year of experience with outliers\n",
    "average_wage_by_experience.plot(kind='bar')"
   ]
  },
  {
   "cell_type": "code",
   "execution_count": 389,
   "id": "4d7f8a3f",
   "metadata": {
    "ExecuteTime": {
     "end_time": "2023-07-18T23:19:17.276066Z",
     "start_time": "2023-07-18T23:19:17.264539Z"
    }
   },
   "outputs": [
    {
     "data": {
      "text/plain": [
       "exper\n",
       "0     1.610015\n",
       "1     1.258323\n",
       "2     1.448677\n",
       "3     1.558619\n",
       "4     1.611065\n",
       "5     1.648463\n",
       "6     1.675342\n",
       "7     1.733249\n",
       "8     1.774824\n",
       "9     1.802780\n",
       "10    1.765561\n",
       "11    1.732015\n",
       "12    1.649018\n",
       "13    1.477658\n",
       "14    1.607726\n",
       "15    1.528770\n",
       "16    1.564771\n",
       "17    1.417197\n",
       "18    1.664744\n",
       "Name: wage, dtype: float64"
      ]
     },
     "execution_count": 389,
     "metadata": {},
     "output_type": "execute_result"
    }
   ],
   "source": [
    "males_data_experience_wo_outliers = maled_data_wo_outliers.copy()\n",
    "average_wage_by_experience_wo_outliers = males_data_experience_wo_outliers.groupby(\n",
    "    'exper')['wage'].mean()\n",
    "\n",
    "# Displaying the average wage for each year of experience without outliers\n",
    "average_wage_by_experience_wo_outliers"
   ]
  },
  {
   "cell_type": "code",
   "execution_count": 421,
   "id": "ac48972d",
   "metadata": {
    "ExecuteTime": {
     "end_time": "2023-07-18T23:47:00.448149Z",
     "start_time": "2023-07-18T23:47:00.437514Z"
    }
   },
   "outputs": [],
   "source": [
    "#Number of workers that earned less than the Montana gov federal minimum wage of $2.90/hr or more between 1980-1987\n",
    "#src: [https://erd.dli.mt.gov/labor-standards/wage-and-hour-payment-act/minimum-wage-history]\n",
    "males_data_copy2 = males_data.copy()\n",
    "grouped_males_data = males_data_copy2[males_data_copy2['wage'] < 2.9].groupby(\n",
    "    'occupation')"
   ]
  },
  {
   "cell_type": "code",
   "execution_count": 423,
   "id": "a1117d39",
   "metadata": {
    "ExecuteTime": {
     "end_time": "2023-07-18T23:48:08.728436Z",
     "start_time": "2023-07-18T23:48:08.666295Z"
    }
   },
   "outputs": [
    {
     "data": {
      "text/plain": [
       "3091"
      ]
     },
     "execution_count": 423,
     "metadata": {},
     "output_type": "execute_result"
    }
   ],
   "source": [
    "len(grouped_males_data.value_counts())"
   ]
  },
  {
   "cell_type": "code",
   "execution_count": 424,
   "id": "e1609187",
   "metadata": {
    "ExecuteTime": {
     "end_time": "2023-07-18T23:52:32.632631Z",
     "start_time": "2023-07-18T23:52:32.597765Z"
    }
   },
   "outputs": [
    {
     "data": {
      "text/plain": [
       "24"
      ]
     },
     "execution_count": 424,
     "metadata": {},
     "output_type": "execute_result"
    }
   ],
   "source": [
    "#Number of workers that earned greater than the Montana gov federal minimum wage of $2.90/hr or more between 1980-1987\n",
    "#src: [https://erd.dli.mt.gov/labor-standards/wage-and-hour-payment-act/minimum-wage-history]\n",
    "grouped_males_data2 = males_data_copy2[males_data_copy2['wage'] >=\n",
    "                                       2.9].groupby('occupation')\n",
    "\n",
    "len(grouped_males_data2.value_counts())"
   ]
  },
  {
   "cell_type": "code",
   "execution_count": 425,
   "id": "2eac9baa",
   "metadata": {
    "ExecuteTime": {
     "end_time": "2023-07-18T23:53:06.513511Z",
     "start_time": "2023-07-18T23:53:06.477482Z"
    }
   },
   "outputs": [
    {
     "data": {
      "text/plain": [
       "5"
      ]
     },
     "execution_count": 425,
     "metadata": {},
     "output_type": "execute_result"
    }
   ],
   "source": [
    "#Number of workers that earned greater than the Montana gov federal minimum wage of $3.35/hr or more between 1980-1987\n",
    "#src: [https://erd.dli.mt.gov/labor-standards/wage-and-hour-payment-act/minimum-wage-history]\n",
    "grouped_males_data2 = males_data_copy2[\n",
    "    males_data_copy2['wage'] >= 3.35].groupby('occupation')\n",
    "\n",
    "len(grouped_males_data2.value_counts())"
   ]
  },
  {
   "cell_type": "code",
   "execution_count": null,
   "id": "76a2f2a2",
   "metadata": {},
   "outputs": [],
   "source": []
  }
 ],
 "metadata": {
  "kernelspec": {
   "display_name": "Python 3 (ipykernel)",
   "language": "python",
   "name": "python3"
  },
  "language_info": {
   "codemirror_mode": {
    "name": "ipython",
    "version": 3
   },
   "file_extension": ".py",
   "mimetype": "text/x-python",
   "name": "python",
   "nbconvert_exporter": "python",
   "pygments_lexer": "ipython3",
   "version": "3.-1.-1"
  },
  "varInspector": {
   "cols": {
    "lenName": 16,
    "lenType": 16,
    "lenVar": 40
   },
   "kernels_config": {
    "python": {
     "delete_cmd_postfix": "",
     "delete_cmd_prefix": "del ",
     "library": "var_list.py",
     "varRefreshCmd": "print(var_dic_list())"
    },
    "r": {
     "delete_cmd_postfix": ") ",
     "delete_cmd_prefix": "rm(",
     "library": "var_list.r",
     "varRefreshCmd": "cat(var_dic_list()) "
    }
   },
   "types_to_exclude": [
    "module",
    "function",
    "builtin_function_or_method",
    "instance",
    "_Feature"
   ],
   "window_display": false
  }
 },
 "nbformat": 4,
 "nbformat_minor": 5
}
