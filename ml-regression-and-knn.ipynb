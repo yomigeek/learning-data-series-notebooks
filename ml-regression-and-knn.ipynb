{
 "cells": [
  {
   "cell_type": "code",
   "execution_count": 108,
   "id": "03ccbb71",
   "metadata": {
    "ExecuteTime": {
     "end_time": "2023-11-09T13:14:27.414654Z",
     "start_time": "2023-11-09T13:14:27.344902Z"
    }
   },
   "outputs": [
    {
     "data": {
      "text/html": [
       "<div>\n",
       "<style scoped>\n",
       "    .dataframe tbody tr th:only-of-type {\n",
       "        vertical-align: middle;\n",
       "    }\n",
       "\n",
       "    .dataframe tbody tr th {\n",
       "        vertical-align: top;\n",
       "    }\n",
       "\n",
       "    .dataframe thead th {\n",
       "        text-align: right;\n",
       "    }\n",
       "</style>\n",
       "<table border=\"1\" class=\"dataframe\">\n",
       "  <thead>\n",
       "    <tr style=\"text-align: right;\">\n",
       "      <th></th>\n",
       "      <th>Unnamed: 0</th>\n",
       "      <th>account_length</th>\n",
       "      <th>area_code</th>\n",
       "      <th>international_plan</th>\n",
       "      <th>voice_mail_plan</th>\n",
       "      <th>number_vmail_messages</th>\n",
       "      <th>total_day_minutes</th>\n",
       "      <th>total_day_calls</th>\n",
       "      <th>total_day_charge</th>\n",
       "      <th>total_eve_minutes</th>\n",
       "      <th>total_eve_calls</th>\n",
       "      <th>total_eve_charge</th>\n",
       "      <th>total_night_minutes</th>\n",
       "      <th>total_night_calls</th>\n",
       "      <th>total_night_charge</th>\n",
       "      <th>total_intl_minutes</th>\n",
       "      <th>total_intl_calls</th>\n",
       "      <th>total_intl_charge</th>\n",
       "      <th>customer_service_calls</th>\n",
       "      <th>churn</th>\n",
       "    </tr>\n",
       "  </thead>\n",
       "  <tbody>\n",
       "    <tr>\n",
       "      <th>0</th>\n",
       "      <td>0</td>\n",
       "      <td>128</td>\n",
       "      <td>415</td>\n",
       "      <td>0</td>\n",
       "      <td>1</td>\n",
       "      <td>25</td>\n",
       "      <td>265.1</td>\n",
       "      <td>110</td>\n",
       "      <td>45.07</td>\n",
       "      <td>197.4</td>\n",
       "      <td>99</td>\n",
       "      <td>16.78</td>\n",
       "      <td>244.7</td>\n",
       "      <td>91</td>\n",
       "      <td>11.01</td>\n",
       "      <td>10.0</td>\n",
       "      <td>3</td>\n",
       "      <td>2.70</td>\n",
       "      <td>1</td>\n",
       "      <td>0</td>\n",
       "    </tr>\n",
       "    <tr>\n",
       "      <th>1</th>\n",
       "      <td>1</td>\n",
       "      <td>107</td>\n",
       "      <td>415</td>\n",
       "      <td>0</td>\n",
       "      <td>1</td>\n",
       "      <td>26</td>\n",
       "      <td>161.6</td>\n",
       "      <td>123</td>\n",
       "      <td>27.47</td>\n",
       "      <td>195.5</td>\n",
       "      <td>103</td>\n",
       "      <td>16.62</td>\n",
       "      <td>254.4</td>\n",
       "      <td>103</td>\n",
       "      <td>11.45</td>\n",
       "      <td>13.7</td>\n",
       "      <td>3</td>\n",
       "      <td>3.70</td>\n",
       "      <td>1</td>\n",
       "      <td>0</td>\n",
       "    </tr>\n",
       "    <tr>\n",
       "      <th>2</th>\n",
       "      <td>2</td>\n",
       "      <td>137</td>\n",
       "      <td>415</td>\n",
       "      <td>0</td>\n",
       "      <td>0</td>\n",
       "      <td>0</td>\n",
       "      <td>243.4</td>\n",
       "      <td>114</td>\n",
       "      <td>41.38</td>\n",
       "      <td>121.2</td>\n",
       "      <td>110</td>\n",
       "      <td>10.30</td>\n",
       "      <td>162.6</td>\n",
       "      <td>104</td>\n",
       "      <td>7.32</td>\n",
       "      <td>12.2</td>\n",
       "      <td>5</td>\n",
       "      <td>3.29</td>\n",
       "      <td>0</td>\n",
       "      <td>0</td>\n",
       "    </tr>\n",
       "    <tr>\n",
       "      <th>3</th>\n",
       "      <td>3</td>\n",
       "      <td>84</td>\n",
       "      <td>408</td>\n",
       "      <td>1</td>\n",
       "      <td>0</td>\n",
       "      <td>0</td>\n",
       "      <td>299.4</td>\n",
       "      <td>71</td>\n",
       "      <td>50.90</td>\n",
       "      <td>61.9</td>\n",
       "      <td>88</td>\n",
       "      <td>5.26</td>\n",
       "      <td>196.9</td>\n",
       "      <td>89</td>\n",
       "      <td>8.86</td>\n",
       "      <td>6.6</td>\n",
       "      <td>7</td>\n",
       "      <td>1.78</td>\n",
       "      <td>2</td>\n",
       "      <td>0</td>\n",
       "    </tr>\n",
       "    <tr>\n",
       "      <th>4</th>\n",
       "      <td>4</td>\n",
       "      <td>75</td>\n",
       "      <td>415</td>\n",
       "      <td>1</td>\n",
       "      <td>0</td>\n",
       "      <td>0</td>\n",
       "      <td>166.7</td>\n",
       "      <td>113</td>\n",
       "      <td>28.34</td>\n",
       "      <td>148.3</td>\n",
       "      <td>122</td>\n",
       "      <td>12.61</td>\n",
       "      <td>186.9</td>\n",
       "      <td>121</td>\n",
       "      <td>8.41</td>\n",
       "      <td>10.1</td>\n",
       "      <td>3</td>\n",
       "      <td>2.73</td>\n",
       "      <td>3</td>\n",
       "      <td>0</td>\n",
       "    </tr>\n",
       "  </tbody>\n",
       "</table>\n",
       "</div>"
      ],
      "text/plain": [
       "   Unnamed: 0  account_length  area_code  international_plan  voice_mail_plan  \\\n",
       "0           0             128        415                   0                1   \n",
       "1           1             107        415                   0                1   \n",
       "2           2             137        415                   0                0   \n",
       "3           3              84        408                   1                0   \n",
       "4           4              75        415                   1                0   \n",
       "\n",
       "   number_vmail_messages  total_day_minutes  total_day_calls  \\\n",
       "0                     25              265.1              110   \n",
       "1                     26              161.6              123   \n",
       "2                      0              243.4              114   \n",
       "3                      0              299.4               71   \n",
       "4                      0              166.7              113   \n",
       "\n",
       "   total_day_charge  total_eve_minutes  total_eve_calls  total_eve_charge  \\\n",
       "0             45.07              197.4               99             16.78   \n",
       "1             27.47              195.5              103             16.62   \n",
       "2             41.38              121.2              110             10.30   \n",
       "3             50.90               61.9               88              5.26   \n",
       "4             28.34              148.3              122             12.61   \n",
       "\n",
       "   total_night_minutes  total_night_calls  total_night_charge  \\\n",
       "0                244.7                 91               11.01   \n",
       "1                254.4                103               11.45   \n",
       "2                162.6                104                7.32   \n",
       "3                196.9                 89                8.86   \n",
       "4                186.9                121                8.41   \n",
       "\n",
       "   total_intl_minutes  total_intl_calls  total_intl_charge  \\\n",
       "0                10.0                 3               2.70   \n",
       "1                13.7                 3               3.70   \n",
       "2                12.2                 5               3.29   \n",
       "3                 6.6                 7               1.78   \n",
       "4                10.1                 3               2.73   \n",
       "\n",
       "   customer_service_calls  churn  \n",
       "0                       1      0  \n",
       "1                       1      0  \n",
       "2                       0      0  \n",
       "3                       2      0  \n",
       "4                       3      0  "
      ]
     },
     "execution_count": 108,
     "metadata": {},
     "output_type": "execute_result"
    }
   ],
   "source": [
    "import pandas as pd\n",
    "\n",
    "churn_df = pd.read_csv(\"datasets/telecom_churn_clean.csv\")\n",
    "\n",
    "churn_df.head()"
   ]
  },
  {
   "cell_type": "code",
   "execution_count": 109,
   "id": "fd015c4f",
   "metadata": {
    "ExecuteTime": {
     "end_time": "2023-11-09T13:14:27.428992Z",
     "start_time": "2023-11-09T13:14:27.416391Z"
    }
   },
   "outputs": [
    {
     "name": "stdout",
     "output_type": "stream",
     "text": [
      "<class 'pandas.core.frame.DataFrame'>\n",
      "RangeIndex: 3333 entries, 0 to 3332\n",
      "Data columns (total 20 columns):\n",
      " #   Column                  Non-Null Count  Dtype  \n",
      "---  ------                  --------------  -----  \n",
      " 0   Unnamed: 0              3333 non-null   int64  \n",
      " 1   account_length          3333 non-null   int64  \n",
      " 2   area_code               3333 non-null   int64  \n",
      " 3   international_plan      3333 non-null   int64  \n",
      " 4   voice_mail_plan         3333 non-null   int64  \n",
      " 5   number_vmail_messages   3333 non-null   int64  \n",
      " 6   total_day_minutes       3333 non-null   float64\n",
      " 7   total_day_calls         3333 non-null   int64  \n",
      " 8   total_day_charge        3333 non-null   float64\n",
      " 9   total_eve_minutes       3333 non-null   float64\n",
      " 10  total_eve_calls         3333 non-null   int64  \n",
      " 11  total_eve_charge        3333 non-null   float64\n",
      " 12  total_night_minutes     3333 non-null   float64\n",
      " 13  total_night_calls       3333 non-null   int64  \n",
      " 14  total_night_charge      3333 non-null   float64\n",
      " 15  total_intl_minutes      3333 non-null   float64\n",
      " 16  total_intl_calls        3333 non-null   int64  \n",
      " 17  total_intl_charge       3333 non-null   float64\n",
      " 18  customer_service_calls  3333 non-null   int64  \n",
      " 19  churn                   3333 non-null   int64  \n",
      "dtypes: float64(8), int64(12)\n",
      "memory usage: 520.9 KB\n"
     ]
    }
   ],
   "source": [
    "churn_df.info()"
   ]
  },
  {
   "cell_type": "markdown",
   "id": "9f944c63",
   "metadata": {},
   "source": [
    "# kNN Classifier\n",
    "The k-nearest neighbors algorithm, also known as KNN or k-NN, is a non-parametric, supervised learning classifier, which uses proximity to make classifications or predictions about the grouping of an individual data point."
   ]
  },
  {
   "cell_type": "code",
   "execution_count": 110,
   "id": "a942e820",
   "metadata": {
    "ExecuteTime": {
     "end_time": "2023-11-09T13:14:27.434666Z",
     "start_time": "2023-11-09T13:14:27.429834Z"
    }
   },
   "outputs": [],
   "source": [
    "from sklearn.neighbors import KNeighborsClassifier\n",
    "X = churn_df[[\"total_day_charge\", \"total_eve_charge\"]].values #features\n",
    "y = churn_df[\"churn\"].values #Target values\n",
    "\n",
    "#The .values convert these data into Numpy Arrays"
   ]
  },
  {
   "cell_type": "code",
   "execution_count": 111,
   "id": "819b07f8",
   "metadata": {
    "ExecuteTime": {
     "end_time": "2023-11-09T13:14:27.440308Z",
     "start_time": "2023-11-09T13:14:27.436809Z"
    }
   },
   "outputs": [
    {
     "name": "stdout",
     "output_type": "stream",
     "text": [
      "(3333, 2) (3333,)\n"
     ]
    }
   ],
   "source": [
    "print(X.shape, y.shape)"
   ]
  },
  {
   "cell_type": "code",
   "execution_count": 112,
   "id": "3442f5b9",
   "metadata": {
    "ExecuteTime": {
     "end_time": "2023-11-09T13:14:27.464203Z",
     "start_time": "2023-11-09T13:14:27.446846Z"
    }
   },
   "outputs": [
    {
     "data": {
      "text/html": [
       "<style>#sk-container-id-6 {color: black;}#sk-container-id-6 pre{padding: 0;}#sk-container-id-6 div.sk-toggleable {background-color: white;}#sk-container-id-6 label.sk-toggleable__label {cursor: pointer;display: block;width: 100%;margin-bottom: 0;padding: 0.3em;box-sizing: border-box;text-align: center;}#sk-container-id-6 label.sk-toggleable__label-arrow:before {content: \"▸\";float: left;margin-right: 0.25em;color: #696969;}#sk-container-id-6 label.sk-toggleable__label-arrow:hover:before {color: black;}#sk-container-id-6 div.sk-estimator:hover label.sk-toggleable__label-arrow:before {color: black;}#sk-container-id-6 div.sk-toggleable__content {max-height: 0;max-width: 0;overflow: hidden;text-align: left;background-color: #f0f8ff;}#sk-container-id-6 div.sk-toggleable__content pre {margin: 0.2em;color: black;border-radius: 0.25em;background-color: #f0f8ff;}#sk-container-id-6 input.sk-toggleable__control:checked~div.sk-toggleable__content {max-height: 200px;max-width: 100%;overflow: auto;}#sk-container-id-6 input.sk-toggleable__control:checked~label.sk-toggleable__label-arrow:before {content: \"▾\";}#sk-container-id-6 div.sk-estimator input.sk-toggleable__control:checked~label.sk-toggleable__label {background-color: #d4ebff;}#sk-container-id-6 div.sk-label input.sk-toggleable__control:checked~label.sk-toggleable__label {background-color: #d4ebff;}#sk-container-id-6 input.sk-hidden--visually {border: 0;clip: rect(1px 1px 1px 1px);clip: rect(1px, 1px, 1px, 1px);height: 1px;margin: -1px;overflow: hidden;padding: 0;position: absolute;width: 1px;}#sk-container-id-6 div.sk-estimator {font-family: monospace;background-color: #f0f8ff;border: 1px dotted black;border-radius: 0.25em;box-sizing: border-box;margin-bottom: 0.5em;}#sk-container-id-6 div.sk-estimator:hover {background-color: #d4ebff;}#sk-container-id-6 div.sk-parallel-item::after {content: \"\";width: 100%;border-bottom: 1px solid gray;flex-grow: 1;}#sk-container-id-6 div.sk-label:hover label.sk-toggleable__label {background-color: #d4ebff;}#sk-container-id-6 div.sk-serial::before {content: \"\";position: absolute;border-left: 1px solid gray;box-sizing: border-box;top: 0;bottom: 0;left: 50%;z-index: 0;}#sk-container-id-6 div.sk-serial {display: flex;flex-direction: column;align-items: center;background-color: white;padding-right: 0.2em;padding-left: 0.2em;position: relative;}#sk-container-id-6 div.sk-item {position: relative;z-index: 1;}#sk-container-id-6 div.sk-parallel {display: flex;align-items: stretch;justify-content: center;background-color: white;position: relative;}#sk-container-id-6 div.sk-item::before, #sk-container-id-6 div.sk-parallel-item::before {content: \"\";position: absolute;border-left: 1px solid gray;box-sizing: border-box;top: 0;bottom: 0;left: 50%;z-index: -1;}#sk-container-id-6 div.sk-parallel-item {display: flex;flex-direction: column;z-index: 1;position: relative;background-color: white;}#sk-container-id-6 div.sk-parallel-item:first-child::after {align-self: flex-end;width: 50%;}#sk-container-id-6 div.sk-parallel-item:last-child::after {align-self: flex-start;width: 50%;}#sk-container-id-6 div.sk-parallel-item:only-child::after {width: 0;}#sk-container-id-6 div.sk-dashed-wrapped {border: 1px dashed gray;margin: 0 0.4em 0.5em 0.4em;box-sizing: border-box;padding-bottom: 0.4em;background-color: white;}#sk-container-id-6 div.sk-label label {font-family: monospace;font-weight: bold;display: inline-block;line-height: 1.2em;}#sk-container-id-6 div.sk-label-container {text-align: center;}#sk-container-id-6 div.sk-container {/* jupyter's `normalize.less` sets `[hidden] { display: none; }` but bootstrap.min.css set `[hidden] { display: none !important; }` so we also need the `!important` here to be able to override the default hidden behavior on the sphinx rendered scikit-learn.org. See: https://github.com/scikit-learn/scikit-learn/issues/21755 */display: inline-block !important;position: relative;}#sk-container-id-6 div.sk-text-repr-fallback {display: none;}</style><div id=\"sk-container-id-6\" class=\"sk-top-container\"><div class=\"sk-text-repr-fallback\"><pre>KNeighborsClassifier(n_neighbors=15)</pre><b>In a Jupyter environment, please rerun this cell to show the HTML representation or trust the notebook. <br />On GitHub, the HTML representation is unable to render, please try loading this page with nbviewer.org.</b></div><div class=\"sk-container\" hidden><div class=\"sk-item\"><div class=\"sk-estimator sk-toggleable\"><input class=\"sk-toggleable__control sk-hidden--visually\" id=\"sk-estimator-id-6\" type=\"checkbox\" checked><label for=\"sk-estimator-id-6\" class=\"sk-toggleable__label sk-toggleable__label-arrow\">KNeighborsClassifier</label><div class=\"sk-toggleable__content\"><pre>KNeighborsClassifier(n_neighbors=15)</pre></div></div></div></div></div>"
      ],
      "text/plain": [
       "KNeighborsClassifier(n_neighbors=15)"
      ]
     },
     "execution_count": 112,
     "metadata": {},
     "output_type": "execute_result"
    }
   ],
   "source": [
    "knn = KNeighborsClassifier(n_neighbors=15) \n",
    "knn.fit(X, y)"
   ]
  },
  {
   "cell_type": "code",
   "execution_count": 113,
   "id": "abc4c6e6",
   "metadata": {
    "ExecuteTime": {
     "end_time": "2023-11-09T13:14:27.469930Z",
     "start_time": "2023-11-09T13:14:27.466191Z"
    }
   },
   "outputs": [
    {
     "name": "stdout",
     "output_type": "stream",
     "text": [
      "(3, 2)\n"
     ]
    }
   ],
   "source": [
    "X_new = np.array([[56.8, 17.5], [24.4, 24.1], [50.1, 10.9]])\n",
    "print(X_new.shape)"
   ]
  },
  {
   "cell_type": "code",
   "execution_count": 114,
   "id": "35d4163e",
   "metadata": {
    "ExecuteTime": {
     "end_time": "2023-11-09T13:14:27.474588Z",
     "start_time": "2023-11-09T13:14:27.471260Z"
    }
   },
   "outputs": [],
   "source": [
    "#(3,2) here means it has 3 rows and 2 columns i.e 3 observations and 2 features"
   ]
  },
  {
   "cell_type": "code",
   "execution_count": 115,
   "id": "ddb0cf4d",
   "metadata": {
    "ExecuteTime": {
     "end_time": "2023-11-09T13:14:27.491042Z",
     "start_time": "2023-11-09T13:14:27.476377Z"
    }
   },
   "outputs": [
    {
     "name": "stdout",
     "output_type": "stream",
     "text": [
      "Predictions: [1 0 0]\n"
     ]
    }
   ],
   "source": [
    "predictions = knn.predict(X_new)\n",
    "print('Predictions: {}'.format(predictions))"
   ]
  },
  {
   "cell_type": "code",
   "execution_count": 116,
   "id": "f5233448",
   "metadata": {
    "ExecuteTime": {
     "end_time": "2023-11-09T13:14:27.499450Z",
     "start_time": "2023-11-09T13:14:27.494759Z"
    }
   },
   "outputs": [],
   "source": [
    "#Here Predictions: [1 0 0] means that 1 is churn and 0 is no churn"
   ]
  },
  {
   "cell_type": "code",
   "execution_count": 117,
   "id": "27490dd6",
   "metadata": {
    "ExecuteTime": {
     "end_time": "2023-11-09T13:14:27.509887Z",
     "start_time": "2023-11-09T13:14:27.502059Z"
    }
   },
   "outputs": [
    {
     "data": {
      "text/html": [
       "<style>#sk-container-id-7 {color: black;}#sk-container-id-7 pre{padding: 0;}#sk-container-id-7 div.sk-toggleable {background-color: white;}#sk-container-id-7 label.sk-toggleable__label {cursor: pointer;display: block;width: 100%;margin-bottom: 0;padding: 0.3em;box-sizing: border-box;text-align: center;}#sk-container-id-7 label.sk-toggleable__label-arrow:before {content: \"▸\";float: left;margin-right: 0.25em;color: #696969;}#sk-container-id-7 label.sk-toggleable__label-arrow:hover:before {color: black;}#sk-container-id-7 div.sk-estimator:hover label.sk-toggleable__label-arrow:before {color: black;}#sk-container-id-7 div.sk-toggleable__content {max-height: 0;max-width: 0;overflow: hidden;text-align: left;background-color: #f0f8ff;}#sk-container-id-7 div.sk-toggleable__content pre {margin: 0.2em;color: black;border-radius: 0.25em;background-color: #f0f8ff;}#sk-container-id-7 input.sk-toggleable__control:checked~div.sk-toggleable__content {max-height: 200px;max-width: 100%;overflow: auto;}#sk-container-id-7 input.sk-toggleable__control:checked~label.sk-toggleable__label-arrow:before {content: \"▾\";}#sk-container-id-7 div.sk-estimator input.sk-toggleable__control:checked~label.sk-toggleable__label {background-color: #d4ebff;}#sk-container-id-7 div.sk-label input.sk-toggleable__control:checked~label.sk-toggleable__label {background-color: #d4ebff;}#sk-container-id-7 input.sk-hidden--visually {border: 0;clip: rect(1px 1px 1px 1px);clip: rect(1px, 1px, 1px, 1px);height: 1px;margin: -1px;overflow: hidden;padding: 0;position: absolute;width: 1px;}#sk-container-id-7 div.sk-estimator {font-family: monospace;background-color: #f0f8ff;border: 1px dotted black;border-radius: 0.25em;box-sizing: border-box;margin-bottom: 0.5em;}#sk-container-id-7 div.sk-estimator:hover {background-color: #d4ebff;}#sk-container-id-7 div.sk-parallel-item::after {content: \"\";width: 100%;border-bottom: 1px solid gray;flex-grow: 1;}#sk-container-id-7 div.sk-label:hover label.sk-toggleable__label {background-color: #d4ebff;}#sk-container-id-7 div.sk-serial::before {content: \"\";position: absolute;border-left: 1px solid gray;box-sizing: border-box;top: 0;bottom: 0;left: 50%;z-index: 0;}#sk-container-id-7 div.sk-serial {display: flex;flex-direction: column;align-items: center;background-color: white;padding-right: 0.2em;padding-left: 0.2em;position: relative;}#sk-container-id-7 div.sk-item {position: relative;z-index: 1;}#sk-container-id-7 div.sk-parallel {display: flex;align-items: stretch;justify-content: center;background-color: white;position: relative;}#sk-container-id-7 div.sk-item::before, #sk-container-id-7 div.sk-parallel-item::before {content: \"\";position: absolute;border-left: 1px solid gray;box-sizing: border-box;top: 0;bottom: 0;left: 50%;z-index: -1;}#sk-container-id-7 div.sk-parallel-item {display: flex;flex-direction: column;z-index: 1;position: relative;background-color: white;}#sk-container-id-7 div.sk-parallel-item:first-child::after {align-self: flex-end;width: 50%;}#sk-container-id-7 div.sk-parallel-item:last-child::after {align-self: flex-start;width: 50%;}#sk-container-id-7 div.sk-parallel-item:only-child::after {width: 0;}#sk-container-id-7 div.sk-dashed-wrapped {border: 1px dashed gray;margin: 0 0.4em 0.5em 0.4em;box-sizing: border-box;padding-bottom: 0.4em;background-color: white;}#sk-container-id-7 div.sk-label label {font-family: monospace;font-weight: bold;display: inline-block;line-height: 1.2em;}#sk-container-id-7 div.sk-label-container {text-align: center;}#sk-container-id-7 div.sk-container {/* jupyter's `normalize.less` sets `[hidden] { display: none; }` but bootstrap.min.css set `[hidden] { display: none !important; }` so we also need the `!important` here to be able to override the default hidden behavior on the sphinx rendered scikit-learn.org. See: https://github.com/scikit-learn/scikit-learn/issues/21755 */display: inline-block !important;position: relative;}#sk-container-id-7 div.sk-text-repr-fallback {display: none;}</style><div id=\"sk-container-id-7\" class=\"sk-top-container\"><div class=\"sk-text-repr-fallback\"><pre>KNeighborsClassifier(n_neighbors=6)</pre><b>In a Jupyter environment, please rerun this cell to show the HTML representation or trust the notebook. <br />On GitHub, the HTML representation is unable to render, please try loading this page with nbviewer.org.</b></div><div class=\"sk-container\" hidden><div class=\"sk-item\"><div class=\"sk-estimator sk-toggleable\"><input class=\"sk-toggleable__control sk-hidden--visually\" id=\"sk-estimator-id-7\" type=\"checkbox\" checked><label for=\"sk-estimator-id-7\" class=\"sk-toggleable__label sk-toggleable__label-arrow\">KNeighborsClassifier</label><div class=\"sk-toggleable__content\"><pre>KNeighborsClassifier(n_neighbors=6)</pre></div></div></div></div></div>"
      ],
      "text/plain": [
       "KNeighborsClassifier(n_neighbors=6)"
      ]
     },
     "execution_count": 117,
     "metadata": {},
     "output_type": "execute_result"
    }
   ],
   "source": [
    "# Import KNeighborsClassifier\n",
    "from sklearn.neighbors import KNeighborsClassifier\n",
    "\n",
    "# Create arrays for the features and the target variable\n",
    "y = churn_df[\"churn\"].values\n",
    "X = churn_df[[\"total_day_charge\", \"total_eve_charge\"]].values #features\n",
    "# X = churn_df[[\"account_length\", \"customer_service_calls\"]].values\n",
    "\n",
    "# Create a KNN classifier with 6 neighbors\n",
    "knn = KNeighborsClassifier(n_neighbors=6)\n",
    "\n",
    "# Fit the classifier to the data\n",
    "knn.fit(X, y)"
   ]
  },
  {
   "cell_type": "code",
   "execution_count": 118,
   "id": "7c290e4e",
   "metadata": {
    "ExecuteTime": {
     "end_time": "2023-11-09T13:14:27.519765Z",
     "start_time": "2023-11-09T13:14:27.513268Z"
    }
   },
   "outputs": [
    {
     "name": "stdout",
     "output_type": "stream",
     "text": [
      "Predictions: [1 0 0]\n"
     ]
    }
   ],
   "source": [
    "# X_new = np.array([[30.0, 17.5],\n",
    "#                   [107.0, 24.1],\n",
    "#                   [213.0, 10.9]])\n",
    "\n",
    "X_new = np.array([[56.8, 17.5], [24.4, 24.1], [50.1, 10.9]])\n",
    "\n",
    "# Predict the labels for the X_new\n",
    "y_pred = knn.predict(X_new)\n",
    "\n",
    "# Print the predictions for X_new\n",
    "print(\"Predictions: {}\".format(y_pred)) "
   ]
  },
  {
   "cell_type": "markdown",
   "id": "450eef00",
   "metadata": {},
   "source": [
    "## Model Performance Measure...Train/test split"
   ]
  },
  {
   "cell_type": "code",
   "execution_count": 119,
   "id": "6fb5d6a3",
   "metadata": {
    "ExecuteTime": {
     "end_time": "2023-11-09T13:14:27.531249Z",
     "start_time": "2023-11-09T13:14:27.522232Z"
    }
   },
   "outputs": [],
   "source": [
    "# Use train_test_split to split the dataset into training and testing sets.\n",
    "# Pass the X and y features and targets to the function as well as your test size of 30%. \n",
    "# Stratify is used to keep the same proportions as the initial dataset. \n",
    "# Random state is used to enable reproducible results.\n",
    "\n",
    "from sklearn.model_selection import train_test_split\n",
    "X_train, X_test, y_train, y_test = train_test_split(X, y, test_size=0.3, random_state=21, stratify=y)"
   ]
  },
  {
   "cell_type": "code",
   "execution_count": 120,
   "id": "228473e1",
   "metadata": {
    "ExecuteTime": {
     "end_time": "2023-11-09T13:14:27.552431Z",
     "start_time": "2023-11-09T13:14:27.532242Z"
    }
   },
   "outputs": [
    {
     "name": "stdout",
     "output_type": "stream",
     "text": [
      "0.872\n"
     ]
    }
   ],
   "source": [
    "knn = KNeighborsClassifier(n_neighbors=6)\n",
    "knn.fit(X_train, y_train)\n",
    "\n",
    "#To predict the accuracy of our model we use knn.score\n",
    "print(knn.score(X_test, y_test))"
   ]
  },
  {
   "cell_type": "code",
   "execution_count": 121,
   "id": "b6c179c0",
   "metadata": {
    "ExecuteTime": {
     "end_time": "2023-11-09T13:14:28.928733Z",
     "start_time": "2023-11-09T13:14:27.555579Z"
    }
   },
   "outputs": [
    {
     "data": {
      "image/png": "[encoded data removed]",
      "text/plain": [
       "<Figure size 800x600 with 1 Axes>"
      ]
     },
     "metadata": {},
     "output_type": "display_data"
    }
   ],
   "source": [
    "#model complexty and over/underfitting\n",
    "import matplotlib.pyplot as plt\n",
    "\n",
    "train_accuracies = {}\n",
    "test_accuracies = {}\n",
    "neighbors = np.arange(1, 26)\n",
    "for neighbor in neighbors:\n",
    "    knn = KNeighborsClassifier(n_neighbors=neighbor)\n",
    "    knn.fit(X_train, y_train)\n",
    "    train_accuracies[neighbor] = knn.score(X_train, y_train)\n",
    "    test_accuracies[neighbor] = knn.score(X_test, y_test)\n",
    "plt.figure(figsize=(8, 6))\n",
    "plt.title(\"KNN: Varying Number of Neighbors\")\n",
    "plt.plot(neighbors, train_accuracies.values(), label=\"Training Accuracy\")\n",
    "plt.plot(neighbors, test_accuracies.values(), label=\"Testing Accuracy\")\n",
    "plt.legend()\n",
    "plt.xlabel(\"Number of Neighbors\")\n",
    "plt.ylabel(\"Accuracy\")\n",
    "plt.show()"
   ]
  },
  {
   "cell_type": "markdown",
   "id": "c5054921",
   "metadata": {
    "ExecuteTime": {
     "end_time": "2023-11-05T20:24:03.954797Z",
     "start_time": "2023-11-05T20:24:03.944572Z"
    }
   },
   "source": [
    "#### Judging from above plot, we can say from k=15, we start to experience overfitting\n",
    "#### For the test set, accuracy peaks with 15 neighbors, suggesting it is the optimal value for our model. "
   ]
  },
  {
   "cell_type": "markdown",
   "id": "3363bf8d",
   "metadata": {},
   "source": [
    "## Regression\n",
    "used when the target variable has a continuos values such as price of a house, or a country GDP"
   ]
  },
  {
   "cell_type": "code",
   "execution_count": 122,
   "id": "a8411426",
   "metadata": {
    "ExecuteTime": {
     "end_time": "2023-11-09T13:14:28.939622Z",
     "start_time": "2023-11-09T13:14:28.930021Z"
    }
   },
   "outputs": [
    {
     "data": {
      "text/html": [
       "<div>\n",
       "<style scoped>\n",
       "    .dataframe tbody tr th:only-of-type {\n",
       "        vertical-align: middle;\n",
       "    }\n",
       "\n",
       "    .dataframe tbody tr th {\n",
       "        vertical-align: top;\n",
       "    }\n",
       "\n",
       "    .dataframe thead th {\n",
       "        text-align: right;\n",
       "    }\n",
       "</style>\n",
       "<table border=\"1\" class=\"dataframe\">\n",
       "  <thead>\n",
       "    <tr style=\"text-align: right;\">\n",
       "      <th></th>\n",
       "      <th>pregnancies</th>\n",
       "      <th>glucose</th>\n",
       "      <th>diastolic</th>\n",
       "      <th>triceps</th>\n",
       "      <th>insulin</th>\n",
       "      <th>bmi</th>\n",
       "      <th>dpf</th>\n",
       "      <th>age</th>\n",
       "      <th>diabetes</th>\n",
       "    </tr>\n",
       "  </thead>\n",
       "  <tbody>\n",
       "    <tr>\n",
       "      <th>0</th>\n",
       "      <td>6</td>\n",
       "      <td>148</td>\n",
       "      <td>72</td>\n",
       "      <td>35</td>\n",
       "      <td>0</td>\n",
       "      <td>33.6</td>\n",
       "      <td>0.627</td>\n",
       "      <td>50</td>\n",
       "      <td>1</td>\n",
       "    </tr>\n",
       "    <tr>\n",
       "      <th>1</th>\n",
       "      <td>1</td>\n",
       "      <td>85</td>\n",
       "      <td>66</td>\n",
       "      <td>29</td>\n",
       "      <td>0</td>\n",
       "      <td>26.6</td>\n",
       "      <td>0.351</td>\n",
       "      <td>31</td>\n",
       "      <td>0</td>\n",
       "    </tr>\n",
       "    <tr>\n",
       "      <th>2</th>\n",
       "      <td>8</td>\n",
       "      <td>183</td>\n",
       "      <td>64</td>\n",
       "      <td>0</td>\n",
       "      <td>0</td>\n",
       "      <td>23.3</td>\n",
       "      <td>0.672</td>\n",
       "      <td>32</td>\n",
       "      <td>1</td>\n",
       "    </tr>\n",
       "    <tr>\n",
       "      <th>3</th>\n",
       "      <td>1</td>\n",
       "      <td>89</td>\n",
       "      <td>66</td>\n",
       "      <td>23</td>\n",
       "      <td>94</td>\n",
       "      <td>28.1</td>\n",
       "      <td>0.167</td>\n",
       "      <td>21</td>\n",
       "      <td>0</td>\n",
       "    </tr>\n",
       "    <tr>\n",
       "      <th>4</th>\n",
       "      <td>0</td>\n",
       "      <td>137</td>\n",
       "      <td>40</td>\n",
       "      <td>35</td>\n",
       "      <td>168</td>\n",
       "      <td>43.1</td>\n",
       "      <td>2.288</td>\n",
       "      <td>33</td>\n",
       "      <td>1</td>\n",
       "    </tr>\n",
       "  </tbody>\n",
       "</table>\n",
       "</div>"
      ],
      "text/plain": [
       "   pregnancies  glucose  diastolic  triceps  insulin   bmi    dpf  age  \\\n",
       "0            6      148         72       35        0  33.6  0.627   50   \n",
       "1            1       85         66       29        0  26.6  0.351   31   \n",
       "2            8      183         64        0        0  23.3  0.672   32   \n",
       "3            1       89         66       23       94  28.1  0.167   21   \n",
       "4            0      137         40       35      168  43.1  2.288   33   \n",
       "\n",
       "   diabetes  \n",
       "0         1  \n",
       "1         0  \n",
       "2         1  \n",
       "3         0  \n",
       "4         1  "
      ]
     },
     "execution_count": 122,
     "metadata": {},
     "output_type": "execute_result"
    }
   ],
   "source": [
    "import pandas as pd\n",
    "\n",
    "diabetes_df = pd.read_csv(\"datasets/diabetes_clean.csv\")\n",
    "\n",
    "diabetes_df.head()"
   ]
  },
  {
   "cell_type": "code",
   "execution_count": 123,
   "id": "f19579bb",
   "metadata": {
    "ExecuteTime": {
     "end_time": "2023-11-09T13:14:28.943208Z",
     "start_time": "2023-11-09T13:14:28.940508Z"
    }
   },
   "outputs": [],
   "source": [
    "#### creating feature and target arrays\n",
    "X = diabetes_df.drop(\"glucose\", axis=1).values # features\n",
    "y = diabetes_df[\"glucose\"].values #target variable"
   ]
  },
  {
   "cell_type": "code",
   "execution_count": 124,
   "id": "0071374c",
   "metadata": {
    "ExecuteTime": {
     "end_time": "2023-11-09T13:14:28.946674Z",
     "start_time": "2023-11-09T13:14:28.944519Z"
    }
   },
   "outputs": [
    {
     "name": "stdout",
     "output_type": "stream",
     "text": [
      "(768,) (768,)\n"
     ]
    }
   ],
   "source": [
    "#### Making predictions from a single feature(e.g bmi)\n",
    "X_bmi = X[:, 3]\n",
    "print(X_bmi.shape, y.shape)"
   ]
  },
  {
   "cell_type": "code",
   "execution_count": 125,
   "id": "1da0d071",
   "metadata": {
    "ExecuteTime": {
     "end_time": "2023-11-09T13:14:28.949666Z",
     "start_time": "2023-11-09T13:14:28.947862Z"
    }
   },
   "outputs": [],
   "source": [
    "## we need to transform our X_bmi to a 2D array for it to work on scikitlearn\n",
    "X_bmi = X_bmi.reshape(-1, 1)"
   ]
  },
  {
   "cell_type": "code",
   "execution_count": 126,
   "id": "5a6e3655",
   "metadata": {
    "ExecuteTime": {
     "end_time": "2023-11-09T13:14:28.953247Z",
     "start_time": "2023-11-09T13:14:28.951174Z"
    }
   },
   "outputs": [
    {
     "name": "stdout",
     "output_type": "stream",
     "text": [
      "(768, 1)\n"
     ]
    }
   ],
   "source": [
    "print(X_bmi.shape)"
   ]
  },
  {
   "cell_type": "code",
   "execution_count": 127,
   "id": "69c26128",
   "metadata": {
    "ExecuteTime": {
     "end_time": "2023-11-09T13:14:29.012864Z",
     "start_time": "2023-11-09T13:14:28.954145Z"
    }
   },
   "outputs": [
    {
     "data": {
      "image/png": "[encoded data removed]",
      "text/plain": [
       "<Figure size 640x480 with 1 Axes>"
      ]
     },
     "metadata": {},
     "output_type": "display_data"
    }
   ],
   "source": [
    "## plot glucose vs bmi\n",
    "import matplotlib.pyplot as plt\n",
    "\n",
    "plt.scatter(X_bmi, y)\n",
    "plt.ylabel(\"Blood glucose (mg/dl)\")\n",
    "plt.xlabel(\"Body Mass Index\")\n",
    "plt.show()"
   ]
  },
  {
   "cell_type": "code",
   "execution_count": 128,
   "id": "3581f4cf",
   "metadata": {
    "ExecuteTime": {
     "end_time": "2023-11-09T13:14:29.074590Z",
     "start_time": "2023-11-09T13:14:29.014122Z"
    }
   },
   "outputs": [
    {
     "data": {
      "image/png": "[encoded data removed]",
      "text/plain": [
       "<Figure size 640x480 with 1 Axes>"
      ]
     },
     "metadata": {},
     "output_type": "display_data"
    }
   ],
   "source": [
    "### Fitting - Building a Regression Model using Linear Regression\n",
    "from sklearn.linear_model import LinearRegression\n",
    "reg = LinearRegression()\n",
    "reg.fit(X_bmi, y)\n",
    "predictions = reg.predict(X_bmi)\n",
    "plt.scatter(X_bmi, y)\n",
    "plt.plot(X_bmi, predictions, color='red')\n",
    "plt.ylabel(\"Blood glucose (mg/dl)\")\n",
    "plt.xlabel(\"Body Mass Index\")\n",
    "plt.show()"
   ]
  },
  {
   "cell_type": "markdown",
   "id": "831e1ccd",
   "metadata": {},
   "source": [
    "## Linear Regression using multiple variables"
   ]
  },
  {
   "cell_type": "code",
   "execution_count": 129,
   "id": "7dce8dff",
   "metadata": {
    "ExecuteTime": {
     "end_time": "2023-11-09T13:14:29.082037Z",
     "start_time": "2023-11-09T13:14:29.075769Z"
    }
   },
   "outputs": [
    {
     "name": "stdout",
     "output_type": "stream",
     "text": [
      "Predictions: [119.91303675  95.70325357], Actual Values: [ 98 112]\n"
     ]
    },
    {
     "data": {
      "text/plain": [
       "0.28280468810375115"
      ]
     },
     "execution_count": 129,
     "metadata": {},
     "output_type": "execute_result"
    }
   ],
   "source": [
    "from sklearn.linear_model import LinearRegression\n",
    "from sklearn.model_selection import train_test_split\n",
    "\n",
    "X_train, X_test, y_train, y_test = train_test_split(X, y, test_size=0.3, random_state=42)\n",
    "\n",
    "reg_all = LinearRegression()\n",
    "reg_all.fit(X_train, y_train)\n",
    "\n",
    "y_pred = reg_all.predict(X_test)\n",
    "\n",
    "print(\"Predictions: {}, Actual Values: {}\".format(y_pred[:2], y_test[:2]))\n",
    "\n",
    "## R-squared = to check Linear Regression performance\n",
    "reg_all.score(X_test, y_test)"
   ]
  },
  {
   "cell_type": "code",
   "execution_count": 130,
   "id": "12a9e5c9",
   "metadata": {
    "ExecuteTime": {
     "end_time": "2023-11-09T13:14:29.084379Z",
     "start_time": "2023-11-09T13:14:29.083059Z"
    }
   },
   "outputs": [],
   "source": [
    "## the result above tells us that the feature only explains about 28% of the glucose level variance, not so good.."
   ]
  },
  {
   "cell_type": "code",
   "execution_count": 131,
   "id": "884072af",
   "metadata": {
    "ExecuteTime": {
     "end_time": "2023-11-09T13:14:29.098958Z",
     "start_time": "2023-11-09T13:14:29.085071Z"
    }
   },
   "outputs": [
    {
     "data": {
      "text/plain": [
       "26.341459582232265"
      ]
     },
     "execution_count": 131,
     "metadata": {},
     "output_type": "execute_result"
    }
   ],
   "source": [
    "from sklearn.metrics import mean_squared_error\n",
    "\n",
    "## RMSE = to also check Linear Regression performance\n",
    "mean_squared_error(y_test, y_pred, squared=False)"
   ]
  },
  {
   "cell_type": "markdown",
   "id": "038784ea",
   "metadata": {
    "ExecuteTime": {
     "end_time": "2023-11-07T18:14:17.052646Z",
     "start_time": "2023-11-07T18:14:17.044663Z"
    }
   },
   "source": [
    "Root Mean Square Error (RMSE) is a commonly used metric in machine learning to measure the accuracy of a regression model. It represents the square root of the average of the squared differences between the actual and predicted values. In your case, an RMSE of 26.341459582232265 means the following:\n",
    "\n",
    "**Magnitude of Error:** The RMSE value of 26.34 indicates the typical magnitude of errors made by your machine learning model when making predictions. A lower RMSE value is desirable, as it means the model's predictions are closer to the actual values on average.\n",
    "\n",
    "**Units:** The units of RMSE depend on the units of your target variable. For example, if you are predicting house prices in dollars, then the RMSE is measured in dollars. In this case, an RMSE of 26.34 dollars means that, on average, your model's predictions are off by approximately 26.34 dollars.\n",
    "\n",
    "**Comparison:** To interpret the RMSE effectively, you need to compare it to the range of your target variable. If the range of the target variable is much larger than the RMSE (e.g., predicting house prices with a range of thousands of dollars), then an RMSE of 26.34 might be considered reasonably good. However, if the range of the target variable is much smaller than the RMSE, it may indicate that the model's performance is not as satisfactory.\n",
    "\n",
    "**Relative Evaluation:** The meaning of RMSE also depends on the specific problem you're solving. To determine whether an RMSE of 26.34 is acceptable or not, you should consider the context of your application. Sometimes, a higher RMSE may be acceptable if the task doesn't require high precision.\n",
    "\n",
    "In summary, an RMSE of 26.34 suggests that, on average, your model's predictions have an error of approximately 26.34 units in the same scale as your target variable. Whether this level of error is acceptable or not depends on the specific requirements and context of your machine learning application. It's often helpful to compare the RMSE to the range of your target variable and consider whether further model improvement is needed.\n",
    "\n",
    "\n",
    "\n",
    "#### RMSE = 26...RMSE measures the average difference between values predicted by a model and the actual values.\n",
    " The Root Mean Squared Error (RMSE) is one of the two main performance indicators for a regression model. It measures the average difference between values predicted by a model and the actual values. It provides an estimation of how well the model is able to predict the target value (accuracy).\n",
    "\n",
    " The lower the value of the Root Mean Squared Error, the better the model is. A perfect model (a hypothetic model that would always predict the exact expected value) would have a Root Mean Squared Error value of 0.\n",
    " \n",
    " ##### The Root Mean Squared Error can be interpreted as the standard deviation of the error (it's the square root of the error variance).\n",
    " \n",
    "https://help.sap.com/docs/SAP_PREDICTIVE_ANALYTICS/41d1a6d4e7574e32b815f1cc87c00f42/5e5198fd4afe4ae5b48fefe0d3161810.html"
   ]
  },
  {
   "cell_type": "markdown",
   "id": "17057d87",
   "metadata": {},
   "source": [
    "Loss functions take the model’s predicted values and compare them against the actual values. It estimates how well (or how bad) the model is, in terms of its ability in mapping the relationship between X (a feature, or independent variable, or predictor variable) and Y (the target, or dependent variable, or response variable). Sometimes just knowing how bad the model is performing may not be enough, we might also need to calculate how far off the model is from the actual value. By knowing the amount of deviation between the predicted value and the actual value, we can train our model accordingly. This difference between the actual value and the predicted value is called the loss. A high loss value means the model has poor performance.\n",
    "\n",
    "https://www.analyticsvidhya.com/blog/2021/10/evaluation-metric-for-regression-models/"
   ]
  },
  {
   "cell_type": "markdown",
   "id": "61ae73c7",
   "metadata": {},
   "source": [
    "### Cross validation\n",
    "Cross-validation is a technique for evaluating ML models by training several ML models on subsets of the available input data and evaluating them on the complementary subset of the data. Use cross-validation to detect overfitting, ie, failing to generalize a pattern.\n",
    "\n",
    "Cross-validation is a technique used to test how good a machine learning model is at making predictions, and it's kind of like having a teacher check your homework.\n",
    "\n",
    "Imagine you have a big set of data that you want to use to train a machine learning model. You want to know if your model is really good at learning from this data or if it's just memorizing things and won't work well on new, unseen data.\n",
    "\n",
    "Here's where cross-validation comes in:\n",
    "\n",
    "1. **Splitting the Data**: Instead of using all your data for training, you split it into two parts: a \"training set\" and a \"testing set.\" The training set is like your practice material, and the testing set is like a test that your model hasn't seen before.\n",
    "\n",
    "2. **Multiple Tests**: Cross-validation isn't just one test; it's like doing the test several times. You split your data into different training and testing sets multiple times, and each time, you train your model on one part and test it on another.\n",
    "\n",
    "3. **Checking Performance**: After each test, you see how well your model did on the testing set. Did it make good predictions or not?\n",
    "\n",
    "4. **Average Results**: You repeat this testing process multiple times (typically 5 or 10 times), and you calculate the average of all the test results. This gives you a more reliable measure of how well your model is likely to perform on new, unseen data.\n",
    "\n",
    "The idea is that by doing multiple tests with different data, you can get a better sense of how well your model will work in the real world, not just on the data you used for training.\n",
    "\n",
    "Think of it like taking practice exams with different questions to make sure you really understand the material, and your average score gives you a good estimate of how you'll perform on the real exam. Cross-validation helps ensure that your machine learning model is genuinely learning from the data and not just \"cheating\" by memorizing it."
   ]
  },
  {
   "cell_type": "code",
   "execution_count": 132,
   "id": "5b1f5b4b",
   "metadata": {
    "ExecuteTime": {
     "end_time": "2023-11-09T13:14:29.114408Z",
     "start_time": "2023-11-09T13:14:29.100392Z"
    }
   },
   "outputs": [
    {
     "name": "stdout",
     "output_type": "stream",
     "text": [
      "[0.26207548 0.28228176 0.41203082 0.23785884 0.41634629 0.30398869]\n"
     ]
    }
   ],
   "source": [
    "from sklearn.model_selection import cross_val_score, KFold\n",
    "kf = KFold(n_splits=6, shuffle=True, random_state=42) #We are splitting this into 6 folds\n",
    "\n",
    "reg = LinearRegression()\n",
    "cv_results = cross_val_score(reg, X, y, cv=kf)\n",
    "\n",
    "print(cv_results) # the default score for linear regression, R-Squared is returned"
   ]
  },
  {
   "cell_type": "markdown",
   "id": "e293bb5b",
   "metadata": {
    "ExecuteTime": {
     "end_time": "2023-11-07T19:46:22.407996Z",
     "start_time": "2023-11-07T19:46:22.404315Z"
    }
   },
   "source": [
    "### Analyzing cross-validation metrics"
   ]
  },
  {
   "cell_type": "code",
   "execution_count": 133,
   "id": "9e531b29",
   "metadata": {
    "ExecuteTime": {
     "end_time": "2023-11-09T13:14:29.118115Z",
     "start_time": "2023-11-09T13:14:29.115328Z"
    }
   },
   "outputs": [
    {
     "name": "stdout",
     "output_type": "stream",
     "text": [
      "Mean:  0.31909697867344783\n",
      "Std. Deviation:  0.07015320610114176\n",
      "[0.24088592 0.41580685]\n"
     ]
    }
   ],
   "source": [
    "# Print the mean\n",
    "print('Mean: ', np.mean(cv_results))\n",
    "\n",
    "# Print the standard deviation\n",
    "print('Std. Deviation: ', np.std(cv_results))\n",
    "\n",
    "# Print the 95% confidence interval - a 95% confidence i.e it ranges from 2.5% to 97.5%.\n",
    "print(np.quantile(cv_results, [0.025, 0.975]))"
   ]
  },
  {
   "cell_type": "markdown",
   "id": "2533a6bc",
   "metadata": {},
   "source": [
    "### Regularized Regression\n",
    "a technique used to avoid overfitting\n",
    "\n",
    "Imagine you're training a machine learning model to predict house prices based on various features like square footage, number of bedrooms, and distance to the nearest grocery store.\n",
    "\n",
    "Without regularization, your model might go all out and assign super high importance to, let's say, square footage. So, it becomes a square footage fanatic, fitting the training data perfectly by relying too much on this one feature.\n",
    "\n",
    "Regularization steps in like a wise mentor and says, \"Hey, chill out! We want a well-rounded model, not a square footage calculator.\" It adds a penalty term to the training process, making sure that no single feature dominates too much. So, even if square footage is crucial, the model learns to consider other features too, preventing it from becoming overly specialized and losing its ability to generalize to new houses. It's like teaching your model to be a real estate expert, not just a square footage specialist."
   ]
  },
  {
   "cell_type": "markdown",
   "id": "704e96f8",
   "metadata": {
    "ExecuteTime": {
     "end_time": "2023-11-09T13:19:51.316645Z",
     "start_time": "2023-11-09T13:19:51.296174Z"
    }
   },
   "source": [
    "### Ridge Regression\n"
   ]
  },
  {
   "cell_type": "markdown",
   "id": "c054d4e9",
   "metadata": {
    "ExecuteTime": {
     "end_time": "2023-11-09T14:12:06.050591Z",
     "start_time": "2023-11-09T14:12:05.998435Z"
    }
   },
   "source": [
    "Ridge penalizes the large positive or nagative coefficient\n",
    "Alpha is the hyperparameter: a variable used to optimize model parameters\n",
    "Alpha controls the model complexity\n",
    "\n",
    "if alpha = 0 = OLS (means we are performing OLS, where large coefficients are not penalized and overfitting may occur)\n",
    "\n",
    "A high alpha means large coefficients are severely penalized and can lead to underfitting"
   ]
  },
  {
   "cell_type": "code",
   "execution_count": 146,
   "id": "7d700f17",
   "metadata": {
    "ExecuteTime": {
     "end_time": "2023-11-09T14:43:51.959290Z",
     "start_time": "2023-11-09T14:43:51.915009Z"
    }
   },
   "outputs": [
    {
     "name": "stdout",
     "output_type": "stream",
     "text": [
      "[0.2828466623222221, 0.28320633574804754, 0.2853000732200004, 0.26423984812668133, 0.19292424694100963]\n"
     ]
    }
   ],
   "source": [
    "from sklearn.linear_model import Ridge\n",
    "scores = []\n",
    "for alpha in [0.1, 1.0, 10.0, 100.0, 1000.0]:\n",
    "    ridge = Ridge(alpha=alpha)\n",
    "    ridge.fit(X_train, y_train)\n",
    "    y_pred = ridge.predict(X_test)\n",
    "    # Obtain R-squared\n",
    "    score = ridge.score(X_test, y_test)\n",
    "    scores.append(score)\n",
    "print(scores)"
   ]
  },
  {
   "cell_type": "markdown",
   "id": "536f17a3",
   "metadata": {},
   "source": [
    "#### from the above we can see that the performance gets worse as alpha increases"
   ]
  },
  {
   "cell_type": "markdown",
   "id": "484b3574",
   "metadata": {},
   "source": [
    "### Lasso regression"
   ]
  },
  {
   "cell_type": "code",
   "execution_count": 142,
   "id": "046b9c27",
   "metadata": {
    "ExecuteTime": {
     "end_time": "2023-11-09T14:27:36.786561Z",
     "start_time": "2023-11-09T14:27:36.741495Z"
    }
   },
   "outputs": [
    {
     "name": "stdout",
     "output_type": "stream",
     "text": [
      "[0.2831114455475573, 0.29795609755827845, 0.17989838789273882, 0.18127361610181125, 0.15679544303617965]\n"
     ]
    }
   ],
   "source": [
    "from sklearn.linear_model import Lasso\n",
    "scores = []\n",
    "for alpha in [0.01, 1.0, 10.0, 20.0, 50.0]:\n",
    "    lasso = Lasso(alpha=alpha)\n",
    "    lasso.fit(X_train, y_train)\n",
    "    lasso_pred = lasso.predict(X_test)\n",
    "    scores.append(lasso.score(X_test, y_test))\n",
    "print(scores)"
   ]
  },
  {
   "cell_type": "markdown",
   "id": "cdaa1998",
   "metadata": {},
   "source": [
    "- Lasso regression can select important features of a dataset\n",
    "- Shrinks the coefficients of a less important features to zero\n",
    "- the features whose coefficients are not shrunk to zero are selected by lasso"
   ]
  },
  {
   "cell_type": "code",
   "execution_count": 145,
   "id": "5f884c4d",
   "metadata": {
    "ExecuteTime": {
     "end_time": "2023-11-09T14:38:40.624076Z",
     "start_time": "2023-11-09T14:38:40.442739Z"
    }
   },
   "outputs": [
    {
     "data": {
      "image/png": "[encoded data removed]",
      "text/plain": [
       "<Figure size 640x480 with 1 Axes>"
      ]
     },
     "metadata": {},
     "output_type": "display_data"
    }
   ],
   "source": [
    "## Lasso for feature selection in scikit-learn\n",
    "from sklearn.linear_model import Lasso\n",
    "X = diabetes_df.drop(\"glucose\", axis=1).values # features\n",
    "y = diabetes_df[\"glucose\"].values #target variable\n",
    "names = diabetes_df.drop(\"glucose\", axis=1).columns\n",
    "lasso = Lasso(alpha=0.1)\n",
    "lasso_coef = lasso.fit(X, y).coef_\n",
    "plt.bar(names, lasso_coef)\n",
    "plt.xticks(rotation=45)\n",
    "plt.show()"
   ]
  },
  {
   "cell_type": "markdown",
   "id": "598e7bb4",
   "metadata": {},
   "source": [
    "##### we can see that the most important predictor for our target variable(glucose), i.e the value whether an individual has diabetes or not"
   ]
  },
  {
   "cell_type": "markdown",
   "id": "b74b4800",
   "metadata": {},
   "source": [
    "## Confusion matrix and Classification report\n",
    "https://www.analyticsvidhya.com/blog/2020/04/confusion-matrix-machine-learning/?utm_source=reading_list&utm_medium=https://www.analyticsvidhya.com/blog/2021/10/evaluation-metric-for-regression-models/\n",
    "\n",
    "It helps us evaluate how our model performed and where it went wrong and offers us guidance to correct our path.\n",
    "A confusion matrix is a performance evaluation tool in machine learning, representing the accuracy of a classification model. It displays the number of true positives, true negatives, false positives, and false negatives. This matrix aids in analyzing model performance, identifying mis-classifications, and improving predictive accuracy.\n",
    "\n"
   ]
  },
  {
   "cell_type": "code",
   "execution_count": 169,
   "id": "e7400015",
   "metadata": {
    "ExecuteTime": {
     "end_time": "2023-11-13T20:20:11.115761Z",
     "start_time": "2023-11-13T20:20:11.043060Z"
    }
   },
   "outputs": [
    {
     "name": "stdout",
     "output_type": "stream",
     "text": [
      "[[1111   27]\n",
      " [ 142   54]]\n"
     ]
    }
   ],
   "source": [
    "###confusion matrix and classification report\n",
    "from sklearn.metrics import classification_report, confusion_matrix\n",
    "knn = KNeighborsClassifier(n_neighbors=7)\n",
    "y = churn_df[\"churn\"].values\n",
    "X = churn_df[[\"total_day_charge\", \"total_eve_charge\"]].values #features\n",
    "\n",
    "X_train, X_test, y_train, y_test = train_test_split(X, y, test_size=0.4, random_state=42)\n",
    "\n",
    "knn.fit(X_train, y_train)\n",
    "y_pred = knn.predict(X_test)\n",
    "\n",
    "print(confusion_matrix(y_test, y_pred))\n",
    "# print(classification_report(y_test, y_pred))"
   ]
  },
  {
   "cell_type": "markdown",
   "id": "6c1bacfc",
   "metadata": {},
   "source": [
    "##### above means it produced 54 true positives, 27 false positives. Precision was more than 50%"
   ]
  },
  {
   "cell_type": "markdown",
   "id": "d7f4db90",
   "metadata": {},
   "source": [
    "## Fine-Tuning Your Model\n",
    "\n",
    "### Logistic Regression for binary classification\n",
    "- It is used for classification problems\n",
    "- outputs probabilities\n",
    "- if probability, p > 0.5, we label 1, and p < 0.5, we label 0"
   ]
  },
  {
   "cell_type": "code",
   "execution_count": 163,
   "id": "7fe61f33",
   "metadata": {
    "ExecuteTime": {
     "end_time": "2023-11-13T19:38:24.507275Z",
     "start_time": "2023-11-13T19:38:24.462922Z"
    }
   },
   "outputs": [
    {
     "name": "stdout",
     "output_type": "stream",
     "text": [
      "0.18826020038112667\n"
     ]
    }
   ],
   "source": [
    "from sklearn.linear_model import LogisticRegression\n",
    "logreg = LogisticRegression()\n",
    "\n",
    "y = churn_df[\"churn\"].values\n",
    "X = churn_df[[\"total_day_charge\", \"total_eve_charge\"]].values #features\n",
    "\n",
    "X_train, X_test, y_train, y_test = train_test_split(X, y, test_size=0.3, random_state=42)\n",
    "\n",
    "logreg.fit(X_train, y_train)\n",
    "y_pred = logreg.predict(X_test)\n",
    "\n",
    "## predicting probabilities\n",
    "y_pred_probs = logreg.predict_proba(X_test)[:, 1]\n",
    "print(y_pred_probs[0])"
   ]
  },
  {
   "cell_type": "markdown",
   "id": "52f7e70f",
   "metadata": {
    "ExecuteTime": {
     "end_time": "2023-11-13T19:45:24.593741Z",
     "start_time": "2023-11-13T19:45:24.560943Z"
    }
   },
   "source": [
    "#### with this probability above, we can say the first observation has churned\n",
    "By default the logistic regression threshold = 0.5\n",
    "We can use a receiver operating characteristic, or ROC curve, to visualize how different thresholds affect true positive and false positive rates."
   ]
  },
  {
   "cell_type": "code",
   "execution_count": 165,
   "id": "008ad3bb",
   "metadata": {
    "ExecuteTime": {
     "end_time": "2023-11-13T19:58:56.959684Z",
     "start_time": "2023-11-13T19:58:56.298424Z"
    }
   },
   "outputs": [
    {
     "data": {
      "image/png": "[encoded data removed]",
      "text/plain": [
       "<Figure size 640x480 with 1 Axes>"
      ]
     },
     "metadata": {},
     "output_type": "display_data"
    }
   ],
   "source": [
    "### ROC Curve\n",
    "from sklearn.metrics import roc_curve\n",
    "fpr, tpr, thresholds = roc_curve(y_test, y_pred_probs) # fpr - false positive rate, tpr - true positive rate\n",
    "\n",
    "plt.plot([0, 1], [0, 1], 'k--')\n",
    "plt.plot(fpr, tpr)\n",
    "plt.xlabel('False positive rate')\n",
    "plt.ylabel('True positive rate')\n",
    "plt.title('Logistic Regression ROC Curve')\n",
    "plt.show()"
   ]
  },
  {
   "cell_type": "code",
   "execution_count": 167,
   "id": "a799516e",
   "metadata": {
    "ExecuteTime": {
     "end_time": "2023-11-13T20:03:00.161140Z",
     "start_time": "2023-11-13T20:03:00.146028Z"
    }
   },
   "outputs": [
    {
     "name": "stdout",
     "output_type": "stream",
     "text": [
      "0.6870364174914934\n"
     ]
    }
   ],
   "source": [
    "## we can evaluate the model's performance, by calculating the area under the ROC curve, called the AUC\n",
    "## with scores ranging from 0 - 1, with 1 to be perfect\n",
    "from sklearn.metrics import roc_auc_score\n",
    "print(roc_auc_score(y_test, y_pred_probs))"
   ]
  },
  {
   "cell_type": "markdown",
   "id": "4027d000",
   "metadata": {},
   "source": [
    "#### The ROC curve is above the dotted line, so the model performs better than randomly guessing the class of each observation."
   ]
  },
  {
   "cell_type": "markdown",
   "id": "cb64d5ad",
   "metadata": {},
   "source": [
    "## Hyperparameter tuning\n",
    "\n",
    "Remember in Ridge/Lasso regression, we chose alpha..in KNN we chose n_neighbors\n",
    "Parameters we specify before fitting the model like alpha and n_neighbors are called Hyperparameter\n",
    "\n",
    "Hyperparameter tuning involves trying lots of Hyperparameter values, fit all of them separately, see how well they perform and choose the best performing values.\n",
    "\n",
    "- It is essential to use cross-validation to avoid overfitting to the test set\n",
    "- We can still split the data and perform cross-validation on the training set\n",
    "- We withhold the test set for the final evaluation"
   ]
  },
  {
   "cell_type": "code",
   "execution_count": null,
   "id": "cdeefd01",
   "metadata": {},
   "outputs": [],
   "source": []
  }
 ],
 "metadata": {
  "kernelspec": {
   "display_name": "Python 3 (ipykernel)",
   "language": "python",
   "name": "python3"
  },
  "language_info": {
   "codemirror_mode": {
    "name": "ipython",
    "version": 3
   },
   "file_extension": ".py",
   "mimetype": "text/x-python",
   "name": "python",
   "nbconvert_exporter": "python",
   "pygments_lexer": "ipython3",
   "version": "3.10.12"
  },
  "varInspector": {
   "cols": {
    "lenName": 16,
    "lenType": 16,
    "lenVar": 40
   },
   "kernels_config": {
    "python": {
     "delete_cmd_postfix": "",
     "delete_cmd_prefix": "del ",
     "library": "var_list.py",
     "varRefreshCmd": "print(var_dic_list())"
    },
    "r": {
     "delete_cmd_postfix": ") ",
     "delete_cmd_prefix": "rm(",
     "library": "var_list.r",
     "varRefreshCmd": "cat(var_dic_list()) "
    }
   },
   "types_to_exclude": [
    "module",
    "function",
    "builtin_function_or_method",
    "instance",
    "_Feature"
   ],
   "window_display": false
  }
 },
 "nbformat": 4,
 "nbformat_minor": 5
}
