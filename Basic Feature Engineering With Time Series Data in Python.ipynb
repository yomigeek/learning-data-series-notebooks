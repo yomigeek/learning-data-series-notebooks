{
 "cells": [
  {
   "cell_type": "markdown",
   "id": "2528a674",
   "metadata": {},
   "source": [
    "# Basic Feature Engineering With Time Series Data in Python\n",
    "Sources:\n",
    "https://machinelearningmastery.com/basic-feature-engineering-time-series-data-python/"
   ]
  },
  {
   "cell_type": "markdown",
   "id": "ea9148f0",
   "metadata": {},
   "source": [
    "Time Series data must be re-framed as a supervised learning dataset before we can start using machine learning algorithms.\n",
    "\n",
    "There is no concept of input and output features in time series. Instead, we must choose the variable to be predicted and use feature engineering to construct all of the inputs that will be used to make predictions for future time steps.\n",
    "\n",
    "A time series dataset must be transformed to be modeled as a supervised learning problem.\n",
    "\n",
    "That is something that looks like:\n",
    "\n",
    "time 1, value 1\n",
    "time 2, value 2\n",
    "time 3, value 3\n",
    "\n",
    "To something that looks like:\n",
    "\n",
    "input 1, output 1\n",
    "input 2, output 2\n",
    "input 3, output 3\n",
    "\n",
    "Three classes of features that we can create from our time series dataset:\n",
    "\n",
    "- **Date Time Features**: these are components of the time step itself for each observation.\n",
    "- **Lag Features**: these are values at prior time steps.\n",
    "- **Window Features**: these are a summary of values over a fixed window of prior time steps."
   ]
  },
  {
   "cell_type": "markdown",
   "id": "f5c8558e",
   "metadata": {},
   "source": [
    "## Case study: Minimum Daily Temperatures Dataset"
   ]
  },
  {
   "cell_type": "markdown",
   "id": "35967367",
   "metadata": {},
   "source": [
    "we will use the Minimum Daily Temperatures dataset.\n",
    "\n",
    "This dataset describes the minimum daily temperatures over 10 years (1981-1990) in Melbourne, Australia.\n",
    "\n",
    "The units are in degrees Celsius and there are 3,650 observations."
   ]
  },
  {
   "cell_type": "markdown",
   "id": "fc97754d",
   "metadata": {},
   "source": [
    "### Date Time Features\n",
    "Let’s start with some of the simplest features that we can use.\n",
    "\n",
    "These are features from the date/time of each observation. In fact, these can start off simply and head off into quite complex domain-specific areas.\n",
    "\n",
    "Two features that we can start with are the integer month and day for each observation. We can imagine that supervised learning algorithms may be able to use these inputs to help tease out time-of-year or time-of-month type seasonality information.\n",
    "\n",
    "The supervised learning problem we are proposing is to predict the daily minimum temperature given the month and day, as follows:\n",
    "\n",
    "- Month, Day, Temperature\n",
    "\n",
    "We can do this using Pandas. First, the time series is loaded as a Pandas Series. We then create a new Pandas DataFrame for the transformed dataset.\n",
    "\n",
    "Next, each column is added one at a time where month and day information is extracted from the time-stamp information for each observation in the series."
   ]
  },
  {
   "cell_type": "code",
   "execution_count": 31,
   "id": "f565810c",
   "metadata": {
    "ExecuteTime": {
     "end_time": "2023-11-24T12:59:23.294283Z",
     "start_time": "2023-11-24T12:59:23.202449Z"
    }
   },
   "outputs": [
    {
     "name": "stdout",
     "output_type": "stream",
     "text": [
      "            Temp\n",
      "Date            \n",
      "1981-01-01  20.7\n",
      "1981-01-02  17.9\n",
      "1981-01-03  18.8\n",
      "1981-01-04  14.6\n",
      "1981-01-05  15.8\n"
     ]
    },
    {
     "data": {
      "text/html": [
       "<div>\n",
       "<style scoped>\n",
       "    .dataframe tbody tr th:only-of-type {\n",
       "        vertical-align: middle;\n",
       "    }\n",
       "\n",
       "    .dataframe tbody tr th {\n",
       "        vertical-align: top;\n",
       "    }\n",
       "\n",
       "    .dataframe thead th {\n",
       "        text-align: right;\n",
       "    }\n",
       "</style>\n",
       "<table border=\"1\" class=\"dataframe\">\n",
       "  <thead>\n",
       "    <tr style=\"text-align: right;\">\n",
       "      <th></th>\n",
       "      <th>month</th>\n",
       "      <th>day</th>\n",
       "      <th>temperature</th>\n",
       "    </tr>\n",
       "  </thead>\n",
       "  <tbody>\n",
       "    <tr>\n",
       "      <th>0</th>\n",
       "      <td>1</td>\n",
       "      <td>1</td>\n",
       "      <td>20.7</td>\n",
       "    </tr>\n",
       "    <tr>\n",
       "      <th>1</th>\n",
       "      <td>1</td>\n",
       "      <td>2</td>\n",
       "      <td>17.9</td>\n",
       "    </tr>\n",
       "    <tr>\n",
       "      <th>2</th>\n",
       "      <td>1</td>\n",
       "      <td>3</td>\n",
       "      <td>18.8</td>\n",
       "    </tr>\n",
       "    <tr>\n",
       "      <th>3</th>\n",
       "      <td>1</td>\n",
       "      <td>4</td>\n",
       "      <td>14.6</td>\n",
       "    </tr>\n",
       "    <tr>\n",
       "      <th>4</th>\n",
       "      <td>1</td>\n",
       "      <td>5</td>\n",
       "      <td>15.8</td>\n",
       "    </tr>\n",
       "  </tbody>\n",
       "</table>\n",
       "</div>"
      ],
      "text/plain": [
       "   month  day  temperature\n",
       "0      1    1         20.7\n",
       "1      1    2         17.9\n",
       "2      1    3         18.8\n",
       "3      1    4         14.6\n",
       "4      1    5         15.8"
      ]
     },
     "execution_count": 31,
     "metadata": {},
     "output_type": "execute_result"
    }
   ],
   "source": [
    "# create date time features of a dataset\n",
    "from pandas import read_csv\n",
    "from pandas import DataFrame\n",
    "\n",
    "# Read the time series data from a CSV file\n",
    "series = read_csv('../datasets/daily-min-temperatures.csv', header=0, index_col=0, parse_dates=True)\n",
    "\n",
    "# Create an empty DataFrame\n",
    "dataframe = DataFrame()\n",
    "\n",
    "# Remove the extra dimension\n",
    "dataframe.squeeze('columns')\n",
    "\n",
    "print(series.head())\n",
    "\n",
    "# Create new columns in the DataFrame\n",
    "dataframe['month'] = [series.index[i].month for i in range(len(series))]\n",
    "dataframe['day'] = [series.index[i].day for i in range(len(series))]\n",
    "dataframe['temperature'] = [series['Temp'][i] for i in range(len(series))]\n",
    "\n",
    "# Print the first 5 rows of the new DataFrame\n",
    "dataframe.head(5)"
   ]
  },
  {
   "cell_type": "markdown",
   "id": "9e87f6b0",
   "metadata": {},
   "source": [
    "Using just the month and day information alone to predict temperature is not sophisticated and will likely result in a poor model. Nevertheless, this information coupled with additional engineered features may ultimately result in a better model.\n",
    "\n",
    "You may enumerate all the properties of a time-stamp and consider what might be useful for your problem, such as:\n",
    "\n",
    "- Minutes elapsed for the day.\n",
    "- Hour of day.\n",
    "- Business hours or not.\n",
    "- Weekend or not.\n",
    "- Season of the year.\n",
    "- Business quarter of the year.\n",
    "- Daylight savings or not.\n",
    "- Public holiday or not.\n",
    "- Leap year or not.\n",
    "\n",
    "From these examples, you can see that you’re not restricted to the raw integer values. You can use binary flag features as well, like whether or not the observation was recorded on a public holiday.\n",
    "\n",
    "In the case of the minimum temperature dataset, maybe the season would be more relevant. It is creating domain-specific features like this that are more likely to add value to your model.\n",
    "\n",
    "Date-time based features are a good start, but it is often a lot more useful to include the values at previous time steps. These are called lagged values and we will look at adding these features in the next section."
   ]
  },
  {
   "cell_type": "markdown",
   "id": "97d69fe7",
   "metadata": {},
   "source": [
    "### Lag Features\n",
    "Lag features are the classical way that time series forecasting problems are transformed into supervised learning problems.\n",
    "\n",
    "The simplest approach is to predict the value at the next time (t+1) given the value at the previous time (t-1). The supervised learning problem with shifted values looks as follows:\n",
    "\n",
    "- Value(t-1), Value(t+1)\n",
    "\n",
    "The Pandas library provides the shift() function to help create these shifted or lag features from a time series dataset. Shifting the dataset by 1 creates the t-1 column, adding a NaN (unknown) value for the first row. The time series dataset without a shift represents the t+1."
   ]
  },
  {
   "cell_type": "code",
   "execution_count": 32,
   "id": "4fd520aa",
   "metadata": {
    "ExecuteTime": {
     "end_time": "2023-11-24T13:06:01.194068Z",
     "start_time": "2023-11-24T13:06:01.133811Z"
    }
   },
   "outputs": [
    {
     "name": "stdout",
     "output_type": "stream",
     "text": [
      "    t-1   t+1\n",
      "0   NaN  20.7\n",
      "1  20.7  17.9\n",
      "2  17.9  18.8\n",
      "3  18.8  14.6\n",
      "4  14.6  15.8\n"
     ]
    }
   ],
   "source": [
    "from pandas import read_csv\n",
    "from pandas import DataFrame\n",
    "from pandas import concat\n",
    "series = read_csv('../datasets/daily-min-temperatures.csv', header=0, index_col=0)\n",
    "temps = DataFrame(series.values)\n",
    "dataframe = concat([temps.shift(1), temps], axis=1)\n",
    "dataframe.columns = ['t-1', 't+1']\n",
    "print(dataframe.head(5))"
   ]
  },
  {
   "cell_type": "markdown",
   "id": "bc833a3f",
   "metadata": {},
   "source": [
    "You can see that we would have to discard the first row to use the dataset to train a supervised learning model, as it does not contain enough data to work with.\n",
    "\n",
    "The addition of lag features is called the sliding window method, in this case with a window width of 1. It is as though we are sliding our focus along the time series for each observation with an interest in only what is within the window width.\n",
    "\n",
    "We can expand the window width and include more lagged features. For example, below is the above case modified to include the last 3 observed values to predict the value at the next time step."
   ]
  },
  {
   "cell_type": "code",
   "execution_count": 33,
   "id": "6345084b",
   "metadata": {
    "ExecuteTime": {
     "end_time": "2023-11-24T13:07:30.263186Z",
     "start_time": "2023-11-24T13:07:30.206629Z"
    }
   },
   "outputs": [
    {
     "name": "stdout",
     "output_type": "stream",
     "text": [
      "    t-3   t-2   t-1   t+1\n",
      "0   NaN   NaN   NaN  20.7\n",
      "1   NaN   NaN  20.7  17.9\n",
      "2   NaN  20.7  17.9  18.8\n",
      "3  20.7  17.9  18.8  14.6\n",
      "4  17.9  18.8  14.6  15.8\n"
     ]
    }
   ],
   "source": [
    "from pandas import read_csv\n",
    "from pandas import DataFrame\n",
    "from pandas import concat\n",
    "series = read_csv('../datasets/daily-min-temperatures.csv', header=0, index_col=0)\n",
    "temps = DataFrame(series.values)\n",
    "dataframe = concat([temps.shift(3), temps.shift(2), temps.shift(1), temps], axis=1)\n",
    "dataframe.columns = ['t-3', 't-2', 't-1', 't+1']\n",
    "print(dataframe.head(5))"
   ]
  },
  {
   "cell_type": "markdown",
   "id": "8e2a9e89",
   "metadata": {},
   "source": [
    "Again, you can see that we must discard the first few rows that do not have enough data to train a supervised model.\n",
    "\n",
    "A difficulty with the sliding window approach is how large to make the window for your problem.\n",
    "\n",
    "Perhaps a good starting point is to perform a sensitivity analysis and try a suite of different window widths to in turn create a suite of different “views” of your dataset and see which results in better performing models. There will be a point of diminishing returns.\n",
    "\n",
    "Additionally, why stop with a linear window? Perhaps you need a lag value from last week, last month, and last year. Again, this comes down to the specific domain.\n",
    "\n",
    "In the case of the temperature dataset, a lag value from the same day in the previous year or previous few years may be useful.\n",
    "\n",
    "We can do more with a window than include the raw values. In the next section, we’ll look at including features that summarize statistics across the window."
   ]
  },
  {
   "cell_type": "markdown",
   "id": "230f7f42",
   "metadata": {},
   "source": [
    "### Rolling Window Statistics\n"
   ]
  },
  {
   "cell_type": "code",
   "execution_count": null,
   "id": "754ee94c",
   "metadata": {},
   "outputs": [],
   "source": []
  }
 ],
 "metadata": {
  "kernelspec": {
   "display_name": "Python 3 (ipykernel)",
   "language": "python",
   "name": "python3"
  },
  "language_info": {
   "codemirror_mode": {
    "name": "ipython",
    "version": 3
   },
   "file_extension": ".py",
   "mimetype": "text/x-python",
   "name": "python",
   "nbconvert_exporter": "python",
   "pygments_lexer": "ipython3",
   "version": "3.10.12"
  },
  "varInspector": {
   "cols": {
    "lenName": 16,
    "lenType": 16,
    "lenVar": 40
   },
   "kernels_config": {
    "python": {
     "delete_cmd_postfix": "",
     "delete_cmd_prefix": "del ",
     "library": "var_list.py",
     "varRefreshCmd": "print(var_dic_list())"
    },
    "r": {
     "delete_cmd_postfix": ") ",
     "delete_cmd_prefix": "rm(",
     "library": "var_list.r",
     "varRefreshCmd": "cat(var_dic_list()) "
    }
   },
   "types_to_exclude": [
    "module",
    "function",
    "builtin_function_or_method",
    "instance",
    "_Feature"
   ],
   "window_display": false
  }
 },
 "nbformat": 4,
 "nbformat_minor": 5
}
